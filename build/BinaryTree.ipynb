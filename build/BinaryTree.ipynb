{
 "cells": [
  {
   "cell_type": "code",
   "execution_count": 5,
   "metadata": {},
   "outputs": [],
   "source": [
    "import sys\n",
    "import random\n",
    "sys.path.append(\"../\")\n",
    "from pprint import pprint\n",
    "from core.maze import Maze"
   ]
  },
  {
   "cell_type": "markdown",
   "metadata": {},
   "source": [
    "# The Binary Tree Algorithm\n",
    "## How does it work?\n",
    "The binary tree algorithm is a fairly simple algorithm. Consider any node and randomly choose either left or up and carve a path in that direction. Now we do this for every single node.\n",
    "## Is every node connected?\n",
    "Yes every node is connected. We know that for every node we make a decision to go left or to go up. It is trivial to conclude that all the nodes in the first row and first column are connected as they can only go left and up respectively. For the rest of the nodes, we observe that they'll eventually connect to one of these long passages. The algorithm derives its name from the fact that the maze is a binary tree rooted at (0, 0)."
   ]
  },
  {
   "cell_type": "code",
   "execution_count": 6,
   "metadata": {},
   "outputs": [],
   "source": [
    "def BinaryTree(maze):\n",
    "    # Start from 0, 0 and create maze using binary tree algorithm\n",
    "    # Iterate over every node and carve a path to the north or west\n",
    "    for x in range(0, maze.num_rows):\n",
    "        for y in range(0, maze.num_columns):\n",
    "            temp = []\n",
    "            # Check if west is valid\n",
    "            if x > 0:\n",
    "                temp.append('W')\n",
    "            # Check if north is valid\n",
    "            if y > 0:\n",
    "                temp.append('N')\n",
    "            # If neither are valid skip\n",
    "            if len(temp) == 0:\n",
    "                continue\n",
    "            # Choose a random valid direction and carve a path in that direction\n",
    "            direction = random.randint(0, len(temp)-1)\n",
    "            maze.add_path((x, y), temp[direction], 0)"
   ]
  },
  {
   "cell_type": "code",
   "execution_count": 10,
   "metadata": {},
   "outputs": [
    {
     "name": "stdout",
     "output_type": "stream",
     "text": [
      "+---+---+---+---+\n",
      "|               |\n",
      "+   +   +   +   +\n",
      "|   |   |   |   |\n",
      "+   +---+---+---+\n",
      "|               |\n",
      "+   +---+---+   +\n",
      "|           |   |\n",
      "+---+---+---+---+\n",
      "+---+---+---+---+---+---+---+---+\n",
      "|                               |\n",
      "+   +   +   +---+---+   +   +---+\n",
      "|   |   |           |   |       |\n",
      "+   +   +   +   +---+   +   +---+\n",
      "|   |   |   |       |   |       |\n",
      "+   +---+---+---+   +---+   +---+\n",
      "|               |       |       |\n",
      "+   +   +---+   +   +---+---+   +\n",
      "|   |       |   |           |   |\n",
      "+   +---+   +---+---+   +---+   +\n",
      "|       |           |       |   |\n",
      "+   +   +   +   +   +   +---+---+\n",
      "|   |   |   |   |   |           |\n",
      "+   +   +   +---+   +---+---+---+\n",
      "|   |   |       |               |\n",
      "+---+---+---+---+---+---+---+---+\n",
      "+---+---+---+---+---+---+---+---+---+---+---+---+---+---+---+---+\n",
      "|                                                               |\n",
      "+   +   +   +   +   +---+---+   +---+   +   +   +   +   +---+   +\n",
      "|   |   |   |   |           |       |   |   |   |   |       |   |\n",
      "+   +   +---+---+   +   +---+   +   +   +   +   +---+   +---+---+\n",
      "|   |           |   |       |   |   |   |   |       |           |\n",
      "+   +---+---+---+---+   +---+   +   +---+---+---+   +---+---+   +\n",
      "|                   |       |   |               |           |   |\n",
      "+   +---+   +   +   +   +   +---+   +---+   +---+   +---+   +   +\n",
      "|       |   |   |   |   |       |       |       |       |   |   |\n",
      "+   +   +---+   +---+   +---+   +---+   +---+---+   +---+   +   +\n",
      "|   |       |       |       |       |           |       |   |   |\n",
      "+   +   +   +---+   +---+---+---+   +---+---+   +   +---+   +---+\n",
      "|   |   |       |               |           |   |       |       |\n",
      "+   +   +   +   +---+---+   +---+---+---+---+---+---+---+---+   +\n",
      "|   |   |   |           |                                   |   |\n",
      "+   +---+   +   +   +   +---+   +---+   +   +   +---+---+---+---+\n",
      "|       |   |   |   |       |       |   |   |                   |\n",
      "+   +   +---+   +   +---+---+   +   +   +---+---+---+---+---+---+\n",
      "|   |       |   |           |   |   |                           |\n",
      "+   +   +   +---+   +---+---+   +---+   +   +---+   +   +   +---+\n",
      "|   |   |       |           |       |   |       |   |   |       |\n",
      "+   +---+   +---+---+   +   +---+---+   +   +   +---+---+---+   +\n",
      "|       |           |   |           |   |   |               |   |\n",
      "+   +---+---+---+---+---+---+   +---+   +---+---+   +   +---+---+\n",
      "|                           |       |           |   |           |\n",
      "+   +   +---+---+   +---+---+   +---+---+---+   +---+   +---+---+\n",
      "|   |           |           |               |       |           |\n",
      "+   +   +   +   +---+---+   +---+---+---+---+---+   +---+   +   +\n",
      "|   |   |   |           |                       |       |   |   |\n",
      "+   +   +---+---+   +   +---+---+   +---+---+---+---+   +   +   +\n",
      "|   |           |   |           |                   |   |   |   |\n",
      "+---+---+---+---+---+---+---+---+---+---+---+---+---+---+---+---+\n"
     ]
    }
   ],
   "source": [
    "maze = Maze(4, 4)\n",
    "BinaryTree(maze)\n",
    "maze.display()\n",
    "maze = Maze(8, 8)\n",
    "BinaryTree(maze)\n",
    "maze.display()\n",
    "maze = Maze(16, 16)\n",
    "BinaryTree(maze)\n",
    "maze.display()"
   ]
  },
  {
   "cell_type": "markdown",
   "metadata": {},
   "source": [
    "## Basic Analysis\n",
    "Seeing as this is a very basic algorithm and we haven't created tools to analyse our algorithms yet, I put together a couple very obvious things.  \n",
    "### Time Complexity : O(N<sup>2</sup>)  \n",
    "N is the upper bound on the number of rows/columns. Seeing as we do only one pass over the grid in the maze class we iterate over each node only once.\n",
    "### Additional Space : O(1)  \n",
    "We do not have any sizable additional space requirements. The only variable we use in the function is the temp variable that stores directions.\n",
    "### Bias :  \n",
    "There is a clear bias in the maze (that we can see with our own eyes) The paths all appear to flow towards the top left corner. There is also two long straight paths that run along the west and north edges. This is simply because the top left corner is the root of the binary tree that the mazes can be represented as. We can simply move up and left until we reach the root and then travel towards our objective. This maze will not perform very well against human solvers but algorithms will be indifferent to this bias (maybe?)."
   ]
  },
  {
   "cell_type": "code",
   "execution_count": null,
   "metadata": {},
   "outputs": [],
   "source": []
  }
 ],
 "metadata": {
  "kernelspec": {
   "display_name": "Python 3",
   "language": "python",
   "name": "python3"
  },
  "language_info": {
   "codemirror_mode": {
    "name": "ipython",
    "version": 3
   },
   "file_extension": ".py",
   "mimetype": "text/x-python",
   "name": "python",
   "nbconvert_exporter": "python",
   "pygments_lexer": "ipython3",
   "version": "3.8.5"
  }
 },
 "nbformat": 4,
 "nbformat_minor": 4
}
