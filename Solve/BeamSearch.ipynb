{
 "cells": [
  {
   "cell_type": "code",
   "execution_count": 1,
   "metadata": {},
   "outputs": [],
   "source": [
    "import sys\n",
    "sys.path.append(\"../\")\n",
    "from pprint import pprint\n",
    "from Core.maze import Maze, INF\n",
    "\n",
    "from heapq import heappush, heappop"
   ]
  },
  {
   "cell_type": "code",
   "execution_count": 2,
   "metadata": {},
   "outputs": [],
   "source": [
    "def heuristic(src, dst):\n",
    "    # Manhattan Distance\n",
    "    return abs(src[0]-dst[0])+abs(src[1]-dst[1])"
   ]
  },
  {
   "cell_type": "code",
   "execution_count": null,
   "metadata": {},
   "outputs": [],
   "source": [
    "def add_to_beam(beam, new):\n",
    "    if(beam[-1][0] > new[0]):\n",
    "        beam = beam[:-1]\n",
    "        beam.append(new)\n",
    "    beam.sort()\n",
    "    return beam"
   ]
  },
  {
   "cell_type": "code",
   "execution_count": 33,
   "metadata": {},
   "outputs": [],
   "source": [
    "def beam_search(maze, start, goal, beam_width):\n",
    "    # Declarations\n",
    "    neighbors = [(1,0,\"S\"),(-1,0,\"N\"),(0,1,\"E\"),(0,-1,\"W\")]\n",
    "    visited=set()\n",
    "    cameFrom={}\n",
    "    gScore={start:0}\n",
    "    fScore={start:Heuristic(start, goal)}\n",
    "    beam = []\n",
    "    # Initialising the proprity queue with the start node and its f score\n",
    "    beam.append((fScore[start],start))\n",
    "    # Looping till the priority queue is empty\n",
    "    while beam:\n",
    "        current = beam.pop()[1]\n",
    "        # Stops and returns the path if the current node is the target node\n",
    "        if current == goal:\n",
    "            path=[]\n",
    "            while current in cameFrom:\n",
    "                path.append(current)\n",
    "                current = cameFrom[current]\n",
    "            path = path + [start]\n",
    "            path = path[::-1]\n",
    "            return path \n",
    "        # Marking current node as visited\n",
    "        visited.add(current)\n",
    "\n",
    "        for i,j,k in neighbors:\n",
    "            neighbor=(current[0]+i, current[1]+j)\n",
    "            # Checking if the neighbor is out of bounds or if the path to the neighbor is blocked\n",
    "            if neighbor[0] < 0 or neighbor[0] >= len(maze.grid[0]):\n",
    "                continue\n",
    "            if neighbor[1] < 0 or neighbor[1] >= len(maze.grid):\n",
    "                continue\n",
    "            if maze.grid[current[0]][current[1]].neighbors[k] == INF:\n",
    "                continue\n",
    "            # Caloculating g and f scores\n",
    "            tentative_gScore = gScore[current] + maze.grid[current[0]][current[1]].neighbors[k]\n",
    "            tentative_fScore = tentative_gScore + Heuristic(neighbor, goal)\n",
    "            # Checking if the current f score is less than or equal to the calculated one\n",
    "            if neighbor in visited and tentative_fScore >= fScore.get(neighbor, INF):\n",
    "                continue\n",
    "            # Checking if the current f score is greater than the calculated one\n",
    "            if tentative_fScore < fScore.get(neighbor, INF):\n",
    "                cameFrom[neighbor] = current\n",
    "                gScore[neighbor] = tentative_gScore\n",
    "                fScore[neighbor] = tentative_fScore\n",
    "                \n",
    "                # If beam is at maximum width, check if current neighbor should be inserted \n",
    "                if(len(beam) == beam_width):\n",
    "                    if(beam[-1][0] > fScore[neighbor]):\n",
    "                        beam[-1] = (fScore[neighbor], neighbor)\n",
    "                else:\n",
    "                    beam.append((fScore[neighbor], neighbor))\n",
    "                    \n",
    "            #Resort the beam\n",
    "            beam.sort()\n",
    "    return False    # Path does not exist"
   ]
  },
  {
   "cell_type": "code",
   "execution_count": 37,
   "metadata": {},
   "outputs": [
    {
     "name": "stdout",
     "output_type": "stream",
     "text": [
      "Path: \n",
      "[(0, 0), (1, 0), (2, 0), (3, 0), (3, 1), (3, 2), (4, 2), (5, 2), (5, 3), (5, 4), (5, 5), (5, 6), (5, 7), (5, 8), (6, 8), (7, 8), (7, 9), (7, 10), (8, 10), (9, 10), (9, 11), (9, 12), (10, 12), (11, 12), (11, 13), (11, 14), (12, 14), (13, 14), (13, 15), (14, 15), (15, 15)]\n"
     ]
    },
    {
     "data": {
      "image/png": "[encoded data removed]",
      "text/plain": [
       "<PIL.Image.Image image mode=RGBA size=330x330 at 0x7F2A79A7E898>"
      ]
     },
     "metadata": {},
     "output_type": "display_data"
    }
   ],
   "source": [
    "maze = Maze()\n",
    "maze.load(\"BinaryTree_16x16.maze\")\n",
    "\n",
    "start = (0, 0)\n",
    "goal = (15, 15)\n",
    "\n",
    "print(\"Path: \")\n",
    "path = beam_search(maze, start, goal, 6)\n",
    "if path==False:\n",
    "    print(\"No path exists\")\n",
    "else:\n",
    "    print(path)\n",
    "    \n",
    "maze.add_colors(path=path)\n",
    "display(maze.draw(cell_width=20))"
   ]
  },
  {
   "cell_type": "code",
   "execution_count": null,
   "metadata": {},
   "outputs": [],
   "source": []
  }
 ],
 "metadata": {
  "kernelspec": {
   "display_name": "Python 3",
   "language": "python",
   "name": "python3"
  },
  "language_info": {
   "codemirror_mode": {
    "name": "ipython",
    "version": 3
   },
   "file_extension": ".py",
   "mimetype": "text/x-python",
   "name": "python",
   "nbconvert_exporter": "python",
   "pygments_lexer": "ipython3",
   "version": "3.7.3"
  }
 },
 "nbformat": 4,
 "nbformat_minor": 2
}
