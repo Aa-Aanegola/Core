{
 "cells": [
  {
   "cell_type": "code",
   "execution_count": 1,
   "metadata": {},
   "outputs": [],
   "source": [
    "import sys\n",
    "sys.path.append(\"../\")\n",
    "from pprint import pprint\n",
    "from Core.maze import Maze, INF\n",
    "\n",
    "from heapq import heappush, heappop"
   ]
  },
  {
   "cell_type": "code",
   "execution_count": 2,
   "metadata": {},
   "outputs": [],
   "source": [
    "def heuristic(src, dst):\n",
    "    # Manhattan Distance\n",
    "    return abs(src[0]-dst[0])+abs(src[1]-dst[1])"
   ]
  },
  {
   "cell_type": "code",
   "execution_count": 3,
   "metadata": {},
   "outputs": [],
   "source": [
    "def add_to_beam(beam, new, beam_width):\n",
    "    if(len(beam) == beam_width):\n",
    "        if(beam[-1][0] > new[0]):\n",
    "            beam = beam[:-1]\n",
    "    beam.append(new)\n",
    "    beam.sort()\n",
    "    return beam"
   ]
  },
  {
   "cell_type": "code",
   "execution_count": 32,
   "metadata": {},
   "outputs": [],
   "source": [
    "def beam_search(maze, source, destination, beam_width):\n",
    "    \"\"\"\n",
    "    inputs:\n",
    "        start_position:\n",
    "            tuple of x, y position of starting node \n",
    "        maze:\n",
    "            Maze object\n",
    "    \"\"\"\n",
    "    x, y = source\n",
    "    g_score = []\n",
    "    f_score = []\n",
    "    parent = []\n",
    "    beam = []\n",
    "    vis = []\n",
    "    path = []\n",
    "    count = 1\n",
    "    for _ in range(maze.num_rows):\n",
    "        g_score.append([INF for i in range(maze.num_columns)])\n",
    "        f_score.append([INF for i in range(maze.num_columns)])\n",
    "        parent.append(list(bytearray(maze.num_columns)))\n",
    "        vis.append(list(bytearray(maze.num_columns)))\n",
    "        \n",
    "    g_score[x][y] = 0\n",
    "    f_score[x][y] = heuristic(source, destination)\n",
    "    \n",
    "    beam.append((f_score[x][y], (x,y)))\n",
    "    \n",
    "    while(len(beam)):\n",
    "        current = beam.pop()\n",
    "        x, y = current[1]\n",
    "        vis[x][y] = count\n",
    "        count+=1\n",
    "\n",
    "        if((x,y) == destination):\n",
    "            out = [(x,y)]\n",
    "            if(f_score[x][y] == INF):\n",
    "                return []\n",
    "            while(parent[x][y] != 0):\n",
    "                x, y = parent[x][y]\n",
    "                out.append((x,y))\n",
    "            return out[::-1], count\n",
    "\n",
    "        path.append((x,y))\n",
    "\n",
    "        if(x > 0):\n",
    "            if(maze.grid[x][y].neighbors[\"N\"] != INF and vis[x-1][y] == 0):\n",
    "                if(g_score[x-1][y] > g_score[x][y]+maze.grid[x][y].neighbors[\"N\"]):\n",
    "                    g_score[x-1][y] = g_score[x-1][y]+maze.grid[x][y].neighbors[\"N\"]\n",
    "                    f_score[x-1][y] = g_score[x-1][y] + heuristic((x-1, y), destination)\n",
    "                    parent[x-1][y] = (x,y)\n",
    "                    beam = add_to_beam(beam, (f_score[x-1][y], (x-1, y)), beam_width)\n",
    "\n",
    "        if(x < maze.num_rows-1):\n",
    "            if(maze.grid[x][y].neighbors[\"S\"] != INF and vis[x+1][y] == 0):\n",
    "                if(g_score[x+1][y] > g_score[x][y]+maze.grid[x][y].neighbors[\"S\"]):\n",
    "                    g_score[x+1][y] = g_score[x][y]+maze.grid[x][y].neighbors[\"S\"]\n",
    "                    f_score[x+1][y] = g_score[x+1][y] + heuristic((x+1, y), destination)\n",
    "                    parent[x+1][y] = (x,y)\n",
    "                    beam = add_to_beam(beam, (f_score[x+1][y], (x+1, y)), beam_width)\n",
    "\n",
    "        if(y < maze.num_columns-1):\n",
    "            if(maze.grid[x][y].neighbors[\"E\"] != INF and vis[x][y+1] == 0):\n",
    "                if(g_score[x][y+1] > g_score[x][y]+maze.grid[x][y].neighbors[\"E\"]):\n",
    "                    g_score[x][y+1] = g_score[x][y]+maze.grid[x][y].neighbors[\"E\"]\n",
    "                    f_score[x][y+1] = g_score[x][y] + heuristic((x,y+1), destination)\n",
    "                    parent[x][y+1] = (x,y)\n",
    "                    beam = add_to_beam(beam, (f_score[x][y+1], (x, y+1)), beam_width)\n",
    "                    \n",
    "        if(y > 0):\n",
    "            if(maze.grid[x][y].neighbors[\"W\"] != INF and vis[x][y-1] == 0):\n",
    "                if(g_score[x][y-1] > g_score[x][y]+maze.grid[x][y].neighbors[\"W\"]):\n",
    "                    g_score[x][y-1] = g_score[x][y]+maze.grid[x][y].neighbors[\"W\"]\n",
    "                    f_score[x][y-1] = g_score[x][y] + heuristic((x,y-1), destination)\n",
    "                    parent[x][y-1] = (x,y)\n",
    "                    beam = add_to_beam(beam, (f_score[x][y-1], (x, y-1)), beam_width)\n",
    "\n",
    "    return []"
   ]
  },
  {
   "cell_type": "code",
   "execution_count": 39,
   "metadata": {
    "scrolled": false
   },
   "outputs": [
    {
     "name": "stdout",
     "output_type": "stream",
     "text": [
      "117\n",
      "[(0, 0), (1, 0), (2, 0), (3, 0), (3, 1), (3, 2), (4, 2), (5, 2), (5, 3), (5, 4), (5, 5), (5, 6), (5, 7), (5, 8), (6, 8), (7, 8), (7, 9), (7, 10), (8, 10), (9, 10), (9, 11), (9, 12), (10, 12), (11, 12), (11, 13), (11, 14), (12, 14), (13, 14), (13, 15), (14, 15), (15, 15)]\n"
     ]
    },
    {
     "data": {
      "image/png": "[encoded data removed]",
      "text/plain": [
       "<PIL.Image.Image image mode=RGBA size=330x330 at 0x7FC89C5B25F8>"
      ]
     },
     "metadata": {},
     "output_type": "display_data"
    }
   ],
   "source": [
    "maze = Maze()\n",
    "maze.load(\"BinaryTree_16x16.maze\")\n",
    "\n",
    "path, count = beam_search(maze, (0,0), (15,15), 7)\n",
    "print(count)\n",
    "maze.add_colors(path=path)\n",
    "print(path)\n",
    "display(maze.draw(cell_width=20))"
   ]
  },
  {
   "cell_type": "markdown",
   "metadata": {},
   "source": [
    "## Beams Algorithm\n",
    "\n",
    "    Beam search is an optimised best-first search algoritm using BFS. The algorithm chooses b most cost effective nodes to traverse through based on an heuristic function. Only these b (called beam width) nodes are stored in the priority queue.\n",
    "\n",
    "    The heuristic function here needs to defined by us. For mazes one simple heuristic would be to based on the straight line distance from the choice nodes to the exit. b choice nodes with lowest distances will be chosen and stored in memory, the rest ignored.\n",
    "\n",
    "    The beam width is also determined by the programmer, based on the heuristic function chosen. The value will be chosen based on prior testing of width values, to find which works best."
   ]
  },
  {
   "cell_type": "markdown",
   "metadata": {},
   "source": [
    "## Algorithm\n",
    "    OPEN = {initial state} \n",
    "        while OPEN is not empty do \n",
    "            Remove the best node from OPEN, call it n. \n",
    "            If n is the goal state, backtrace path to n (through recorded parents) and return path.\n",
    "            Create n's successors. \n",
    "            Evaluate each successor, add it to OPEN, and record its parent.\n",
    "            If |OPEN| > b , take the best b nodes (according to heuristic) and remove the others from the OPEN. \n",
    "    done"
   ]
  },
  {
   "cell_type": "markdown",
   "metadata": {},
   "source": [
    "### Completeness: Incomplete\n",
    "    Since the the algorithm does not traverse all nodes, and instead takes a greedy strategy, it will not always find a solution.\n",
    "\n",
    "### Complexity\n",
    "    Time Complexity: O(b\\*d) , where b = beam width, d = graph depth\n",
    "    O(bd) is the worst case time complexity as at every level of the graph we may have to update the priority queue entirely, performing b operations at every level (total levels = d).\n",
    "\n",
    "    Space Complexity: O(b) ,  b = beam width\n",
    "    Space complexity is proportional to beam width as the priority queue is the only data structure that stores memory (apart from iterators and the like). Since the priority queue will have b elements, space taken will be proportional to b."
   ]
  },
  {
   "cell_type": "code",
   "execution_count": null,
   "metadata": {},
   "outputs": [],
   "source": []
  }
 ],
 "metadata": {
  "kernelspec": {
   "display_name": "Python 3",
   "language": "python",
   "name": "python3"
  },
  "language_info": {
   "codemirror_mode": {
    "name": "ipython",
    "version": 3
   },
   "file_extension": ".py",
   "mimetype": "text/x-python",
   "name": "python",
   "nbconvert_exporter": "python",
   "pygments_lexer": "ipython3",
   "version": "3.8.5"
  }
 },
 "nbformat": 4,
 "nbformat_minor": 2
}
