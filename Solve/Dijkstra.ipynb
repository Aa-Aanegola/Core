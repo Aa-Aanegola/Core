{
 "cells": [
  {
   "cell_type": "code",
   "execution_count": 2,
   "metadata": {},
   "outputs": [],
   "source": [
    "import sys\n",
    "import heapq\n",
    "sys.path.append(\"../\")\n",
    "from pprint import pprint\n",
    "from Core.maze import Maze\n",
    "INF = float('inf')"
   ]
  },
  {
   "cell_type": "markdown",
   "metadata": {},
   "source": [
    "## Dijkstra\n",
    "### How it works \n",
    "\n",
    "Dijkstra's algorithm is a short path finding algorithm. It finds the shortest path between a source and destination by greedily finding the shortest path from the source to every other node in the graph.  \n",
    "Given a source, it \"relaxes\" all the outgoing edges from that node and the unvisited neighboring nodes are added to a queue. The closest unvisited node is then removed from the queue and the process is repeated till the destination is removed from the queue.   \n",
    "Relaxing an edge $(a,b)$ finds whether a shorter path to $b$ (from the source) can be found by first going to $a$. \n",
    " \n",
    "### Proof of correctness \n",
    "**Notations**    \n",
    "We use the following notations -     \n",
    "\n",
    "| Label | Notation |\n",
    "| - | - |\n",
    "| Source | s |\n",
    "| Set of vertices | V |\n",
    "| Set of visited vertices | S |\n",
    "| Set of edges | E |\n",
    "| Distance between two vertices | $d(u,v)$ |\n",
    "| Minimum distance between two vertices | $\\delta(u,v)$ |   \n",
    "\n",
    "   \n",
    "\n",
    "**Proof**  \n",
    "We made the following induction hypothesis - When a node $u$ is removed from V, $d(u,v) = \\delta(u,v)$   \n",
    "*Base case:*   \n",
    "When $s$ is removed from V and placed in S, $d(s,s) = \\delta(s,s) = 0$. The base case obviously holds.  \n",
    "*Induction step:*    \n",
    "Let $d(u,y) = \\delta(u,y)\\ \\forall y\\ \\epsilon S$ and let $x$ be the first vertex for which the induction hypothesis does not hold.     \n",
    "Let s -> y -> u be the shortest path from $s$ to $u$, where y is the first vertex from $V-S$ on the shortest path.    Let $x$ be the precessor of $y$ in $S$. Since $x$ is in $S$, $d(u,x) = \\delta(u,x)$. When $x$ was removed from V, the edge $(x,y)$ must have been relaxed. So it follows that $d(s,y) = \\delta(s,y)$.    \n",
    "Now, $d(s,y) \\leq d(s,u)$ in the chosen path. However, since $u$ was removed from $y$, $d(s,u) \\leq d(s,y)$. It follows from this that $d(s,y) = d(s,u) = \\delta(s,u)$   \n",
    "\n"
   ]
  },
  {
   "cell_type": "code",
   "execution_count": 1,
   "metadata": {},
   "outputs": [],
   "source": [
    "def dijkstra(maze, source, destination):\n",
    "    \"\"\"\n",
    "    inputs:\n",
    "        start_position:\n",
    "            tuple of x, y position of starting node \n",
    "        maze:\n",
    "            Maze object\n",
    "    \"\"\"\n",
    "    x, y = source\n",
    "    \n",
    "    distance = []\n",
    "    parent = []\n",
    "    priority_q = []\n",
    "    vis = []\n",
    "    path = []\n",
    "    count = 1\n",
    "    for _ in range(maze.num_rows):\n",
    "        distance.append([INF for i in range(maze.num_columns)])\n",
    "        parent.append(list(bytearray(maze.num_columns)))\n",
    "        vis.append(list(bytearray(maze.num_columns)))\n",
    "        \n",
    "    distance[x][y] = 0\n",
    "    \n",
    "    heapq.heappush(priority_q, (distance[x][y], (x,y)))\n",
    "    \n",
    "    while(len(priority_q)):\n",
    "        current = heapq.heappop(priority_q)\n",
    "        x, y = current[1]\n",
    "        vis[x][y] = count\n",
    "        count+=1\n",
    "\n",
    "        if((x,y) == destination):\n",
    "            out = [(x,y)]\n",
    "            if(distance[x][y] == INF):\n",
    "                return []\n",
    "            while(parent[x][y] != 0):\n",
    "                x, y = parent[x][y]\n",
    "                out.append((x,y))\n",
    "            return out[::-1], count\n",
    "\n",
    "        path.append((x,y))\n",
    "\n",
    "        if(x > 0):\n",
    "            if(maze.grid[x][y].neighbors[\"N\"] != INF and vis[x-1][y] == 0):\n",
    "                if(distance[x-1][y] > distance[x][y]+maze.grid[x][y].neighbors[\"N\"]):\n",
    "                    distance[x-1][y] = distance[x][y]+maze.grid[x][y].neighbors[\"N\"]\n",
    "                    parent[x-1][y] = (x,y)\n",
    "                    heapq.heappush(priority_q, (distance[x-1][y], (x-1, y)))\n",
    "        if(x < maze.num_rows-1):\n",
    "            if(maze.grid[x][y].neighbors[\"S\"] != INF and vis[x+1][y] == 0):\n",
    "                if(distance[x+1][y] > distance[x][y]+maze.grid[x][y].neighbors[\"S\"]):\n",
    "                    distance[x+1][y] = distance[x][y]+maze.grid[x][y].neighbors[\"S\"]\n",
    "                    parent[x+1][y] = (x,y)\n",
    "                    heapq.heappush(priority_q, (distance[x+1][y], (x+1, y)))\n",
    "\n",
    "        if(y < maze.num_columns-1):\n",
    "            if(maze.grid[x][y].neighbors[\"E\"] != INF and vis[x][y+1] == 0):\n",
    "                if(distance[x][y+1] > distance[x][y]+maze.grid[x][y].neighbors[\"E\"]):\n",
    "                    distance[x][y+1] = distance[x][y]+maze.grid[x][y].neighbors[\"E\"]\n",
    "                    parent[x][y+1] = (x,y)\n",
    "                    heapq.heappush(priority_q, (distance[x][y+1], (x, y+1)))\n",
    "        if(y > 0):\n",
    "            if(maze.grid[x][y].neighbors[\"W\"] != INF and vis[x][y-1] == 0):\n",
    "                if(distance[x][y-1] > distance[x][y]+maze.grid[x][y].neighbors[\"W\"]):\n",
    "                    distance[x][y-1] = distance[x][y]+maze.grid[x][y].neighbors[\"W\"]\n",
    "                    parent[x][y-1] = (x,y)\n",
    "                    heapq.heappush(priority_q, (distance[x][y-1], (x, y-1)))        \n",
    "    \n",
    "    \n",
    "    return []"
   ]
  },
  {
   "cell_type": "code",
   "execution_count": 16,
   "metadata": {},
   "outputs": [
    {
     "data": {
      "image/png": "[encoded data removed]",
      "text/plain": [
       "<PIL.Image.Image image mode=RGBA size=85x85 at 0x7F8CBC2DD320>"
      ]
     },
     "metadata": {},
     "output_type": "display_data"
    }
   ],
   "source": [
    "maze = Maze(3,3)\n",
    "maze.add_path((0,0), \"S\", 0)\n",
    "maze.add_path((0,1), \"E\", 0)\n",
    "maze.add_path((1,1), \"S\", 0)\n",
    "maze.add_path((1,1), \"E\", 0)\n",
    "maze.add_path((1,2), \"S\", 0)\n",
    "display(maze.draw(cell_width = 25))"
   ]
  },
  {
   "cell_type": "code",
   "execution_count": 17,
   "metadata": {},
   "outputs": [
    {
     "data": {
      "text/plain": [
       "[(0, 0), (1, 0), (1, 1), (2, 1)]"
      ]
     },
     "execution_count": 17,
     "metadata": {},
     "output_type": "execute_result"
    }
   ],
   "source": [
    "dijkstra(maze, (0,0), (2,1))"
   ]
  },
  {
   "cell_type": "code",
   "execution_count": 4,
   "metadata": {},
   "outputs": [
    {
     "name": "stdout",
     "output_type": "stream",
     "text": [
      "257\n",
      "[(0, 0), (1, 0), (2, 0), (3, 0), (3, 1), (3, 2), (4, 2), (5, 2), (5, 3), (5, 4), (5, 5), (5, 6), (5, 7), (5, 8), (6, 8), (7, 8), (7, 9), (7, 10), (8, 10), (9, 10), (9, 11), (9, 12), (10, 12), (11, 12), (11, 13), (11, 14), (12, 14), (13, 14), (13, 15), (14, 15), (15, 15)]\n"
     ]
    },
    {
     "data": {
      "image/png": "[encoded data removed]",
      "text/plain": [
       "<PIL.Image.Image image mode=RGBA size=330x330 at 0x7FCB606D27F0>"
      ]
     },
     "metadata": {},
     "output_type": "display_data"
    }
   ],
   "source": [
    "maze = Maze()\n",
    "maze.load(\"BinaryTree_16x16.maze\")\n",
    "path, count = dijkstra(maze, (0, 0), (15,15))\n",
    "print(count)\n",
    "maze.add_colors(path = path)\n",
    "print(path)\n",
    "display(maze.draw(cell_width=20))"
   ]
  },
  {
   "cell_type": "code",
   "execution_count": null,
   "metadata": {},
   "outputs": [],
   "source": []
  }
 ],
 "metadata": {
  "kernelspec": {
   "display_name": "Python 3",
   "language": "python",
   "name": "python3"
  },
  "language_info": {
   "codemirror_mode": {
    "name": "ipython",
    "version": 3
   },
   "file_extension": ".py",
   "mimetype": "text/x-python",
   "name": "python",
   "nbconvert_exporter": "python",
   "pygments_lexer": "ipython3",
   "version": "3.7.3"
  }
 },
 "nbformat": 4,
 "nbformat_minor": 4
}
