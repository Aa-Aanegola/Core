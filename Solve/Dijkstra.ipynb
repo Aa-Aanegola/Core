{
 "cells": [
  {
   "cell_type": "code",
   "execution_count": 3,
   "metadata": {},
   "outputs": [],
   "source": [
    "import sys\n",
    "import heapq\n",
    "sys.path.append(\"../\")\n",
    "from pprint import pprint\n",
    "from Core.maze import Maze\n",
    "INF = float('inf')"
   ]
  },
  {
   "cell_type": "markdown",
   "metadata": {},
   "source": [
    "## Dijkstra"
   ]
  },
  {
   "cell_type": "code",
   "execution_count": 55,
   "metadata": {},
   "outputs": [],
   "source": [
    "def dijkstra(start_position, maze):\n",
    "    \"\"\"\n",
    "    inputs:\n",
    "        start_position:\n",
    "            tuple of x, y position of starting node \n",
    "        maze:\n",
    "            Maze object\n",
    "    \"\"\"\n",
    "    x, y = start_position\n",
    "    \n",
    "    distance = []\n",
    "    parent = []\n",
    "    priority_q = []\n",
    "    vis = []\n",
    "    path = []\n",
    "    \n",
    "    for _ in range(maze.num_rows):\n",
    "        distance.append([INF for i in range(maze.num_columns)])\n",
    "        parent.append(list(bytearray(maze.num_columns)))\n",
    "        vis.append(list(bytearray(maze.num_columns)))\n",
    "    distance[x][y] = 0\n",
    "    for i in range(maze.num_rows):\n",
    "        for j in range(maze.num_columns):\n",
    "            heapq.heappush(priority_q, (distance[i][j], (i,j)))\n",
    "    \n",
    "    while(len(priority_q)):\n",
    "        current = heapq.heappop(priority_q)\n",
    "        x, y = current[1]\n",
    "        vis[x][y] = 1\n",
    "\n",
    "        if((x,y) != start_position):\n",
    "            if(x == 0 and maze.grid[x][y].neighbors[\"N\"] != INF or \n",
    "               y == 0 and maze.grid[x][y].neighbors[\"W\"] != INF or\n",
    "               x == maze.num_rows-1 and maze.grid[x][y].neighbors[\"S\"] != INF or\n",
    "               y == maze.num_columns-1 and maze.grid[x][y].neighbors[\"E\"] != INF):\n",
    "                out = [(x,y)]\n",
    "                while(parent[x][y] != 0):\n",
    "                    x, y = parent[x][y]\n",
    "                    out.append((x,y))\n",
    "                return out[::-1]\n",
    "\n",
    "        path.append((x,y))\n",
    "\n",
    "        if(x > 0):\n",
    "            if(maze.grid[x][y].neighbors[\"N\"] != INF and vis[x-1][y] == 0):\n",
    "                if(distance[x-1][y] > distance[x][y]+maze.grid[x][y].neighbors[\"N\"]):\n",
    "                    distance[x-1][y] = distance[x][y]+maze.grid[x][y].neighbors[\"N\"]\n",
    "                    parent[x-1][y] = (x,y)\n",
    "        if(x < maze.num_rows-1):\n",
    "            if(maze.grid[x][y].neighbors[\"S\"] != INF and vis[x+1][y] == 0):\n",
    "                if(distance[x+1][y] > distance[x][y]+maze.grid[x][y].neighbors[\"S\"]):\n",
    "                    distance[x+1][y] = distance[x][y]+maze.grid[x][y].neighbors[\"S\"]\n",
    "                    parent[x+1][y] = (x,y)\n",
    "        if(y < maze.num_columns-1):\n",
    "            if(maze.grid[x][y].neighbors[\"E\"] != INF and vis[x][y+1] == 0):\n",
    "                if(distance[x][y+1] > distance[x][y]+maze.grid[x][y].neighbors[\"E\"]):\n",
    "                    distance[x][y+1] = distance[x][y]+maze.grid[x][y].neighbors[\"E\"]\n",
    "                    parent[x][y+1] = (x,y)\n",
    "        if(y > 0):\n",
    "            if(maze.grid[x][y].neighbors[\"W\"] != INF and vis[x][y-1] == 0):\n",
    "                if(distance[x][y-1] > distance[x][y]+maze.grid[x][y].neighbors[\"W\"]):\n",
    "                    distance[x][y-1] = distance[x][y]+maze.grid[x][y].neighbors[\"W\"]\n",
    "                    parent[x][y-1] = (x,y)\n",
    "        \n",
    "        temp = [(lambda: heapq.heappop(priority_q))() for i in range(len(priority_q))]\n",
    "        for i in temp:\n",
    "            x, y = i[1][0], i[1][1]\n",
    "            heapq.heappush(priority_q, (distance[x][y], (x, y)))\n",
    "    \n",
    "    return []"
   ]
  },
  {
   "cell_type": "code",
   "execution_count": 56,
   "metadata": {},
   "outputs": [
    {
     "data": {
      "image/png": "[encoded data removed]",
      "text/plain": [
       "<PIL.Image.Image image mode=RGB size=85x85 at 0x7FA1FB5B7128>"
      ]
     },
     "metadata": {},
     "output_type": "display_data"
    }
   ],
   "source": [
    "maze = Maze(3,3)\n",
    "maze.add_path((0,0), \"S\", 0)\n",
    "maze.add_path((0,1), \"E\", 0)\n",
    "maze.add_path((1,1), \"S\", 0)\n",
    "maze.add_path((1,1), \"E\", 0)\n",
    "maze.add_path((1,2), \"S\", 0)\n",
    "display(maze.draw(cell_width = 25))"
   ]
  },
  {
   "cell_type": "code",
   "execution_count": 57,
   "metadata": {},
   "outputs": [
    {
     "name": "stdout",
     "output_type": "stream",
     "text": [
      "[(0, (0, 0)), (inf, (0, 1)), (inf, (0, 2)), (inf, (1, 0)), (inf, (1, 1)), (inf, (1, 2)), (inf, (2, 0)), (inf, (2, 1)), (inf, (2, 2))]\n",
      "[(0, (1, 0)), (inf, (0, 2)), (inf, (0, 1)), (inf, (1, 1)), (inf, (1, 2)), (inf, (2, 0)), (inf, (2, 1)), (inf, (2, 2))]\n",
      "[(0, (1, 1)), (inf, (0, 2)), (inf, (0, 1)), (inf, (1, 2)), (inf, (2, 0)), (inf, (2, 1)), (inf, (2, 2))]\n",
      "[(0, (1, 2)), (0, (2, 1)), (inf, (0, 1)), (inf, (2, 0)), (inf, (0, 2)), (inf, (2, 2))]\n",
      "[(0, (2, 1)), (inf, (0, 1)), (inf, (0, 2)), (inf, (2, 0)), (inf, (2, 2))]\n"
     ]
    },
    {
     "data": {
      "text/plain": [
       "[(0, 0), (1, 0), (1, 1), (2, 1)]"
      ]
     },
     "execution_count": 57,
     "metadata": {},
     "output_type": "execute_result"
    }
   ],
   "source": [
    "dijkstra((0,0), maze)"
   ]
  },
  {
   "cell_type": "code",
   "execution_count": null,
   "metadata": {},
   "outputs": [],
   "source": []
  }
 ],
 "metadata": {
  "kernelspec": {
   "display_name": "Python 3",
   "language": "python",
   "name": "python3"
  },
  "language_info": {
   "codemirror_mode": {
    "name": "ipython",
    "version": 3
   },
   "file_extension": ".py",
   "mimetype": "text/x-python",
   "name": "python",
   "nbconvert_exporter": "python",
   "pygments_lexer": "ipython3",
   "version": "3.7.3"
  }
 },
 "nbformat": 4,
 "nbformat_minor": 2
}
