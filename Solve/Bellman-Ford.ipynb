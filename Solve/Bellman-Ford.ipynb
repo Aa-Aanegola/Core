{
 "cells": [
  {
   "cell_type": "code",
   "execution_count": 1,
   "metadata": {},
   "outputs": [],
   "source": [
    "import sys\n",
    "import heapq\n",
    "sys.path.append(\"../\")\n",
    "from pprint import pprint\n",
    "from Core.maze import Maze\n",
    "INF = float('inf')"
   ]
  },
  {
   "cell_type": "markdown",
   "metadata": {},
   "source": [
    "## Bellman-Ford"
   ]
  },
  {
   "cell_type": "code",
   "execution_count": 25,
   "metadata": {},
   "outputs": [],
   "source": [
    "def bellman_ford(start_position, maze):\n",
    "    x, y = start_position \n",
    "    distance = []\n",
    "    parent = []\n",
    "    \n",
    "    for _ in range(maze.num_rows):\n",
    "        distance.append([INF for i in range(maze.num_columns)])\n",
    "        parent.append(list(bytearray(maze.num_columns)))\n",
    "    \n",
    "    distance[x][y] = 0\n",
    "    \n",
    "    for _ in range(4*maze.num_rows*maze.num_columns):\n",
    "        for x in range(maze.num_rows):\n",
    "            for y in range(maze.num_columns):\n",
    "                if(x > 0):\n",
    "                    if(maze.grid[x][y].neighbors[\"N\"] != INF):\n",
    "                        if(distance[x-1][y] > distance[x][y]+maze.grid[x][y].neighbors[\"N\"]):\n",
    "                            distance[x-1][y] = distance[x][y]+maze.grid[x][y].neighbors[\"N\"]\n",
    "                            parent[x-1][y] = (x,y)\n",
    "                if(x < maze.num_rows-1):\n",
    "                    if(maze.grid[x][y].neighbors[\"S\"] != INF):\n",
    "                        if(distance[x+1][y] > distance[x][y]+maze.grid[x][y].neighbors[\"S\"]):\n",
    "                            distance[x+1][y] = distance[x][y]+maze.grid[x][y].neighbors[\"S\"]\n",
    "                            parent[x+1][y] = (x,y)\n",
    "                if(y < maze.num_columns-1):\n",
    "                    if(maze.grid[x][y].neighbors[\"E\"] != INF):\n",
    "                        if(distance[x][y+1] > distance[x][y]+maze.grid[x][y].neighbors[\"E\"]):\n",
    "                            distance[x][y+1] = distance[x][y]+maze.grid[x][y].neighbors[\"E\"]\n",
    "                            parent[x][y+1] = (x,y)\n",
    "                if(y > 0):\n",
    "                    if(maze.grid[x][y].neighbors[\"W\"] != INF):\n",
    "                        if(distance[x][y-1] > distance[x][y]+maze.grid[x][y].neighbors[\"W\"]):\n",
    "                            distance[x][y-1] = distance[x][y]+maze.grid[x][y].neighbors[\"W\"]\n",
    "                            parent[x][y-1] = (x,y)\n",
    "\n",
    "    for i in distance:\n",
    "        print(i)\n",
    "        \n",
    "    for x in range(maze.num_rows):\n",
    "        for y in range(maze.num_columns):\n",
    "            if(x > 0):\n",
    "                if(maze.grid[x][y].neighbors[\"N\"] != INF):\n",
    "                    if(distance[x-1][y] > distance[x][y]+maze.grid[x][y].neighbors[\"N\"]):\n",
    "                        return 0\n",
    "            if(x < maze.num_rows-1):\n",
    "                if(maze.grid[x][y].neighbors[\"S\"] != INF):\n",
    "                    if(distance[x+1][y] > distance[x][y]+maze.grid[x][y].neighbors[\"S\"]):\n",
    "                        return 1\n",
    "            if(y < maze.num_columns-1):\n",
    "                if(maze.grid[x][y].neighbors[\"E\"] != INF):\n",
    "                    if(distance[x][y+1] > distance[x][y]+maze.grid[x][y].neighbors[\"E\"]):\n",
    "                        return 2\n",
    "            if(y > 0):\n",
    "                if(maze.grid[x][y].neighbors[\"W\"] != INF):\n",
    "                    if(distance[x][y-1] > distance[x][y]+maze.grid[x][y].neighbors[\"W\"]):\n",
    "                        return 3\n",
    "    \n",
    "    for x in range(maze.num_rows):\n",
    "        for y in (0, maze.num_columns-1):\n",
    "            if((x,y) != start_position):\n",
    "                if(x == 0 and maze.grid[x][y].neighbors[\"N\"] != INF or \n",
    "                   y == 0 and maze.grid[x][y].neighbors[\"W\"] != INF or\n",
    "                   x == maze.num_rows-1 and maze.grid[x][y].neighbors[\"S\"] != INF or\n",
    "                   y == maze.num_columns-1 and maze.grid[x][y].neighbors[\"E\"] != INF):\n",
    "                    out = [(x,y)]\n",
    "                    while(parent[x][y] != 0):\n",
    "                        x, y = parent[x][y]\n",
    "                        out.append((x,y))\n",
    "                    return out[::-1]\n",
    "            \n",
    "    for y in range(maze.num_columns):\n",
    "        for x in (0, maze.num_rows-1):\n",
    "            if((x,y) != start_position):\n",
    "                if(x == 0 and maze.grid[x][y].neighbors[\"N\"] != INF or \n",
    "                   y == 0 and maze.grid[x][y].neighbors[\"W\"] != INF or\n",
    "                   x == maze.num_rows-1 and maze.grid[x][y].neighbors[\"S\"] != INF or\n",
    "                   y == maze.num_columns-1 and maze.grid[x][y].neighbors[\"E\"] != INF):\n",
    "                    out = [(x,y)]\n",
    "                    while(parent[x][y] != 0):\n",
    "                        x, y = parent[x][y]\n",
    "                        out.append((x,y))\n",
    "                    return out[::-1]\n",
    "            \n",
    "    \n",
    "    return []"
   ]
  },
  {
   "cell_type": "code",
   "execution_count": 26,
   "metadata": {},
   "outputs": [
    {
     "data": {
      "image/png": "[encoded data removed]",
      "text/plain": [
       "<PIL.Image.Image image mode=RGB size=85x85 at 0x7F7550756358>"
      ]
     },
     "metadata": {},
     "output_type": "display_data"
    }
   ],
   "source": [
    "maze = Maze(3,3)\n",
    "maze.add_path((0,0), \"S\", 0)\n",
    "maze.add_path((0,1), \"E\", 0)\n",
    "maze.add_path((1,1), \"S\", 0)\n",
    "maze.add_path((1,1), \"E\", 0)\n",
    "maze.add_path((1,2), \"S\", 0)\n",
    "display(maze.draw(cell_width = 25))"
   ]
  },
  {
   "cell_type": "code",
   "execution_count": 27,
   "metadata": {},
   "outputs": [
    {
     "name": "stdout",
     "output_type": "stream",
     "text": [
      "[0, inf, inf]\n",
      "[0, 0, 0]\n",
      "[inf, 0, inf]\n"
     ]
    },
    {
     "data": {
      "text/plain": [
       "[(0, 0), (1, 0), (1, 1), (2, 1)]"
      ]
     },
     "execution_count": 27,
     "metadata": {},
     "output_type": "execute_result"
    }
   ],
   "source": [
    "bellman_ford((0,0), maze)"
   ]
  },
  {
   "cell_type": "code",
   "execution_count": null,
   "metadata": {},
   "outputs": [],
   "source": []
  }
 ],
 "metadata": {
  "kernelspec": {
   "display_name": "Python 3",
   "language": "python",
   "name": "python3"
  },
  "language_info": {
   "codemirror_mode": {
    "name": "ipython",
    "version": 3
   },
   "file_extension": ".py",
   "mimetype": "text/x-python",
   "name": "python",
   "nbconvert_exporter": "python",
   "pygments_lexer": "ipython3",
   "version": "3.7.3"
  }
 },
 "nbformat": 4,
 "nbformat_minor": 2
}
