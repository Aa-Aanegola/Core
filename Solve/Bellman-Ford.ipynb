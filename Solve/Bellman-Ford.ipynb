{
 "cells": [
  {
   "cell_type": "code",
   "execution_count": 1,
   "metadata": {},
   "outputs": [],
   "source": [
    "import sys\n",
    "import heapq\n",
    "sys.path.append(\"../\")\n",
    "from pprint import pprint\n",
    "from Core.maze import Maze\n",
    "INF = float('inf')"
   ]
  },
  {
   "cell_type": "markdown",
   "metadata": {},
   "source": [
    "## Bellman-Ford"
   ]
  },
  {
   "cell_type": "code",
   "execution_count": 2,
   "metadata": {},
   "outputs": [],
   "source": [
    "def bellman_ford(maze, source, destination):\n",
    "    x, y = source \n",
    "    distance = []\n",
    "    parent = []\n",
    "    \n",
    "    for _ in range(maze.num_rows):\n",
    "        distance.append([INF for i in range(maze.num_columns)])\n",
    "        parent.append(list(bytearray(maze.num_columns)))\n",
    "    \n",
    "    distance[x][y] = 0\n",
    "    \n",
    "    for _ in range(4*maze.num_rows*maze.num_columns):\n",
    "        for x in range(maze.num_rows):\n",
    "            for y in range(maze.num_columns):\n",
    "                if(x > 0):\n",
    "                    if(maze.grid[x][y].neighbors[\"N\"] != INF):\n",
    "                        if(distance[x-1][y] > distance[x][y]+maze.grid[x][y].neighbors[\"N\"]):\n",
    "                            distance[x-1][y] = distance[x][y]+maze.grid[x][y].neighbors[\"N\"]\n",
    "                            parent[x-1][y] = (x,y)\n",
    "                if(x < maze.num_rows-1):\n",
    "                    if(maze.grid[x][y].neighbors[\"S\"] != INF):\n",
    "                        if(distance[x+1][y] > distance[x][y]+maze.grid[x][y].neighbors[\"S\"]):\n",
    "                            distance[x+1][y] = distance[x][y]+maze.grid[x][y].neighbors[\"S\"]\n",
    "                            parent[x+1][y] = (x,y)\n",
    "                if(y < maze.num_columns-1):\n",
    "                    if(maze.grid[x][y].neighbors[\"E\"] != INF):\n",
    "                        if(distance[x][y+1] > distance[x][y]+maze.grid[x][y].neighbors[\"E\"]):\n",
    "                            distance[x][y+1] = distance[x][y]+maze.grid[x][y].neighbors[\"E\"]\n",
    "                            parent[x][y+1] = (x,y)\n",
    "                if(y > 0):\n",
    "                    if(maze.grid[x][y].neighbors[\"W\"] != INF):\n",
    "                        if(distance[x][y-1] > distance[x][y]+maze.grid[x][y].neighbors[\"W\"]):\n",
    "                            distance[x][y-1] = distance[x][y]+maze.grid[x][y].neighbors[\"W\"]\n",
    "                            parent[x][y-1] = (x,y)\n",
    "        \n",
    "    for x in range(maze.num_rows):\n",
    "        for y in range(maze.num_columns):\n",
    "            if(x > 0):\n",
    "                if(maze.grid[x][y].neighbors[\"N\"] != INF):\n",
    "                    if(distance[x-1][y] > distance[x][y]+maze.grid[x][y].neighbors[\"N\"]):\n",
    "                        return 0\n",
    "            if(x < maze.num_rows-1):\n",
    "                if(maze.grid[x][y].neighbors[\"S\"] != INF):\n",
    "                    if(distance[x+1][y] > distance[x][y]+maze.grid[x][y].neighbors[\"S\"]):\n",
    "                        return 1\n",
    "            if(y < maze.num_columns-1):\n",
    "                if(maze.grid[x][y].neighbors[\"E\"] != INF):\n",
    "                    if(distance[x][y+1] > distance[x][y]+maze.grid[x][y].neighbors[\"E\"]):\n",
    "                        return 2\n",
    "            if(y > 0):\n",
    "                if(maze.grid[x][y].neighbors[\"W\"] != INF):\n",
    "                    if(distance[x][y-1] > distance[x][y]+maze.grid[x][y].neighbors[\"W\"]):\n",
    "                        return 3\n",
    "    \n",
    "    for x in range(maze.num_rows):\n",
    "        for y in (0, maze.num_columns-1):\n",
    "            if((x,y) == destination):\n",
    "                out = [(x,y)]\n",
    "                while(parent[x][y] != 0):\n",
    "                    x, y = parent[x][y]\n",
    "                    out.append((x,y))\n",
    "                return out[::-1]\n",
    "    \n",
    "    return []"
   ]
  },
  {
   "cell_type": "code",
   "execution_count": 3,
   "metadata": {},
   "outputs": [
    {
     "data": {
      "image/png": "[encoded data removed]",
      "text/plain": [
       "<PIL.Image.Image image mode=RGBA size=85x85 at 0x7FCF88125518>"
      ]
     },
     "metadata": {},
     "output_type": "display_data"
    }
   ],
   "source": [
    "maze = Maze(3,3)\n",
    "maze.add_path((0,0), \"S\", 0)\n",
    "maze.add_path((0,1), \"E\", 0)\n",
    "maze.add_path((1,1), \"S\", 0)\n",
    "maze.add_path((1,1), \"E\", 0)\n",
    "maze.add_path((1,2), \"S\", 0)\n",
    "display(maze.draw(cell_width = 25))"
   ]
  },
  {
   "cell_type": "code",
   "execution_count": 4,
   "metadata": {},
   "outputs": [
    {
     "data": {
      "text/plain": [
       "[(0, 0), (1, 0), (1, 1), (1, 2)]"
      ]
     },
     "execution_count": 4,
     "metadata": {},
     "output_type": "execute_result"
    }
   ],
   "source": [
    "bellman_ford(maze, (0,0), (1,2))"
   ]
  },
  {
   "cell_type": "code",
   "execution_count": 7,
   "metadata": {},
   "outputs": [
    {
     "name": "stdout",
     "output_type": "stream",
     "text": [
      "[(0, 0), (1, 0), (2, 0), (3, 0), (3, 1), (3, 2), (4, 2), (5, 2), (5, 3), (5, 4), (5, 5), (5, 6), (5, 7), (5, 8), (6, 8), (7, 8), (7, 9), (7, 10), (8, 10), (9, 10), (9, 11), (9, 12), (10, 12), (11, 12), (11, 13), (11, 14), (12, 14), (13, 14), (13, 15), (14, 15), (15, 15)]\n"
     ]
    },
    {
     "data": {
      "image/png": "[encoded data removed]",
      "text/plain": [
       "<PIL.Image.Image image mode=RGBA size=330x330 at 0x7FCF881255C0>"
      ]
     },
     "metadata": {},
     "output_type": "display_data"
    }
   ],
   "source": [
    "maze = Maze()\n",
    "maze.load(\"BinaryTree_16x16.maze\")\n",
    "path = bellman_ford(maze, (0,0), (15,15))\n",
    "print(path)\n",
    "maze.add_colors(path = path)\n",
    "display(maze.draw(cell_width=20))"
   ]
  },
  {
   "cell_type": "markdown",
   "metadata": {},
   "source": [
    "## Proof of Correctness\n",
    "\n",
    "Proof by induction:\n",
    "<br>\n",
    "Lemma- After `i` iterations of the for loop:\n",
    "+ if Distance(u) is not infinity, it is equal to the length of some path from s to u; and\n",
    "+ if there is a path from s to u with at most i edges,\n",
    "\n",
    "then Distance(u) is at most the length of the shortest path from `s` to `u` with at most `i` edges.\n",
    "\n",
    "Proof:- For the base case of induction, consider `i=0` and the moment before for loop is executed for the first time. Then, for the source vertex, `source.distance = 0`, which is correct. For other vertices `u`, `u.distance = infinity`, which is also correct because there is no path from source to `u` with 0 edges.\n",
    "\n",
    "For the inductive case, we first prove the first part. Consider a moment when a vertex's distance is updated by `v.distance := u.distance + uv.weight`. By inductive assumption, `u.distance` is the length of some path from source to `u`. Then `u.distance + uv.weight` is the length of the path from source to `v` that follows the path from source to `u` and then goes to `v`.\n",
    "\n",
    "For the second part, consider a shortest path P (there may be more than one) from source to `v` with at most i edges. Let `u` be the last vertex before `v` on this path. Then, the part of the path from source to `u` is a shortest path from source to `u` with at most `i-1` edges, since if it were not, then there must be some strictly shorter path from source to `u` with at most `i-1` edges, and we could then append the edge `uv` to this path to obtain a path with at most `i` edges that is strictly shorter than `P—a` contradiction. By inductive assumption, `u.distance` after `i−1` iterations is at most the length of this path from source to `u`. Therefore, `uv.weight + u.distance` is at most the length of P. In the ith iteration, `v.distance` gets compared with `uv.weight + u.distance`, and is set equal to it if `uv.weight + u.distance` is smaller. Therefore, after `i` iterations, `v.distance` is at most the length of P, i.e., the length of the shortest path from source to `v` that uses at most `i` edges.\n",
    "\n",
    "If there are no negative-weight cycles, then every shortest path visits each vertex at most once, so at step 3 no further improvements can be made. Conversely, suppose no improvement can be made. Then for any cycle with vertices `v[0], ..., v[k−1]`,<br>\n",
    "`v[i].distance <= v[(i-1) (mod k)].distance + v[(i-1) (mod k)]v[i].weight`\n",
    "\n",
    "Summing around the cycle, the `v[i].distance` and `v[i−1 (mod k)].distance` terms cancel, leaving\n",
    "\n",
    "`0 <= sum from 1 to k of v[i-1 (mod k)]v[i].weight`\n",
    "\n",
    "I.e., every cycle has nonnegative weight."
   ]
  },
  {
   "cell_type": "code",
   "execution_count": null,
   "metadata": {},
   "outputs": [],
   "source": []
  }
 ],
 "metadata": {
  "kernelspec": {
   "display_name": "Python 3",
   "language": "python",
   "name": "python3"
  },
  "language_info": {
   "codemirror_mode": {
    "name": "ipython",
    "version": 3
   },
   "file_extension": ".py",
   "mimetype": "text/x-python",
   "name": "python",
   "nbconvert_exporter": "python",
   "pygments_lexer": "ipython3",
   "version": "3.8.5"
  }
 },
 "nbformat": 4,
 "nbformat_minor": 4
}
