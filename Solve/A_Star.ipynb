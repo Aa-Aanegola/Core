{
 "cells": [
  {
   "cell_type": "markdown",
   "metadata": {},
   "source": [
    "# A* Algorithm\n",
    "A* algorithm is used for path-finding and graph traversals.  \n",
    "  \n",
    "## Why is it used?\n",
    "Dijkstra follows the path which is the current shortest, but does not look if it is towards the target or not. Hence it is not very optimal. A* is a Dijkstra with an additional heuristic to ensure that the path taken is towards the target.  \n",
    "  \n",
    "## How it works?\n",
    "A heuristic function is defined to find the distance between 2 vertices in the graph.  \n",
    "The heuristic can be Euclidean distance, Manhattan distance or anything, but it has to be decided.  \n",
    "  \n",
    "The g score of a vertex denotes the distance from the start vertex to that vertex.  \n",
    "The f score of a vertex is the sum of the g score and the heuristic value.  \n",
    "  \n",
    "The necessary initializations are made and the start vertex and its f score are pushed into the priority queue, which denotes the open vertices.  \n",
    "While the priority queue is not empty, each vertex is popped off. If it is the goal vertex, the loop stops and the path is returned. When the queue is empty and the goal vertex is not reached, boolean False value is returned.  \n",
    "The current vertex is marked as visited. The neigbors of the current vertex are looped through, checking if they are out of bonds or if the path to it is blocked.  \n",
    "The g and f scores are calculated, and if the calculated f score of the neigbor is less than the current one, the values are assigned and it is pusehed into the priority queue.  \n",
    "  \n",
    "## Analysis\n",
    "Consider a graph of E edges and V vertices.\n",
    "### Time Complexity\n",
    "The time complexity depends on the heuristic used. In the worst case, the number of nodes expanded is exponential in the depth of the shortest path. The time complexity is polynomial when the search space is a tree.\n",
    "  \n",
    "### Space Complexity\n",
    "For each vertex, the vertex which it came from, the f score and g score are stored. Also, the priotiy queue and visited set may contain all the vertices. Hence space complexity is O(V)"
   ]
  },
  {
   "cell_type": "markdown",
   "metadata": {},
   "source": [
    "## Imports"
   ]
  },
  {
   "cell_type": "code",
   "execution_count": null,
   "metadata": {},
   "outputs": [],
   "source": [
    "import sys\n",
    "sys.path.append(\"../\")\n",
    "from pprint import pprint\n",
    "from Core.maze import Maze, INF\n",
    "\n",
    "from heapq import heappush, heappop"
   ]
  },
  {
   "cell_type": "markdown",
   "metadata": {},
   "source": [
    "## Heuristic Function"
   ]
  },
  {
   "cell_type": "code",
   "execution_count": null,
   "metadata": {},
   "outputs": [],
   "source": [
    "def Heuristic(a, b):\n",
    "    # The heurisitc used is Manhattan distance since only 4 directions are possible from a particular point\n",
    "    return abs(a[0]-b[0])+abs(a[1]-b[1])"
   ]
  },
  {
   "cell_type": "markdown",
   "metadata": {},
   "source": [
    "## A* Function"
   ]
  },
  {
   "cell_type": "code",
   "execution_count": null,
   "metadata": {},
   "outputs": [],
   "source": [
    "def AStar(maze, start, goal):\n",
    "    # Declarations\n",
    "    neighbors = [(1,0,\"S\"),(-1,0,\"N\"),(0,1,\"E\"),(0,-1,\"W\")]\n",
    "    visited=set()\n",
    "    cameFrom={}\n",
    "    gScore={start:0}\n",
    "    fScore={start:Heuristic(start, goal)}\n",
    "    priorityQ=[]\n",
    "    # Initialising the proprity queue with the start node and its f score\n",
    "    heappush(priorityQ, (fScore[start],start))\n",
    "    # Looping till the priority queue is empty\n",
    "    while priorityQ:\n",
    "        current = heappop(priorityQ)[1]\n",
    "        # Stops and returns the path if the current node is the target node\n",
    "        if current == goal:\n",
    "            path=[]\n",
    "            while current in cameFrom:\n",
    "                path.append(current)\n",
    "                current = cameFrom[current]\n",
    "            path = path + [start]\n",
    "            path = path[::-1]\n",
    "            return path \n",
    "        # Marking current node as visited\n",
    "        visited.add(current)\n",
    "\n",
    "        for i,j,k in neighbors:\n",
    "            neighbor=(current[0]+i, current[1]+j)\n",
    "            # Checking if the neighbor is out of bounds or if the path to the neighbor is blocked\n",
    "            if neighbor[0] < 0 or neighbor[0] >= len(maze.grid[0]):\n",
    "                continue\n",
    "            if neighbor[1] < 0 or neighbor[1] >= len(maze.grid):\n",
    "                continue\n",
    "            if maze.grid[current[0]][current[1]].neighbors[k] == INF:\n",
    "                continue\n",
    "            # Caloculating g and f scores\n",
    "            tentative_gScore = gScore[current] + maze.grid[current[0]][current[1]].neighbors[k]\n",
    "            tentative_fScore = tentative_gScore + Heuristic(neighbor, goal)\n",
    "            # Checking if the current f score is less than or equal to the calculated one\n",
    "            if neighbor in visited and tentative_fScore >= fScore.get(neighbor, INF):\n",
    "                continue\n",
    "            # Checking if the current f score is greater than the calculated one\n",
    "            if tentative_fScore < fScore.get(neighbor, INF):\n",
    "                cameFrom[neighbor] = current\n",
    "                gScore[neighbor] = tentative_gScore\n",
    "                fScore[neighbor] = tentative_fScore\n",
    "                heappush(priorityQ, (fScore[neighbor], neighbor))\n",
    "    return False    # Path does not exist"
   ]
  },
  {
   "cell_type": "markdown",
   "metadata": {},
   "source": [
    "## Main"
   ]
  },
  {
   "cell_type": "code",
   "execution_count": null,
   "metadata": {},
   "outputs": [],
   "source": [
    "maze = Maze()\n",
    "maze.load(\"BinaryTree_16x16.maze\")\n",
    "\n",
    "start = (0, 0)\n",
    "goal = (15, 15)\n",
    "\n",
    "print(\"Path: \")\n",
    "path = AStar(maze, start, goal)\n",
    "if path==False:\n",
    "    print(\"No path exists\")\n",
    "else:\n",
    "    print(path)\n",
    "    \n",
    "maze.add_colors(path=path)\n",
    "display(maze.draw(cell_width=20))"
   ]
  },
  {
   "cell_type": "code",
   "execution_count": null,
   "metadata": {},
   "outputs": [],
   "source": [
    "maze = Maze()\n",
    "maze.load(\"Aldous-Broder_16x16.maze\")\n",
    "\n",
    "start = (0, 0)\n",
    "goal = (15, 15)\n",
    "\n",
    "print(\"Path: \")\n",
    "path = AStar(maze, start, goal)\n",
    "if path==False:\n",
    "    print(\"No path exists\")\n",
    "else:\n",
    "    print(path)\n",
    "    \n",
    "maze.add_colors(path=path)\n",
    "display(maze.draw(cell_width=20))"
   ]
  },
  {
   "cell_type": "code",
   "execution_count": null,
   "metadata": {},
   "outputs": [],
   "source": [
    "maze = Maze()\n",
    "maze.load(\"Kruskals_16x16.maze\")\n",
    "\n",
    "start = (0, 0)\n",
    "goal = (15, 15)\n",
    "\n",
    "print(\"Path: \")\n",
    "path = AStar(maze, start, goal)\n",
    "if path==False:\n",
    "    print(\"No path exists\")\n",
    "else:\n",
    "    print(path)\n",
    "\n",
    "maze.add_colors(path=path)\n",
    "display(maze.draw(cell_width=20))"
   ]
  }
 ],
 "metadata": {
  "kernelspec": {
   "display_name": "Python 3",
   "language": "python",
   "name": "python3"
  },
  "language_info": {
   "codemirror_mode": {
    "name": "ipython",
    "version": 3
   },
   "file_extension": ".py",
   "mimetype": "text/x-python",
   "name": "python",
   "nbconvert_exporter": "python",
   "pygments_lexer": "ipython3",
   "version": "3.8.5-final"
  }
 },
 "nbformat": 4,
 "nbformat_minor": 4
}