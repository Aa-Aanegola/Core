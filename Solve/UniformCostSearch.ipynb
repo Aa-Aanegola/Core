{
 "metadata": {
  "language_info": {
   "codemirror_mode": {
    "name": "ipython",
    "version": 3
   },
   "file_extension": ".py",
   "mimetype": "text/x-python",
   "name": "python",
   "nbconvert_exporter": "python",
   "pygments_lexer": "ipython3",
   "version": "3.8.2-final"
  },
  "orig_nbformat": 2,
  "kernelspec": {
   "name": "python38264bitbe7ee439bedb4c879f7f9cfeefc2ad87",
   "display_name": "Python 3.8.2 64-bit"
  }
 },
 "nbformat": 4,
 "nbformat_minor": 2,
 "cells": [
  {
   "cell_type": "code",
   "execution_count": 1,
   "metadata": {},
   "outputs": [],
   "source": [
    "import sys\n",
    "sys.path.append(\"../\")\n",
    "\n",
    "from pprint import pprint\n",
    "from Core.maze import Maze, INF\n",
    "\n",
    "import random\n",
    "from queue import PriorityQueue"
   ]
  },
  {
   "cell_type": "code",
   "execution_count": 2,
   "metadata": {},
   "outputs": [],
   "source": [
    "def BinaryTree(maze, min_value):\n",
    "    flag = 0\n",
    "    for x in range(0, maze.num_rows):\n",
    "        for y in range(0, maze.num_columns):\n",
    "            temp = []\n",
    "            if x > 0:\n",
    "                temp.append('W')\n",
    "            if y > 0:\n",
    "                temp.append('N')\n",
    "            if len(temp) == 0:\n",
    "                continue\n",
    "            direction = random.randint(0, len(temp)-1)\n",
    "            maze.add_path((x, y), temp[direction], random.randint(min_value, 10))"
   ]
  },
  {
   "cell_type": "code",
   "execution_count": 36,
   "metadata": {},
   "outputs": [],
   "source": [
    "def uniform_cost_search(maze, start, end):\n",
    "    \n",
    "    # setup\n",
    "    explored = set()\n",
    "    frontier = PriorityQueue()\n",
    "    node = start\n",
    "    cost = 0\n",
    "    n_rows = len(maze.grid)\n",
    "    n_cols = len(maze.grid[0])\n",
    "    parents = [[(-1, -1)]*n_cols for i in range(n_rows)]\n",
    "\n",
    "\n",
    "    # init\n",
    "    frontier.put((cost, node))\n",
    "    while not frontier.empty():\n",
    "        cost, node = frontier.get()\n",
    "        if node == end:\n",
    "            return True, cost, parents\n",
    "\n",
    "        explored.add(node)\n",
    "        x, y = node\n",
    "\n",
    "        neighbors = maze.grid[x][y].neighbors\n",
    "        if neighbors['N'] != INF and (x-1, y) not in explored and x>0:\n",
    "            frontier.put((cost+neighbors['N'], (x-1, y)))\n",
    "            parents[x-1][y] = (x, y)\n",
    "        if neighbors['S'] != INF and (x+1, y) not in explored and x+1<n_rows:\n",
    "            frontier.put((cost+neighbors['S'], (x+1, y)))\n",
    "            parents[x+1][y] = (x, y)\n",
    "        if neighbors['E'] != INF and (x, y+1) not in explored and y+1<n_cols:\n",
    "            frontier.put((cost+neighbors['E'], (x, y+1)))\n",
    "            parents[x][y+1] = (x, y)\n",
    "        if neighbors['W'] != INF and (x, y-1) not in explored and y>0:\n",
    "            frontier.put((cost+neighbors['W'], (x, y-1)))\n",
    "            parents[x][y-1] = (x, y)\n",
    "\n",
    "\n",
    "    return False, -1, []\n"
   ]
  },
  {
   "cell_type": "code",
   "execution_count": 42,
   "metadata": {},
   "outputs": [
    {
     "output_type": "display_data",
     "data": {
      "text/plain": "<PIL.Image.Image image mode=RGBA size=410x410 at 0x7F8F79278C40>",
      "image/png": "[encoded data removed]"
     },
     "metadata": {}
    }
   ],
   "source": [
    "maze = Maze()\n",
    "maze.load(\"BinaryTree_8x8.maze\")\n",
    "\n",
    "start = (0, 0)\n",
    "end = (8-1, 8-1)\n",
    "\n",
    "found, cost, parents = uniform_cost_search(maze, start, end)\n",
    "\n",
    "node = end\n",
    "path = [node]\n",
    "while node != start:\n",
    "    node = parents[node[0]][node[1]]\n",
    "    path.append(node)\n",
    "\n",
    "if found:\n",
    "    # print(\"Cost is: \", cost)\n",
    "    # print(path)\n",
    "    maze.add_colors(path = path)\n",
    "    display(maze.draw())\n",
    "else:\n",
    "    print(\"Path not found!\")"
   ]
  },
  {
   "source": [
    "# Dump\n",
    "\n",
    "## General Over-view\n",
    "https://en.wikipedia.org/wiki/Dijkstra%27s_algorithm#Practical_optimizations_and_infinite_graphs\n",
    "\n",
    "## Proof by induction\n",
    "https://stackoverflow.com/questions/37641415/how-to-prove-that-uniform-cost-search-algorithm-always-output-optimal-path\n",
    "\n",
    "## PQ in python3\n",
    "https://docs.python.org/3/library/queue.html\n",
    "\n",
    "## Dijkstra VS UCS\n",
    "Dijkstra's Algorithm finds the shortest path from the root node to every other node. uniform cost searches for shortest paths in terms of cost from the root node to a goal node. Uniform Cost Search is Dijkstra's Algorithm which is focused on finding a single shortest path to a single finishing point rather than the shortest path to every point.\n",
    "\n",
    "UCS does this by stopping as soon as the finishing point is found. For Dijkstra, there is no goal state and processing continues until all nodes have been removed from the priority queue, i.e. until shortest paths to all nodes (not just a goal node) have been determined.\n",
    "\n",
    "UCS has fewer space requirements, where the priority queue is filled gradually as opposed to Dijkstra's, which adds all nodes to the queue on start with an infinite cost.\n",
    "\n",
    "As a result of the above points, Dijkstra is more time consuming than UCS\n",
    "\n",
    "UCS is usually formulated on trees while Dijkstra is used on general graphs\n",
    "\n",
    "Djikstra is only applicable in explicit graphs where the entire graph is given as input. UCS starts with the source vertex and gradually traverses the necessary parts of the graph. Therefore, it is applicable for both explicit graphs and implicit graphs (where states/nodes are generated)."
   ],
   "cell_type": "markdown",
   "metadata": {}
  }
 ]
}