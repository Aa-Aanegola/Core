{
 "cells": [
  {
   "cell_type": "code",
   "execution_count": 1,
   "metadata": {},
   "outputs": [],
   "source": [
    "import sys\n",
    "sys.path.append(\"../\")\n",
    "\n",
    "from pprint import pprint\n",
    "from Core.maze import Maze, INF\n",
    "\n",
    "import random\n",
    "from queue import PriorityQueue"
   ]
  },
  {
   "cell_type": "code",
   "execution_count": 2,
   "metadata": {},
   "outputs": [],
   "source": [
    "def uniform_cost_search(maze, start, end):\n",
    "    \n",
    "    # setup\n",
    "    explored = set()\n",
    "    frontier = PriorityQueue()\n",
    "    node = start\n",
    "    cost = 0\n",
    "    n_rows = len(maze.grid)\n",
    "    n_cols = len(maze.grid[0])\n",
    "    parents = [[(-1, -1)]*n_cols for i in range(n_rows)]\n",
    "\n",
    "\n",
    "    # init\n",
    "    frontier.put((cost, node))\n",
    "    while not frontier.empty():\n",
    "        cost, node = frontier.get()\n",
    "        if node == end:\n",
    "            return True, cost, parents\n",
    "\n",
    "        explored.add(node)\n",
    "        x, y = node\n",
    "\n",
    "        neighbors = maze.grid[x][y].neighbors\n",
    "        if neighbors['N'] != INF and (x-1, y) not in explored and x>0:\n",
    "            frontier.put((cost+neighbors['N'], (x-1, y)))\n",
    "            parents[x-1][y] = (x, y)\n",
    "        if neighbors['S'] != INF and (x+1, y) not in explored and x+1<n_rows:\n",
    "            frontier.put((cost+neighbors['S'], (x+1, y)))\n",
    "            parents[x+1][y] = (x, y)\n",
    "        if neighbors['E'] != INF and (x, y+1) not in explored and y+1<n_cols:\n",
    "            frontier.put((cost+neighbors['E'], (x, y+1)))\n",
    "            parents[x][y+1] = (x, y)\n",
    "        if neighbors['W'] != INF and (x, y-1) not in explored and y>0:\n",
    "            frontier.put((cost+neighbors['W'], (x, y-1)))\n",
    "            parents[x][y-1] = (x, y)\n",
    "\n",
    "\n",
    "    return False, -1, []\n"
   ]
  },
  {
   "cell_type": "code",
   "execution_count": 3,
   "metadata": {},
   "outputs": [
    {
     "data": {
      "image/png": "[encoded data removed]",
      "text/plain": [
       "<PIL.Image.Image image mode=RGBA size=410x410 at 0x7FF9440A4F70>"
      ]
     },
     "metadata": {},
     "output_type": "display_data"
    }
   ],
   "source": [
    "maze = Maze()\n",
    "maze.load(\"BinaryTree_8x8.maze\")\n",
    "\n",
    "start = (0, 0)\n",
    "end = (8-1, 8-1)\n",
    "\n",
    "found, cost, parents = uniform_cost_search(maze, start, end)\n",
    "\n",
    "node = end\n",
    "path = [node]\n",
    "while node != start:\n",
    "    node = parents[node[0]][node[1]]\n",
    "    path.append(node)\n",
    "\n",
    "if found:\n",
    "    # print(\"Cost is: \", cost)\n",
    "    # print(path)\n",
    "    maze.add_colors(path = path)\n",
    "    display(maze.draw())\n",
    "else:\n",
    "    print(\"Path not found!\")"
   ]
  },
  {
   "cell_type": "markdown",
   "metadata": {},
   "source": [
    "# Uniform Cost Search\n",
    "\n",
    "## Dijkstra VS UCS\n",
    "Dijkstra's Algorithm find the shortest path from the start node to all other nodess. But, we don't need to do that, since we have a goal in mind already. We can stop as soon as we reach the goal. This speeds up the algorithm for our purposes.\n",
    "\n",
    "We also note the fewer space requirements in the UCS algorithm. Since we do not assign all the nodes with -inf weight; we simply insert into the Priority Queue as we find a better and better node. In essence, the UCS algorithm takes lesser time, and lesser space than the dijkstra.\n",
    "\n",
    "NOTE: One bonus is that it works on mazes and graphs that are not fully formed, that is, one where the nodes are generated on-the-go. This dijkstra can not do.\n",
    "\n",
    "## Proof of Optimality\n",
    "Proof by Induction\n",
    "\n",
    "base case: when the start node is same as the end node, we already have the optimal solution\n",
    "\n",
    "lets assume that we have the optimal solution for k distance up till now. Now, the way UCS works is that we pick the node with the least weight in total up till now. This means that the new node we will append will be the least of all possible nodes we could have picked. Thus, we have the optimal solution for k distance as well\n",
    "\n",
    "## Complexity\n",
    "We briefly touched on how both are less than that of Dijkstra, but how much, exactly?\n",
    "Let's continue our discussion in terms of the length of path, since we are trying to get the best one. Let that be C*. Given that each edge cost is aleast e (e=1 for our purposes), we can say that we took C*/e steps to get to the point. But, we also have to consider that we take in b number of neighbors each time to make a decision. Thus we have b=4 in our case. \n",
    "\n",
    "So we have both space and time complexity giving us O(b^(c*//e + 1)).\n"
   ]
  }
 ],
 "metadata": {
  "kernelspec": {
   "display_name": "ML",
   "language": "python",
   "name": "ml"
  },
  "language_info": {
   "codemirror_mode": {
    "name": "ipython",
    "version": 3
   },
   "file_extension": ".py",
   "mimetype": "text/x-python",
   "name": "python",
   "nbconvert_exporter": "python",
   "pygments_lexer": "ipython3",
   "version": "3.7.7"
  }
 },
 "nbformat": 4,
 "nbformat_minor": 2
}
