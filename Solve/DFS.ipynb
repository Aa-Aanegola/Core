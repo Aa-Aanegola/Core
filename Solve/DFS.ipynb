{
 "cells": [
  {
   "cell_type": "code",
   "execution_count": 3,
   "metadata": {},
   "outputs": [],
   "source": [
    "import sys\n",
    "sys.path.append(\"../\")\n",
    "from pprint import pprint\n",
    "from Core.maze import Maze\n",
    "INF = float('inf')"
   ]
  },
  {
   "cell_type": "markdown",
   "metadata": {},
   "source": [
    "# DFS\n",
    "\n",
    "## How does it work?\n",
    "\n",
    "DFS traverses a graph by starting at a root node and following a path as deep as possible. Further paths are explored by backtracking. \n",
    "\n",
    "\n",
    "DFS is performed starting from a node. If a node lies on the border, it is checked whether there is an\n",
    "exit from the maze. If yes, the path upto that node and the coordinates of the node are returned.\n",
    "Since DFS visits every node, the algorithm is guaranteed to find an exit, if one exists.\n",
    "\n",
    "## Analysis\n",
    "\n",
    "### Time Complexity : O(N<sup>2</sup>)\n",
    "1. Every node is visited exactly once\n",
    "A node is added to the stack only if it’s discovered status is false. Once added to the stack, the\n",
    "discovered status is set to true. Hence, every node is visited exactly once.\n",
    "2. Every edge is visited exactly twice\n",
    "The neighbor of a node is checked exactly once. Since the graph is undirected, this check happens\n",
    "at both vertices of an edge. Hence, every edge is visited only twice.   \n",
    "Therefore, it follows that for a graph with V vertices and E edges, the time complexity of DFS is O(V + E)   \n",
    "V = O(N<sup>2</sup>)  \n",
    "E = O(N<sup>2</sup>)   \n",
    "\n",
    "### Additional Space : O(N<sup>2</sup>)  \n",
    "The discovery of every node has to be tracked. This requires O(N<sup>2</sup>) additional space.   "
   ]
  },
  {
   "cell_type": "code",
   "execution_count": 4,
   "metadata": {},
   "outputs": [],
   "source": [
    "def dfs(start_position, maze):\n",
    "    \"\"\"\n",
    "    inputs:\n",
    "        start_position:\n",
    "            tuple of x, y position of starting node \n",
    "        maze:\n",
    "            Maze object\n",
    "    \"\"\"\n",
    "    x, y = start_position\n",
    "    #visited array keeps track of which nodes have been visited\n",
    "    vis = []\n",
    "    #parents keeps track of the parent node of every node in the DFS tree\n",
    "    parent = []\n",
    "    #stack for backtracking\n",
    "    stack = []\n",
    "    for _ in range(maze.num_rows):\n",
    "        vis.append(list(bytearray(maze.num_columns)))\n",
    "        parent.append(list(bytearray(maze.num_columns)))\n",
    "\n",
    "    stack.append(start_position)\n",
    "    while(len(stack)):\n",
    "        current = stack.pop()\n",
    "        x, y = current\n",
    "        # If not at start, check if at a possible exit i.e at boundary and exit exists\n",
    "        # If exit exits, return the path to the exit from source\n",
    "        if((x,y) != start_position):\n",
    "            if(x == 0 and maze.grid[x][y].neighbors[\"N\"] != INF or \n",
    "               y == 0 and maze.grid[x][y].neighbors[\"W\"] != INF or\n",
    "               x == maze.num_rows-1 and maze.grid[x][y].neighbors[\"S\"] != INF or\n",
    "               y == maze.num_columns-1 and maze.grid[x][y].neighbors[\"E\"] != INF):\n",
    "                out = [(x,y)]\n",
    "                while(parent[x][y] != 0):\n",
    "                    x, y = parent[x][y]\n",
    "                    out.append((x,y))\n",
    "                return out[::-1]\n",
    "        \n",
    "        # If current node isn't visited, mark it as visited\n",
    "        # and add its unvisited neighbors to stack\n",
    "        if(vis[x][y] == 0):\n",
    "            vis[x][y] = 1\n",
    "            if(x > 0):\n",
    "                if(maze.grid[x][y].neighbors[\"N\"] != INF and vis[x-1][y] == 0):\n",
    "                    stack.append((x-1,y))\n",
    "                    parent[x-1][y] = (x,y)\n",
    "            if(x < maze.num_rows-1):\n",
    "                if(maze.grid[x][y].neighbors[\"S\"] != INF and vis[x+1][y] == 0):\n",
    "                    stack.append((x+1,y))\n",
    "                    parent[x+1][y] = (x,y)\n",
    "            if(y < maze.num_columns-1):\n",
    "                if(maze.grid[x][y].neighbors[\"E\"] != INF and vis[x][y+1] == 0):\n",
    "                    stack.append((x,y+1))\n",
    "                    parent[x][y+1] = (x,y)\n",
    "            if(y > 0):\n",
    "                if(maze.grid[x][y].neighbors[\"W\"] != INF and vis[x][y-1] == 0):\n",
    "                    stack.append((x,y-1))\n",
    "                    parent[x][y-1] = (x,y)\n",
    "                    \n",
    "    # Return empty list if path does not exist\n",
    "    return []"
   ]
  },
  {
   "cell_type": "code",
   "execution_count": 5,
   "metadata": {},
   "outputs": [
    {
     "data": {
      "image/png": "[encoded data removed]",
      "text/plain": [
       "<PIL.Image.Image image mode=RGBA size=85x85 at 0x7FBD7A8CEB50>"
      ]
     },
     "metadata": {},
     "output_type": "display_data"
    }
   ],
   "source": [
    "maze = Maze(3,3)\n",
    "maze.add_path((0,0), \"S\", 0)\n",
    "maze.add_path((0,1), \"E\", 0)\n",
    "maze.add_path((1,1), \"S\", 0)\n",
    "maze.add_path((1,1), \"E\", 0)\n",
    "maze.add_path((1,2), \"S\", 0)\n",
    "display(maze.draw(cell_width = 25))"
   ]
  },
  {
   "cell_type": "code",
   "execution_count": 6,
   "metadata": {},
   "outputs": [
    {
     "name": "stdout",
     "output_type": "stream",
     "text": [
      "[(0, 0), (1, 0), (1, 1), (2, 1)]\n"
     ]
    }
   ],
   "source": [
    "out = dfs((0,0), maze)\n",
    "print(out)"
   ]
  },
  {
   "cell_type": "code",
   "execution_count": 7,
   "metadata": {},
   "outputs": [
    {
     "name": "stdout",
     "output_type": "stream",
     "text": [
      "[]\n"
     ]
    },
    {
     "data": {
      "image/png": "[encoded data removed]",
      "text/plain": [
       "<PIL.Image.Image image mode=RGBA size=330x330 at 0x7FBD76D63190>"
      ]
     },
     "metadata": {},
     "output_type": "display_data"
    }
   ],
   "source": [
    "maze = Maze()\n",
    "maze.load(\"BinaryTree_16x16.maze\")\n",
    "path = dfs((0, 0), maze)\n",
    "# maze.add_colors(path)\n",
    "print(path)\n",
    "display(maze.draw(cell_width=20))"
   ]
  }
 ],
 "metadata": {
  "kernelspec": {
   "display_name": "Python 3",
   "language": "python",
   "name": "python3"
  },
  "language_info": {
   "codemirror_mode": {
    "name": "ipython",
    "version": 3
   },
   "file_extension": ".py",
   "mimetype": "text/x-python",
   "name": "python",
   "nbconvert_exporter": "python",
   "pygments_lexer": "ipython3",
   "version": "3.8.6"
  }
 },
 "nbformat": 4,
 "nbformat_minor": 4
}
