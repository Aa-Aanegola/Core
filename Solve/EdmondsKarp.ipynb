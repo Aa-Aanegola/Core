{
 "cells": [
  {
   "cell_type": "code",
   "execution_count": 9,
   "metadata": {},
   "outputs": [],
   "source": [
    "import sys\n",
    "sys.path.append(\"../\")\n",
    "\n",
    "import random\n",
    "from queue import Queue\n",
    "\n",
    "from pprint import pprint\n",
    "from Core.maze import Maze, INF"
   ]
  },
  {
   "cell_type": "code",
   "execution_count": 10,
   "metadata": {},
   "outputs": [],
   "source": [
    "def BinaryTree(maze, min_value):\n",
    "    flag = 0\n",
    "    for x in range(0, maze.num_rows):\n",
    "        for y in range(0, maze.num_columns):\n",
    "            temp = []\n",
    "            if x > 0:\n",
    "                temp.append('W')\n",
    "            if y > 0:\n",
    "                temp.append('N')\n",
    "            if len(temp) == 0:\n",
    "                continue\n",
    "            direction = random.randint(0, len(temp)-1)\n",
    "            maze.add_path((x, y), temp[direction], random.randint(min_value, 10))"
   ]
  },
  {
   "cell_type": "code",
   "execution_count": 11,
   "metadata": {},
   "outputs": [],
   "source": [
    "def bfs(maze, source, sink):\n",
    "    # setup\n",
    "    n_rows = len(maze.grid)\n",
    "    n_cols = len(maze.grid[0])\n",
    "    visited = [[False]*n_cols for i in range(n_rows)]\n",
    "    queue = Queue()\n",
    "    parents = [[(-1, -1)]*n_cols for i in range(n_rows)]\n",
    "    bottleneck = INF\n",
    "\n",
    "    # initialization\n",
    "    queue.put(source)\n",
    "    \n",
    "    # starting\n",
    "    while not queue.empty():\n",
    "        x, y = queue.get()\n",
    "        current_node = maze.grid[x][y]\n",
    "        \n",
    "        # exit condition\n",
    "        if (x, y) == sink:\n",
    "            return True, parents, bottleneck\n",
    "\n",
    "        # visited condition\n",
    "        if visited[x][y]:\n",
    "            continue\n",
    "        # visiting the node\n",
    "        visited[x][y] = True\n",
    "        \n",
    "        # going over the valid children nodes that can be accessed\n",
    "        # through the edge\n",
    "        if maze.grid[x][y].neighbors['N'] != INF and not visited[x-1][y]:\n",
    "            queue.put((x-1, y))\n",
    "            parents[x-1][y] = (x, y)\n",
    "            bottleneck = min(bottleneck, maze.grid[x][y].neighbors['N'])\n",
    "\n",
    "        if maze.grid[x][y].neighbors['S'] != INF and not visited[x+1][y]:\n",
    "            queue.put((x+1, y))\n",
    "            parents[x+1][y] = (x, y)\n",
    "            bottleneck = min(bottleneck, maze.grid[x][y].neighbors['S'])\n",
    "\n",
    "        if maze.grid[x][y].neighbors['W'] != INF and not visited[x][y-1]:\n",
    "            queue.put((x, y-1))\n",
    "            parents[x][y-1] = (x, y)\n",
    "            bottleneck = min(bottleneck, maze.grid[x][y].neighbors['W'])\n",
    "\n",
    "        if maze.grid[x][y].neighbors['E'] != INF and not visited[x][y+1]:\n",
    "            queue.put((x, y+1))\n",
    "            parents[x][y+1] = (x, y)\n",
    "            bottleneck = min(bottleneck, maze.grid[x][y].neighbors['E'])\n",
    "\n",
    "    \n",
    "    return False, [], -1"
   ]
  },
  {
   "cell_type": "code",
   "execution_count": 12,
   "metadata": {},
   "outputs": [],
   "source": [
    "def determine_direction(current_node, previous_node):\n",
    "        \"\"\"\n",
    "        returns direction of path from previous node leading to current node\n",
    "        \"\"\"\n",
    "        difference = (current_node[0]-previous_node[0], current_node[1]-previous_node[1])\n",
    "        if difference == (1, 0):\n",
    "            return 'N', 'S'\n",
    "        if difference == (-1, 0):\n",
    "            return 'S', 'N'\n",
    "        if difference == (0, 1):\n",
    "            return 'E', 'W'\n",
    "        if difference == (0, -1):\n",
    "            return 'W', 'E'"
   ]
  },
  {
   "cell_type": "code",
   "execution_count": 13,
   "metadata": {},
   "outputs": [],
   "source": [
    "def augment_flows(maze, parents, source, sink, flow_possible):\n",
    "    current_node = sink\n",
    "    while current_node != source:\n",
    "        previous_node = parents[current_node[0]][current_node[1]]\n",
    "        direction, reverse_direction = determine_direction(current_node, previous_node)\n",
    "\n",
    "        maze.grid[current_node[0]][current_node[1]].neighbors[reverse_direction] += flow_possible\n",
    "        maze.grid[previous_node[0]][previous_node[1]].neighbors[direction] -= flow_possible\n",
    "        \n",
    "        current_node = previous_node\n",
    "    return"
   ]
  },
  {
   "cell_type": "code",
   "execution_count": 14,
   "metadata": {},
   "outputs": [],
   "source": [
    "def EdmondsKarp(maze, source, sink):\n",
    "    flow = 0\n",
    "    result, parents, flow_possible = bfs(maze, source, sink)\n",
    "    \n",
    "    while result and flow_possible:\n",
    "        flow += flow_possible\n",
    "        augment_flows(maze, parents, source, sink, flow_possible)\n",
    "        result, parents, flow_possible = bfs(maze, source, sink)\n",
    "    return flow"
   ]
  },
  {
   "cell_type": "code",
   "execution_count": 15,
   "metadata": {},
   "outputs": [
    {
     "name": "stdin",
     "output_type": "stream",
     "text": [
      "Enter N (dimension):  8\n"
     ]
    },
    {
     "data": {
      "image/png": "[encoded data removed]",
      "text/plain": [
       "<PIL.Image.Image image mode=RGBA size=410x410 at 0x7FC93C2C18E0>"
      ]
     },
     "metadata": {},
     "output_type": "display_data"
    },
    {
     "name": "stdout",
     "output_type": "stream",
     "text": [
      "Max Flow is:  6\n"
     ]
    }
   ],
   "source": [
    "N = int(input(\"Enter N (dimension): \").strip())\n",
    "maze = Maze(N,N)\n",
    "BinaryTree(maze, random.randint(4, 24))\n",
    "maze.add_colors()\n",
    "display(maze.draw())\n",
    "\n",
    "source = (0, 0)\n",
    "sink = (N-1, N-1)\n",
    "\n",
    "print(\"Max Flow is: \", EdmondsKarp(maze, source, sink))"
   ]
  },
  {
   "cell_type": "code",
   "execution_count": null,
   "metadata": {},
   "outputs": [],
   "source": []
  }
 ],
 "metadata": {
  "kernelspec": {
   "display_name": "Python 3",
   "language": "python",
   "name": "python3"
  },
  "language_info": {
   "codemirror_mode": {
    "name": "ipython",
    "version": 3
   },
   "file_extension": ".py",
   "mimetype": "text/x-python",
   "name": "python",
   "nbconvert_exporter": "python",
   "pygments_lexer": "ipython3",
   "version": "3.8.6"
  }
 },
 "nbformat": 4,
 "nbformat_minor": 4
}
