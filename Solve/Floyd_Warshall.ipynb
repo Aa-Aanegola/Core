{
 "cells": [
  {
   "source": [],
   "cell_type": "markdown",
   "metadata": {}
  },
  {
   "source": [
    "# Floyd-Warshall Algorithm\n"
   ],
   "cell_type": "markdown",
   "metadata": {}
  },
  {
   "source": [
    "## Imports"
   ],
   "cell_type": "markdown",
   "metadata": {}
  },
  {
   "cell_type": "code",
   "execution_count": 94,
   "metadata": {},
   "outputs": [],
   "source": [
    "import sys\n",
    "sys.path.append(\"../\")\n",
    "from pprint import pprint\n",
    "from Core.maze import Maze, INF\n",
    "\n",
    "import random"
   ]
  },
  {
   "source": [
    "## Maze Generation Function"
   ],
   "cell_type": "markdown",
   "metadata": {}
  },
  {
   "cell_type": "code",
   "execution_count": 95,
   "metadata": {},
   "outputs": [],
   "source": [
    "def BinaryTree(maze, min_value):\n",
    "    flag = 0\n",
    "    for x in range(0, maze.num_rows):\n",
    "        for y in range(0, maze.num_columns):\n",
    "            temp = []\n",
    "            if x > 0:\n",
    "                temp.append('W')\n",
    "            if y > 0:\n",
    "                temp.append('N')\n",
    "            if len(temp) == 0:\n",
    "                continue\n",
    "            direction = random.randint(0, len(temp)-1)\n",
    "            maze.add_path((x, y), temp[direction], random.randint(min_value, 10))"
   ]
  },
  {
   "source": [
    "## Floyd-Warshall Function"
   ],
   "cell_type": "markdown",
   "metadata": {}
  },
  {
   "cell_type": "code",
   "execution_count": 96,
   "metadata": {},
   "outputs": [],
   "source": [
    "def FloydWarshall(maze, start, goal):\n",
    "    neighbors = [(1,0,\"S\"),(-1,0,\"N\"),(0,1,\"E\"),(0,-1,\"W\")]\n",
    "    n=len(maze.grid)\n",
    "    m=len(maze.grid[0])\n",
    "    dist=[[INF]*(n*m) for i in range(n*m)]\n",
    "    nxt=[[0]*(n*m) for i in range(n*m)]\n",
    "    startInd=start[0]*m+start[1]\n",
    "    goalInd=goal[0]*m+goal[1]\n",
    "    for i in range(n*m):\n",
    "        dist[i][i]=0\n",
    "        y=i//m\n",
    "        x=i%m\n",
    "        for j in neighbors:\n",
    "            if maze.grid[y][x].neighbors[j[2]]!=INF:\n",
    "                dist[i][i+j[0]*m+j[1]]=maze.grid[y][x].neighbors[j[2]]\n",
    "                nxt[i][i+j[0]*m+j[1]]=(x+j[0],y+j[1])\n",
    "    for k in range(n*m):\n",
    "        for i in range(n*m):\n",
    "            for j in range(n*m):                \n",
    "                if dist[i][k]+dist[k][j] < dist[i][j]:\n",
    "                    dist[i][j]=dist[i][k]+dist[k][j]\n",
    "                    nxt[i][j]=nxt[i][k]\n",
    "    if dist[startInd][goalInd]==INF:\n",
    "        return False\n",
    "    path=[start]\n",
    "    while path[-1] != goal:\n",
    "        print(path)\n",
    "        pathInd=path[-1][0]*m+path[-1][1]\n",
    "        path.append(nxt[pathInd][goalInd])\n",
    "    return path"
   ]
  },
  {
   "source": [
    "## Main"
   ],
   "cell_type": "markdown",
   "metadata": {}
  },
  {
   "cell_type": "code",
   "execution_count": 97,
   "metadata": {},
   "outputs": [
    {
     "output_type": "display_data",
     "data": {
      "text/plain": "<PIL.Image.Image image mode=RGBA size=410x410 at 0x6B69C10>",
      "image/png": "[encoded data removed]"
     },
     "metadata": {}
    },
    {
     "output_type": "stream",
     "name": "stdout",
     "text": [
      "Path: \n[(0, 0)]\n[(0, 0), (1, 0)]\n[(0, 0), (1, 0), (1, 1)]\n[(0, 0), (1, 0), (1, 1), (0, 1)]\n[(0, 0), (1, 0), (1, 1), (0, 1), (1, -1)]\n[(0, 0), (1, 0), (1, 1), (0, 1), (1, -1), (7, -1)]\n[(0, 0), (1, 0), (1, 1), (0, 1), (1, -1), (7, -1), (8, 6)]\n"
     ]
    },
    {
     "output_type": "error",
     "ename": "IndexError",
     "evalue": "list index out of range",
     "traceback": [
      "\u001b[1;31m---------------------------------------------------------------------------\u001b[0m",
      "\u001b[1;31mIndexError\u001b[0m                                Traceback (most recent call last)",
      "\u001b[1;32m<ipython-input-97-afae2fd68735>\u001b[0m in \u001b[0;36m<module>\u001b[1;34m\u001b[0m\n\u001b[0;32m      9\u001b[0m \u001b[1;33m\u001b[0m\u001b[0m\n\u001b[0;32m     10\u001b[0m \u001b[0mprint\u001b[0m\u001b[1;33m(\u001b[0m\u001b[1;34m\"Path: \"\u001b[0m\u001b[1;33m)\u001b[0m\u001b[1;33m\u001b[0m\u001b[1;33m\u001b[0m\u001b[0m\n\u001b[1;32m---> 11\u001b[1;33m \u001b[0mpath\u001b[0m \u001b[1;33m=\u001b[0m \u001b[0mFloydWarshall\u001b[0m\u001b[1;33m(\u001b[0m\u001b[0mmaze\u001b[0m\u001b[1;33m,\u001b[0m \u001b[0mstart\u001b[0m\u001b[1;33m,\u001b[0m \u001b[0mgoal\u001b[0m\u001b[1;33m)\u001b[0m\u001b[1;33m\u001b[0m\u001b[1;33m\u001b[0m\u001b[0m\n\u001b[0m\u001b[0;32m     12\u001b[0m \u001b[1;32mif\u001b[0m \u001b[0mpath\u001b[0m\u001b[1;33m==\u001b[0m\u001b[1;32mFalse\u001b[0m\u001b[1;33m:\u001b[0m\u001b[1;33m\u001b[0m\u001b[1;33m\u001b[0m\u001b[0m\n\u001b[0;32m     13\u001b[0m     \u001b[0mprint\u001b[0m\u001b[1;33m(\u001b[0m\u001b[1;34m\"No path exists\"\u001b[0m\u001b[1;33m)\u001b[0m\u001b[1;33m\u001b[0m\u001b[1;33m\u001b[0m\u001b[0m\n",
      "\u001b[1;32m<ipython-input-96-10d3f3386e40>\u001b[0m in \u001b[0;36mFloydWarshall\u001b[1;34m(maze, start, goal)\u001b[0m\n\u001b[0;32m     27\u001b[0m         \u001b[0mprint\u001b[0m\u001b[1;33m(\u001b[0m\u001b[0mpath\u001b[0m\u001b[1;33m)\u001b[0m\u001b[1;33m\u001b[0m\u001b[1;33m\u001b[0m\u001b[0m\n\u001b[0;32m     28\u001b[0m         \u001b[0mpathInd\u001b[0m\u001b[1;33m=\u001b[0m\u001b[0mpath\u001b[0m\u001b[1;33m[\u001b[0m\u001b[1;33m-\u001b[0m\u001b[1;36m1\u001b[0m\u001b[1;33m]\u001b[0m\u001b[1;33m[\u001b[0m\u001b[1;36m0\u001b[0m\u001b[1;33m]\u001b[0m\u001b[1;33m*\u001b[0m\u001b[0mm\u001b[0m\u001b[1;33m+\u001b[0m\u001b[0mpath\u001b[0m\u001b[1;33m[\u001b[0m\u001b[1;33m-\u001b[0m\u001b[1;36m1\u001b[0m\u001b[1;33m]\u001b[0m\u001b[1;33m[\u001b[0m\u001b[1;36m1\u001b[0m\u001b[1;33m]\u001b[0m\u001b[1;33m\u001b[0m\u001b[1;33m\u001b[0m\u001b[0m\n\u001b[1;32m---> 29\u001b[1;33m         \u001b[0mpath\u001b[0m\u001b[1;33m.\u001b[0m\u001b[0mappend\u001b[0m\u001b[1;33m(\u001b[0m\u001b[0mnxt\u001b[0m\u001b[1;33m[\u001b[0m\u001b[0mpathInd\u001b[0m\u001b[1;33m]\u001b[0m\u001b[1;33m[\u001b[0m\u001b[0mgoalInd\u001b[0m\u001b[1;33m]\u001b[0m\u001b[1;33m)\u001b[0m\u001b[1;33m\u001b[0m\u001b[1;33m\u001b[0m\u001b[0m\n\u001b[0m\u001b[0;32m     30\u001b[0m     \u001b[1;32mreturn\u001b[0m \u001b[0mpath\u001b[0m\u001b[1;33m\u001b[0m\u001b[1;33m\u001b[0m\u001b[0m\n",
      "\u001b[1;31mIndexError\u001b[0m: list index out of range"
     ]
    }
   ],
   "source": [
    "N = int(input(\"Enter N (dimension): \").strip())\n",
    "maze = Maze(N,N)\n",
    "BinaryTree(maze, random.randint(4, 24))\n",
    "maze.add_colors()\n",
    "display(maze.draw())\n",
    "\n",
    "start = (0, 0)\n",
    "goal = (N-1, N-1)\n",
    "\n",
    "print(\"Path: \")\n",
    "path = FloydWarshall(maze, start, goal)\n",
    "if path==False:\n",
    "    print(\"No path exists\")\n",
    "else:\n",
    "    print(path)"
   ]
  }
 ],
 "metadata": {
  "kernelspec": {
   "name": "Python 3.7.4 32-bit",
   "display_name": "Python 3.7.4 32-bit",
   "metadata": {
    "interpreter": {
     "hash": "617bd25a90f4d494eba9f700175ec3bab28d128b52129a0fdad9d74201035280"
    }
   }
  },
  "language_info": {
   "codemirror_mode": {
    "name": "ipython",
    "version": 3
   },
   "file_extension": ".py",
   "mimetype": "text/x-python",
   "name": "python",
   "nbconvert_exporter": "python",
   "pygments_lexer": "ipython3",
   "version": "3.7.4-final"
  }
 },
 "nbformat": 4,
 "nbformat_minor": 4
}