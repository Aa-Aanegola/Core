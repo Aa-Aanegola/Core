{
 "cells": [
  {
   "cell_type": "markdown",
   "metadata": {},
   "source": [
    "# Floyd-Warshall Algorithm\n",
    "  \n",
    "## Why is used?\n",
    "It is used for finding the shortest path and distance between all vertices in a graph. It can be used for finding negative cycles too.\n",
    "  \n",
    "## How it works?\n",
    "The shortest path between any 2 vertices are found in several incremental step. Each step finds the shortest path upto that point with that vertex as intermediate node. \n",
    "  \n",
    "### Proof\n",
    "**Claim:** Each step of algorithm finds shortest paths up to that point with that vertex as intermediate node.  \n",
    "***Base Case:*** For k = 1,  \n",
    "distance(i,j) = min.(distance(i,j), distance(i,1) + distance(i,j))  \n",
    "The algorithm holds because initially the pairs having edge will have distance equal to that of weight and the others will have infinity or 0 for i = j  \n",
    "distance(i,j) will remain the same if there exists an edge, else  if there exists such edges i to 1 and j to 1, it will change to distance(i,1) + distance(1,j) as initially distance was infinity  \n",
    "***Induction Step:*** Assume algorithm holds for k < p - 1  \n",
    "**To show:** It holds for k = p  \n",
    "***Case 1:*** distance(i,j) = min.(distance(i,j), distance(i,p) + distance(p,j)) = distance(i,j)  \n",
    "The distance remains unchanged and since the distance was calculated in a previous step for which the algorithm holds as per the assumption, the algorithm holds for k = p  \n",
    "***Case 2:*** distance(i,j) = min.(distance(i,j), distance(i,p) + distance(p,j)) = distance(i,p) + distance(p,j)  \n",
    "The distance changes and since the distances distance(i,p) and  distance(p,j) were calculated in a previous step, this means that the sum of the distances is less than the distance which were calculated in the previous steps without having k=p as an intermediate node. Hence this is the shortest path up to this step with vertex k=p as intermediate node.  \n",
    "    \n",
    "## Analysis\n",
    "Consider a graph of E edges and V vertices.\n",
    "### Time complexity\n",
    "As evident from the 3 loops, time complexity is obviously $O(V^3)$\n",
    "  \n",
    "### Space complexity\n",
    "For each vertex, the vertex which it came from, and the distance to the other vertices are stored. Hence space complexity is $O(V^2)$"
   ]
  },
  {
   "cell_type": "markdown",
   "metadata": {},
   "source": [
    "## Imports"
   ]
  },
  {
   "cell_type": "code",
   "execution_count": null,
   "metadata": {},
   "outputs": [],
   "source": [
    "import sys\n",
    "sys.path.append(\"../\")\n",
    "from pprint import pprint\n",
    "from Core.maze import Maze, INF"
   ]
  },
  {
   "cell_type": "markdown",
   "metadata": {},
   "source": [
    "## Floyd-Warshall Function"
   ]
  },
  {
   "cell_type": "code",
   "execution_count": null,
   "metadata": {},
   "outputs": [],
   "source": [
    "def FloydWarshall(maze, start, goal):\n",
    "    # Initialisations\n",
    "    neighbors = [(1,0,\"S\"),(-1,0,\"N\"),(0,1,\"E\"),(0,-1,\"W\")]\n",
    "    n=len(maze.grid)\n",
    "    m=len(maze.grid[0])\n",
    "    dist=[[INF]*(n*m) for i in range(n*m)]\n",
    "    nxt=[[-1]*(n*m) for i in range(n*m)]\n",
    "    startInd=start[0]*m+start[1]\n",
    "    goalInd=goal[0]*m+goal[1]\n",
    "    for i in range(n*m):\n",
    "        dist[i][i]=0\n",
    "        y=i//m\n",
    "        x=i%m\n",
    "        for j in neighbors:\n",
    "            neighborInd = i+j[0]*m+j[1]\n",
    "            if maze.grid[y][x].neighbors[j[2]]!=INF:\n",
    "                dist[i][neighborInd]=maze.grid[y][x].neighbors[j[2]]\n",
    "                nxt[i][neighborInd]=neighborInd\n",
    "    # Standard Floyd-Warshall\n",
    "    for k in range(n*m):\n",
    "        for i in range(n*m):\n",
    "            for j in range(n*m):                \n",
    "                if dist[i][k]+dist[k][j] < dist[i][j]:\n",
    "                    dist[i][j]=dist[i][k]+dist[k][j]\n",
    "                    nxt[i][j]=nxt[i][k]\n",
    "    # Checking if path exists\n",
    "    if nxt[startInd][goalInd]==-1:\n",
    "        return False\n",
    "    # Constructing path\n",
    "    pathInd = [startInd]\n",
    "    while pathInd[-1]!=goalInd:\n",
    "        pathInd.append(nxt[pathInd[-1]][goalInd])\n",
    "    path=[]\n",
    "    for i in pathInd:\n",
    "        path.append((i//m,i%m))\n",
    "    return path"
   ]
  },
  {
   "cell_type": "markdown",
   "metadata": {},
   "source": [
    "## Main"
   ]
  },
  {
   "cell_type": "code",
   "execution_count": null,
   "metadata": {
    "tags": []
   },
   "outputs": [],
   "source": [
    "maze = Maze()\n",
    "maze.load(\"BinaryTree_16x16.maze\")\n",
    "\n",
    "start = (0, 0)\n",
    "goal = (15, 15)\n",
    "\n",
    "print(\"Path: \")\n",
    "path = FloydWarshall(maze, start, goal)\n",
    "if path==False:\n",
    "    print(\"No path exists\")\n",
    "else:\n",
    "    print(path)\n",
    "    \n",
    "maze.add_colors(path=path)\n",
    "display(maze.draw(cell_width=20))"
   ]
  },
  {
   "cell_type": "code",
   "execution_count": null,
   "metadata": {
    "tags": []
   },
   "outputs": [],
   "source": [
    "maze = Maze()\n",
    "maze.load(\"Aldous-Broder_16x16.maze\")\n",
    "\n",
    "start = (0, 0)\n",
    "goal = (15, 15)\n",
    "\n",
    "print(\"Path: \")\n",
    "path = FloydWarshall(maze, start, goal)\n",
    "if path==False:\n",
    "    print(\"No path exists\")\n",
    "else:\n",
    "    print(path)\n",
    "    \n",
    "maze.add_colors(path=path)\n",
    "display(maze.draw(cell_width=20))"
   ]
  },
  {
   "cell_type": "code",
   "execution_count": null,
   "metadata": {},
   "outputs": [],
   "source": [
    "maze = Maze()\n",
    "maze.load(\"Kruskals_16x16.maze\")\n",
    "\n",
    "start = (0, 0)\n",
    "goal = (15, 15)\n",
    "\n",
    "print(\"Path: \")\n",
    "path = FloydWarshall(maze, start, goal)\n",
    "if path==False:\n",
    "    print(\"No path exists\")\n",
    "else:\n",
    "    print(path)\n",
    "\n",
    "maze.add_colors(path=path)\n",
    "display(maze.draw(cell_width=20))"
   ]
  }
 ],
 "metadata": {
  "kernelspec": {
   "name": "Python 3.7.4 32-bit",
   "display_name": "Python 3.7.4 32-bit",
   "metadata": {
    "interpreter": {
     "hash": "617bd25a90f4d494eba9f700175ec3bab28d128b52129a0fdad9d74201035280"
    }
   }
  },
  "language_info": {
   "codemirror_mode": {
    "name": "ipython",
    "version": 3
   },
   "file_extension": ".py",
   "mimetype": "text/x-python",
   "name": "python",
   "nbconvert_exporter": "python",
   "pygments_lexer": "ipython3",
   "version": "3.7.4-final"
  }
 },
 "nbformat": 4,
 "nbformat_minor": 4
}