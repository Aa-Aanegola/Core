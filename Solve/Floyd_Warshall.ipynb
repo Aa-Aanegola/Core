{
 "cells": [
  {
   "cell_type": "markdown",
   "metadata": {},
   "source": [
    "# Floyd-Warshall Algorithm"
   ]
  },
  {
   "cell_type": "markdown",
   "metadata": {},
   "source": [
    "## Imports"
   ]
  },
  {
   "cell_type": "code",
   "execution_count": null,
   "metadata": {},
   "outputs": [],
   "source": [
    "import sys\n",
    "sys.path.append(\"../\")\n",
    "from pprint import pprint\n",
    "from Core.maze import Maze, INF"
   ]
  },
  {
   "cell_type": "markdown",
   "metadata": {},
   "source": [
    "## Floyd-Warshall Function"
   ]
  },
  {
   "cell_type": "code",
   "execution_count": null,
   "metadata": {},
   "outputs": [],
   "source": [
    "def FloydWarshall(maze, start, goal):\n",
    "    # Initialisations\n",
    "    neighbors = [(1,0,\"S\"),(-1,0,\"N\"),(0,1,\"E\"),(0,-1,\"W\")]\n",
    "    n=len(maze.grid)\n",
    "    m=len(maze.grid[0])\n",
    "    dist=[[INF]*(n*m) for i in range(n*m)]\n",
    "    nxt=[[-1]*(n*m) for i in range(n*m)]\n",
    "    startInd=start[0]*m+start[1]\n",
    "    goalInd=goal[0]*m+goal[1]\n",
    "    for i in range(n*m):\n",
    "        dist[i][i]=0\n",
    "        y=i//m\n",
    "        x=i%m\n",
    "        for j in neighbors:\n",
    "            neighborInd = i+j[0]*m+j[1]\n",
    "            if maze.grid[y][x].neighbors[j[2]]!=INF:\n",
    "                dist[i][neighborInd]=maze.grid[y][x].neighbors[j[2]]\n",
    "                nxt[i][neighborInd]=neighborInd\n",
    "    # Standard Floyd-Warshall\n",
    "    for k in range(n*m):\n",
    "        for i in range(n*m):\n",
    "            for j in range(n*m):                \n",
    "                if dist[i][k]+dist[k][j] < dist[i][j]:\n",
    "                    dist[i][j]=dist[i][k]+dist[k][j]\n",
    "                    nxt[i][j]=nxt[i][k]\n",
    "    # Checking if path exists\n",
    "    if nxt[startInd][goalInd]==-1:\n",
    "        return False\n",
    "    # Constructing path\n",
    "    pathInd = [startInd]\n",
    "    while pathInd[-1]!=goalInd:\n",
    "        pathInd.append(nxt[pathInd[-1]][goalInd])\n",
    "    path=[]\n",
    "    for i in pathInd:\n",
    "        path.append((i//m,i%m))\n",
    "    return path"
   ]
  },
  {
   "cell_type": "markdown",
   "metadata": {},
   "source": [
    "## Main"
   ]
  },
  {
   "cell_type": "code",
   "execution_count": null,
   "metadata": {
    "tags": []
   },
   "outputs": [],
   "source": [
    "maze = Maze()\n",
    "maze.load(\"BinaryTree_16x16.maze\")\n",
    "\n",
    "start = (0, 0)\n",
    "goal = (15, 15)\n",
    "\n",
    "print(\"Path: \")\n",
    "path = FloydWarshall(maze, start, goal)\n",
    "if path==False:\n",
    "    print(\"No path exists\")\n",
    "else:\n",
    "    print(path)\n",
    "    \n",
    "maze.add_colors(path=path)\n",
    "display(maze.draw(cell_width=20))"
   ]
  },
  {
   "cell_type": "code",
   "execution_count": null,
   "metadata": {
    "tags": []
   },
   "outputs": [],
   "source": [
    "maze = Maze()\n",
    "maze.load(\"Aldous-Broder_16x16.maze\")\n",
    "\n",
    "start = (0, 0)\n",
    "goal = (15, 15)\n",
    "\n",
    "print(\"Path: \")\n",
    "path = FloydWarshall(maze, start, goal)\n",
    "if path==False:\n",
    "    print(\"No path exists\")\n",
    "else:\n",
    "    print(path)\n",
    "    \n",
    "maze.add_colors(path=path)\n",
    "display(maze.draw(cell_width=20))"
   ]
  },
  {
   "cell_type": "code",
   "execution_count": null,
   "metadata": {},
   "outputs": [],
   "source": [
    "maze = Maze()\n",
    "maze.load(\"Kruskals_16x16.maze\")\n",
    "\n",
    "start = (0, 0)\n",
    "goal = (15, 15)\n",
    "\n",
    "print(\"Path: \")\n",
    "path = FloydWarshall(maze, start, goal)\n",
    "if path==False:\n",
    "    print(\"No path exists\")\n",
    "else:\n",
    "    print(path)\n",
    "\n",
    "maze.add_colors(path=path)\n",
    "display(maze.draw(cell_width=20))"
   ]
  }
 ],
 "metadata": {
  "kernelspec": {
   "name": "Python 3.7.4 32-bit",
   "display_name": "Python 3.7.4 32-bit",
   "metadata": {
    "interpreter": {
     "hash": "617bd25a90f4d494eba9f700175ec3bab28d128b52129a0fdad9d74201035280"
    }
   }
  },
  "language_info": {
   "codemirror_mode": {
    "name": "ipython",
    "version": 3
   },
   "file_extension": ".py",
   "mimetype": "text/x-python",
   "name": "python",
   "nbconvert_exporter": "python",
   "pygments_lexer": "ipython3",
   "version": "3.7.4-final"
  }
 },
 "nbformat": 4,
 "nbformat_minor": 4
}