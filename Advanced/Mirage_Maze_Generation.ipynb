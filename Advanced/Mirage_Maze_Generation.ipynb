{
 "cells": [
  {
   "cell_type": "markdown",
   "metadata": {},
   "source": [
    "# Mirage mazes\n",
    "In this notebook we will try and create a mirage maze. A mirage maze is a maze with a few 'mirage' walls superposed onto it. To create a mirage maze, we take an already existing maze and try and add walls. For every pathway already present in the maze we convert this to an apparent (mirage) wall with probability p. This provides an additional hindrance to the solving agents in that they will have to pay a small fee to verify if the wall is a real wall or a mirage wall. "
   ]
  },
  {
   "cell_type": "code",
   "execution_count": 1,
   "metadata": {},
   "outputs": [],
   "source": [
    "import sys\n",
    "import random\n",
    "sys.path.append(\"../\")\n",
    "from pprint import pprint\n",
    "from Core.maze import Maze, INF"
   ]
  },
  {
   "cell_type": "code",
   "execution_count": 2,
   "metadata": {},
   "outputs": [],
   "source": [
    "def Mirage(maze, p):\n",
    "    \"\"\"\n",
    "    maze is the original maze onto which we superpose the mirage layer\n",
    "    p is the probability with which we add an apparent wall\n",
    "    \"\"\"\n",
    "    perceived_maze = Maze(maze.num_rows, maze.num_columns)\n",
    "    for x in range(0, maze.num_columns):\n",
    "        for y in range(0, maze.num_rows):\n",
    "            # Copy the contents of the original maze\n",
    "            perceived_maze.grid[x][y].neighbors = dict.copy(maze.grid[x][y].neighbors)\n",
    "            \n",
    "            # For each cardinal direction, check if a path exists in that direction from a particular node\n",
    "            # If there is a path, then \n",
    "            if maze.grid[x][y].neighbors['W'] != INF:\n",
    "                if(random.uniform(0, 1) <= p):\n",
    "                    perceived_maze.add_path((x, y), 'W', INF)\n",
    "                    \n",
    "            if maze.grid[x][y].neighbors['E'] != INF:\n",
    "                if(random.uniform(0, 1) <= p):\n",
    "                    perceived_maze.add_path((x, y), 'E', INF)\n",
    "            \n",
    "            if maze.grid[x][y].neighbors['N'] != INF:\n",
    "                if(random.uniform(0, 1) <= p):\n",
    "                    perceived_maze.add_path((x, y), 'N', INF)\n",
    "            \n",
    "            if maze.grid[x][y].neighbors['S'] != INF:\n",
    "                if(random.uniform(0, 1) <= p):\n",
    "                    perceived_maze.add_path((x, y), 'S', INF)\n",
    "    return perceived_maze"
   ]
  },
  {
   "cell_type": "code",
   "execution_count": 3,
   "metadata": {},
   "outputs": [
    {
     "data": {
      "image/png": "[encoded data removed]",
      "text/plain": [
       "<PIL.Image.Image image mode=RGBA size=330x330 at 0x7F068C1ADC70>"
      ]
     },
     "metadata": {},
     "output_type": "display_data"
    },
    {
     "data": {
      "image/png": "[encoded data removed]",
      "text/plain": [
       "<PIL.Image.Image image mode=RGBA size=330x330 at 0x7F0672AA92B0>"
      ]
     },
     "metadata": {},
     "output_type": "display_data"
    }
   ],
   "source": [
    "# Load up a pregenerated maze and add the mirage layer onto it\n",
    "maze = Maze()\n",
    "maze.load(\"BinaryTree_16x16.maze\")\n",
    "mirage_maze = Mirage(maze, 0.1)\n",
    "display(maze.draw(cell_width=20))\n",
    "display(mirage_maze.draw(cell_width = 20))"
   ]
  },
  {
   "cell_type": "markdown",
   "metadata": {},
   "source": [
    "As we can see the mirage maze clearly has extra walls that have been superposed onto the original maze. Let us consider the top row. To get to the top right corner a solving agent must find out that the wall in its path is a 'mirage' and doesn't actually exist. This will be challenging to solve algorithmically, as solving agents only possess local vision, that is they can only see a subset of the maze at any given point in time. To check the effects of the mirage layer, checking the validity of a wall will come with a slight cost."
   ]
  },
  {
   "cell_type": "code",
   "execution_count": 8,
   "metadata": {},
   "outputs": [
    {
     "data": {
      "image/png": "[encoded data removed]",
      "text/plain": [
       "<PIL.Image.Image image mode=RGBA size=330x330 at 0x7F068893B5B0>"
      ]
     },
     "metadata": {},
     "output_type": "display_data"
    }
   ],
   "source": [
    "display(maze.diff(mirage_maze, cell_width=20))"
   ]
  },
  {
   "cell_type": "code",
   "execution_count": 9,
   "metadata": {},
   "outputs": [
    {
     "data": {
      "image/png": "[encoded data removed]",
      "text/plain": [
       "<PIL.Image.Image image mode=RGBA size=330x330 at 0x7F0672AB69D0>"
      ]
     },
     "metadata": {},
     "output_type": "display_data"
    }
   ],
   "source": [
    "display(mirage_maze.diff(maze, cell_width=20))"
   ]
  }
 ],
 "metadata": {
  "kernelspec": {
   "display_name": "Python 3",
   "language": "python",
   "name": "python3"
  },
  "language_info": {
   "codemirror_mode": {
    "name": "ipython",
    "version": 3
   },
   "file_extension": ".py",
   "mimetype": "text/x-python",
   "name": "python",
   "nbconvert_exporter": "python",
   "pygments_lexer": "ipython3",
   "version": "3.7.7"
  }
 },
 "nbformat": 4,
 "nbformat_minor": 4
}
