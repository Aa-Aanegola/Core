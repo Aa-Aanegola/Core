{
 "cells": [
  {
   "cell_type": "markdown",
   "metadata": {},
   "source": [
    "# Dynamic Mazes\n",
    "To create a dynamic maze, we created a function that updates the maze. We assume that the maze passed is perfect, and hence we need to ensure that the maze is connected after updation. Since adding a wall will always create a section of the maze that is disconnected, we have to remove and add mazes in pairs. "
   ]
  },
  {
   "cell_type": "code",
   "execution_count": 51,
   "metadata": {},
   "outputs": [],
   "source": [
    "import sys\n",
    "import random\n",
    "sys.path.append(\"../\")\n",
    "from pprint import pprint\n",
    "from Core.maze import Maze, INF"
   ]
  },
  {
   "cell_type": "code",
   "execution_count": 52,
   "metadata": {},
   "outputs": [
    {
     "data": {
      "image/png": "[encoded data removed]",
      "text/plain": [
       "<PIL.Image.Image image mode=RGBA size=330x330 at 0x7FC661BF3310>"
      ]
     },
     "metadata": {},
     "output_type": "display_data"
    }
   ],
   "source": [
    "maze = Maze()\n",
    "maze.load(\"Sidewinder_16x16.maze\")\n",
    "display(maze.draw(cell_width = 20))"
   ]
  },
  {
   "cell_type": "code",
   "execution_count": 53,
   "metadata": {},
   "outputs": [
    {
     "ename": "SyntaxError",
     "evalue": "invalid syntax (<ipython-input-53-60a4757e6700>, line 11)",
     "output_type": "error",
     "traceback": [
      "\u001b[0;36m  File \u001b[0;32m\"<ipython-input-53-60a4757e6700>\"\u001b[0;36m, line \u001b[0;32m11\u001b[0m\n\u001b[0;31m    return self.parent = self.parent.find()\u001b[0m\n\u001b[0m                       ^\u001b[0m\n\u001b[0;31mSyntaxError\u001b[0m\u001b[0;31m:\u001b[0m invalid syntax\n"
     ]
    }
   ],
   "source": [
    "# Implementation of DSU in Python\n",
    "class dset:\n",
    "    def __init__(self, data):\n",
    "        self.data = data\n",
    "        self.parent = self\n",
    "\n",
    "    def find(self):\n",
    "        if self.parent == self:\n",
    "            return self\n",
    "\n",
    "        return self.parent = self.parent.find()\n",
    "\n",
    "    def union(self, set2):\n",
    "        p1 = self.find()\n",
    "        p2 = set2.find()\n",
    "        p1.parent = p2"
   ]
  },
  {
   "cell_type": "code",
   "execution_count": 97,
   "metadata": {},
   "outputs": [],
   "source": [
    "def dynamic(maze, num):\n",
    "    if num > maze.num_rows + maze.num_columns:\n",
    "        num = maze.num_rows + maze.num_columns\n",
    "    \n",
    "    for i in range(0, num):\n",
    "        while True:\n",
    "            # Generate point in maze\n",
    "            x = random.randint(0, maze.num_columns-1)\n",
    "            y = random.randint(0, maze.num_rows-1)\n",
    "            \n",
    "            \n",
    "            directions = []\n",
    "            # Randomly check all walls\n",
    "            if maze.grid[x][y].neighbors['N'] != INF:\n",
    "                directions.append('N')\n",
    "            if maze.grid[x][y].neighbors['S'] != INF:\n",
    "                directions.append('S')\n",
    "            if maze.grid[x][y].neighbors['E'] != INF:\n",
    "                directions.append('E')\n",
    "            if maze.grid[x][y].neighbors['W'] != INF:\n",
    "                directions.append('W')\n",
    "            \n",
    "            if len(directions) == 0:\n",
    "                continue\n",
    "           \n",
    "            direction = random.choice(directions)\n",
    "            maze.add_path((y, x), direction, INF) \n",
    "            break\n",
    "    \n",
    "    \n",
    "    color = []\n",
    "    for i in range(0, maze.num_rows):\n",
    "        color.append([])\n",
    "        for j in range(0, maze.num_columns):\n",
    "            color[i].append(-1)\n",
    "    \n",
    "    cur = 0\n",
    "    for x in range(0, maze.num_rows):\n",
    "        for y in range(0, maze.num_columns):\n",
    "            if color[x][y] == -1:\n",
    "                queue = []\n",
    "                queue.append((x, y))\n",
    "                while len(queue):                        \n",
    "                    cx, cy = queue.pop(0)\n",
    "                    if color[cx][cy] == cur:\n",
    "                        continue\n",
    "                    color[cx][cy] = cur\n",
    "                    if cx != 0 and maze.grid[cx][cy].neighbors['N'] != INF and color[cx-1][cy] == -1:\n",
    "                        queue.append((cx-1, cy))\n",
    "                    if cx != maze.num_rows-1 and maze.grid[cx][cy].neighbors['S'] != INF and color[cx+1][cy] == -1:\n",
    "                        queue.append((cx+1, cy))\n",
    "                    if cy != 0 and maze.grid[cx][cy].neighbors['W'] != INF and color[cx][cy-1] == -1:\n",
    "                        queue.append((cx, cy-1))\n",
    "                    if cy != maze.num_columns-1 and maze.grid[cx][cy].neighbors['E'] != INF and color[cx][cy+1] == -1:\n",
    "                        queue.append((cx, cy+1))\n",
    "                cur += 1\n",
    "    edges = []\n",
    "    for x in range(0, maze.num_rows):\n",
    "        for y in range(0, maze.num_columns):\n",
    "            if x != maze.num_rows-1 and maze.grid[x][y].neighbors['S'] == INF and color[x+1][y] != color[x][y]:\n",
    "                edges.append((x, y, 'S'))\n",
    "            if y != maze.num_columns-1 and maze.grid[x][y].neighbors['E'] == INF and color[x][y+1] != color[x][y]:\n",
    "                edges.append((x, y, 'E'))\n",
    "    \n",
    "    dsu = [dset((i)) for i in range(0, cur)]\n",
    "    \n",
    "    count = 0\n",
    "    \n",
    "    while len(edges):\n",
    "        x, y, direction = random.choice(edges)\n",
    "        edges.remove((x, y, direction))\n",
    "        if direction == 'S' and dsu[color[x][y]].find() != dsu[color[x+1][y]].find():\n",
    "            maze.add_path((y, x), 'S', 0)\n",
    "            dsu[color[x][y]].union(dsu[color[x+1][y]])\n",
    "            count += 1\n",
    "        if direction == 'E' and dsu[color[x][y]].find() != dsu[color[x][y+1]].find():\n",
    "            maze.add_path((y, x), 'E', 0)\n",
    "            dsu[color[x][y]].union(dsu[color[x][y+1]])\n",
    "            count += 1"
   ]
  },
  {
   "cell_type": "code",
   "execution_count": 98,
   "metadata": {
    "scrolled": true
   },
   "outputs": [],
   "source": [
    "dynam_maze = Maze()\n",
    "dynam_maze.load(\"Sidewinder_16x16.maze\")\n",
    "dynamic(dynam_maze, 10)"
   ]
  },
  {
   "cell_type": "code",
   "execution_count": 99,
   "metadata": {},
   "outputs": [
    {
     "data": {
      "image/png": "[encoded data removed]",
      "text/plain": [
       "<PIL.Image.Image image mode=RGBA size=330x330 at 0x7FC660434590>"
      ]
     },
     "metadata": {},
     "output_type": "display_data"
    }
   ],
   "source": [
    "display(dynam_maze.draw(cell_width = 20))"
   ]
  },
  {
   "cell_type": "code",
   "execution_count": 100,
   "metadata": {},
   "outputs": [
    {
     "data": {
      "image/png": "[encoded data removed]",
      "text/plain": [
       "<PIL.Image.Image image mode=RGBA size=330x330 at 0x7FC660434A10>"
      ]
     },
     "metadata": {},
     "output_type": "display_data"
    }
   ],
   "source": [
    "display(maze.diff(dynam_maze, cell_width = 20))"
   ]
  }
 ],
 "metadata": {
  "kernelspec": {
   "display_name": "Python 3",
   "language": "python",
   "name": "python3"
  },
  "language_info": {
   "codemirror_mode": {
    "name": "ipython",
    "version": 3
   },
   "file_extension": ".py",
   "mimetype": "text/x-python",
   "name": "python",
   "nbconvert_exporter": "python",
   "pygments_lexer": "ipython3",
   "version": "3.7.7"
  }
 },
 "nbformat": 4,
 "nbformat_minor": 4
}
