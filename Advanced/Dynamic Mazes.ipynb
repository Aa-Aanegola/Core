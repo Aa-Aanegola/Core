{
 "cells": [
  {
   "cell_type": "markdown",
   "metadata": {},
   "source": [
    "# Dynamic Mazes\n",
    "To create a dynamic maze, we created a function that updates the maze. We assume that the maze passed is perfect, and hence we need to ensure that the maze is connected after updation. Since adding a wall will always create a section of the maze that is disconnected, we have to remove and add mazes in pairs. "
   ]
  },
  {
   "cell_type": "code",
   "execution_count": 54,
   "metadata": {},
   "outputs": [],
   "source": [
    "import sys\n",
    "import random\n",
    "sys.path.append(\"../\")\n",
    "from pprint import pprint\n",
    "from Core.maze import Maze, INF"
   ]
  },
  {
   "cell_type": "code",
   "execution_count": 74,
   "metadata": {},
   "outputs": [
    {
     "data": {
      "image/png": "[encoded data removed]",
      "text/plain": [
       "<PIL.Image.Image image mode=RGBA size=330x330 at 0x7FC4FB22B9D0>"
      ]
     },
     "metadata": {},
     "output_type": "display_data"
    }
   ],
   "source": [
    "maze = Maze()\n",
    "maze.load(\"Sidewinder_16x16.maze\")\n",
    "display(maze.draw(cell_width = 20))"
   ]
  },
  {
   "cell_type": "code",
   "execution_count": 75,
   "metadata": {},
   "outputs": [],
   "source": [
    "# Implementation of DSU in Python\n",
    "class dset:\n",
    "    def __init__(self, data):\n",
    "        self.data = data\n",
    "        self.parent = self\n",
    "\n",
    "    def find(self):\n",
    "        if self.parent == self:\n",
    "            return self\n",
    "\n",
    "        return self.parent.find()\n",
    "\n",
    "    def union(self, set2):\n",
    "        p1 = self.find()\n",
    "        p2 = set2.find()\n",
    "        p1.parent = p2"
   ]
  },
  {
   "cell_type": "code",
   "execution_count": 108,
   "metadata": {},
   "outputs": [],
   "source": [
    "def dynamic(maze, num):\n",
    "    if num > maze.num_rows + maze.num_columns:\n",
    "        num = maze.num_rows + maze.num_columns\n",
    "    \n",
    "    for i in range(0, num):\n",
    "        while True:\n",
    "            # Generate point in maze\n",
    "            x = random.randint(0, maze.num_columns-1)\n",
    "            y = random.randint(0, maze.num_rows-1)\n",
    "            \n",
    "            \n",
    "            directions = []\n",
    "            # Randomly check all walls\n",
    "            if maze.grid[x][y].neighbors['N'] != INF:\n",
    "                directions.append('N')\n",
    "            if maze.grid[x][y].neighbors['S'] != INF:\n",
    "                directions.append('S')\n",
    "            if maze.grid[x][y].neighbors['E'] != INF:\n",
    "                directions.append('E')\n",
    "            if maze.grid[x][y].neighbors['W'] != INF:\n",
    "                directions.append('W')\n",
    "            \n",
    "            if len(directions) == 0:\n",
    "                continue\n",
    "           \n",
    "            direction = random.choice(directions)\n",
    "            maze.add_path((y, x), direction, INF) \n",
    "            break\n",
    "    \n",
    "    \n",
    "    color = []\n",
    "    for i in range(0, maze.num_rows):\n",
    "        color.append([])\n",
    "        for j in range(0, maze.num_rows):\n",
    "            color[i].append(-1)\n",
    "    \n",
    "    cur = 0\n",
    "    for x in range(0, maze.num_columns):\n",
    "        for y in range(0, maze.num_rows):\n",
    "            if color[x][y] == -1:\n",
    "                queue = []\n",
    "                queue.append((x, y))\n",
    "                while len(queue):\n",
    "                    cx, cy = queue.pop(0)\n",
    "                    color[cx][cy] = cur\n",
    "                    if cy != 0 and maze.grid[cx][cy].neighbors['N'] != INF and color[cx][cy-1] == -1:\n",
    "                        queue.append((cx, cy-1))\n",
    "                    if cy != maze.num_rows-1 and maze.grid[cx][cy].neighbors['S'] != INF and color[cx][cy+1] == -1:\n",
    "                        queue.append((cx, cy+1))\n",
    "                    if cx != 0 and maze.grid[cx][cy].neighbors['W'] != INF and color[cx-1][cy] == -1:\n",
    "                        queue.append((cx-1, cy))\n",
    "                    if cx != maze.num_columns-1 and maze.grid[cx][cy].neighbors['E'] != INF and color[cx+1][cy] == -1:\n",
    "                        queue.append((cx+1, cy))\n",
    "                cur += 1\n",
    "    pprint(color)"
   ]
  },
  {
   "cell_type": "code",
   "execution_count": 109,
   "metadata": {
    "scrolled": true
   },
   "outputs": [
    {
     "name": "stdout",
     "output_type": "stream",
     "text": [
      "[[0, 0, 0, 1, 1, 2, 2, 2, 3, 3, 2, 2, 2, 2, 2, 4],\n",
      " [0, 0, 0, 1, 1, 2, 2, 2, 2, 2, 2, 2, 2, 2, 2, 2],\n",
      " [0, 0, 0, 1, 1, 2, 2, 2, 2, 2, 2, 2, 2, 2, 2, 2],\n",
      " [0, 0, 0, 0, 2, 2, 5, 5, 6, 6, 7, 2, 2, 2, 2, 2],\n",
      " [0, 0, 0, 0, 0, 0, 5, 5, 5, 0, 0, 8, 2, 2, 2, 2],\n",
      " [0, 0, 0, 0, 0, 0, 0, 0, 0, 0, 0, 0, 2, 2, 2, 2],\n",
      " [0, 0, 0, 0, 0, 0, 0, 0, 0, 0, 0, 2, 2, 2, 2, 2],\n",
      " [9, 9, 9, 0, 0, 0, 0, 0, 0, 0, 0, 10, 2, 2, 2, 2],\n",
      " [9, 9, 9, 9, 9, 9, 11, 2, 12, 13, 0, 2, 2, 2, 2, 2],\n",
      " [14, 9, 9, 9, 15, 9, 16, 2, 12, 12, 12, 2, 2, 2, 2, 2],\n",
      " [14, 9, 17, 15, 15, 9, 16, 2, 2, 2, 2, 2, 2, 2, 2, 18],\n",
      " [14, 9, 9, 15, 19, 9, 16, 19, 20, 20, 20, 21, 21, 21, 21, 21],\n",
      " [14, 22, 9, 19, 19, 19, 23, 19, 24, 24, 21, 21, 21, 21, 25, 25],\n",
      " [22, 22, 22, 19, 19, 19, 19, 19, 24, 24, 21, 21, 21, 21, 26, 27],\n",
      " [22, 22, 28, 19, 19, 19, 19, 19, 29, 24, 21, 21, 21, 30, 31, 32],\n",
      " [22, 33, 34, 19, 19, 35, 19, 19, 29, 24, 36, 37, 21, 38, 39, 40]]\n"
     ]
    },
    {
     "data": {
      "image/png": "[encoded data removed]",
      "text/plain": [
       "<PIL.Image.Image image mode=RGBA size=490x490 at 0x7FC4FA00DE50>"
      ]
     },
     "metadata": {},
     "output_type": "display_data"
    }
   ],
   "source": [
    "dynam_maze = Maze()\n",
    "dynam_maze.load(\"Sidewinder_16x16.maze\")\n",
    "dynamic(dynam_maze, 10)\n",
    "display(maze.diff(dynam_maze, cell_width = 30))"
   ]
  },
  {
   "cell_type": "code",
   "execution_count": null,
   "metadata": {},
   "outputs": [],
   "source": []
  }
 ],
 "metadata": {
  "kernelspec": {
   "display_name": "ML",
   "language": "python",
   "name": "ml"
  },
  "language_info": {
   "codemirror_mode": {
    "name": "ipython",
    "version": 3
   },
   "file_extension": ".py",
   "mimetype": "text/x-python",
   "name": "python",
   "nbconvert_exporter": "python",
   "pygments_lexer": "ipython3",
   "version": "3.7.7"
  }
 },
 "nbformat": 4,
 "nbformat_minor": 4
}
