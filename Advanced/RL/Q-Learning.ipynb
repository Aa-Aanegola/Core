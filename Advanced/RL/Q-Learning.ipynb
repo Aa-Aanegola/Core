{
 "metadata": {
  "language_info": {
   "codemirror_mode": {
    "name": "ipython",
    "version": 3
   },
   "file_extension": ".py",
   "mimetype": "text/x-python",
   "name": "python",
   "nbconvert_exporter": "python",
   "pygments_lexer": "ipython3",
   "version": "3.8.2-final"
  },
  "orig_nbformat": 2,
  "kernelspec": {
   "name": "python38264bitcbedb950e51a4bebb536402726991d1a",
   "display_name": "Python 3.8.2 64-bit"
  }
 },
 "nbformat": 4,
 "nbformat_minor": 2,
 "cells": [
  {
   "cell_type": "code",
   "execution_count": 14,
   "metadata": {},
   "outputs": [],
   "source": [
    "import sys\n",
    "import random\n",
    "sys.path.append(\"../\")\n",
    "sys.path.append(\"../../\")\n",
    "from pprint import pprint\n",
    "from Core.maze import Maze, INF\n",
    "\n",
    "import numpy as np"
   ]
  },
  {
   "cell_type": "code",
   "execution_count": 36,
   "metadata": {},
   "outputs": [
    {
     "output_type": "display_data",
     "data": {
      "text/plain": "<PIL.Image.Image image mode=RGBA size=330x330 at 0x7FC003262CA0>",
      "image/png": "[encoded data removed]"
     },
     "metadata": {}
    }
   ],
   "source": [
    "maze = Maze()\n",
    "N = 8\n",
    "maze.load(f\"BinaryTree_{N}x{N}.maze\")\n",
    "display(maze.draw(cell_width=40))"
   ]
  },
  {
   "source": [
    "# Q Learning\n",
    "add some basic intro "
   ],
   "cell_type": "markdown",
   "metadata": {}
  },
  {
   "cell_type": "code",
   "execution_count": null,
   "metadata": {},
   "outputs": [],
   "source": [
    "LEARNING_RATE = 0.1\n",
    "DISCOUNT = 0.90"
   ]
  },
  {
   "cell_type": "code",
   "execution_count": 35,
   "metadata": {},
   "outputs": [
    {
     "output_type": "stream",
     "name": "stdout",
     "text": [
      "64\n[-inf, 0, -inf, 0]\n[0, -inf, -inf, -inf]\n"
     ]
    }
   ],
   "source": [
    "# setup the q table\n",
    "q_table = []\n",
    "\n",
    "for i in range(maze.num_rows):\n",
    "    for j in range(maze.num_columns):\n",
    "        temp = []\n",
    "        for value in maze.grid[i][j].neighbors.values():\n",
    "            # the edges which are walls have value as -inf, \n",
    "            # to discourage any agent trying to go from there\n",
    "            temp.append(-value)\n",
    "        q_table.append(temp)\n",
    "\n",
    "print(len(q_table))\n",
    "print(q_table[0])\n",
    "print(q_table[-1])"
   ]
  },
  {
   "source": [
    "## Reward\n",
    "on reaching the end, we give the agent 0 reward, else, its -1 for every timestep"
   ],
   "cell_type": "markdown",
   "metadata": {}
  },
  {
   "cell_type": "code",
   "execution_count": 39,
   "metadata": {},
   "outputs": [],
   "source": [
    "def reward(state):\n",
    "    \"\"\"\n",
    "    takes input as current cell state.\n",
    "\n",
    "    returns 0 if cell is the end state, else -1\n",
    "    \"\"\"\n",
    "\n",
    "    if state[0] == maze.num_rows - 1 and state[1] == maze.num_columns - 1:\n",
    "        return 0\n",
    "    else:\n",
    "        return -1\n"
   ]
  },
  {
   "cell_type": "code",
   "execution_count": 50,
   "metadata": {},
   "outputs": [],
   "source": [
    "def get_next_cell(current_cell, action):\n",
    "    \"\"\"\n",
    "    input:\n",
    "        current_state:\n",
    "            the current tuple of indices in the grid\n",
    "        action:\n",
    "            any of [0, 1, 2, 3] \n",
    "            taking the directions N, S, W, E respectively\n",
    "\n",
    "    returns:\n",
    "        the index tuple of the next state\n",
    "    \"\"\"\n",
    "\n",
    "    if not (0 <= action < 4):\n",
    "        raise ValueError(f\"Invalid action {action}. Must be in [0, 3] range.\")\n",
    "    \n",
    "    x, y = current_cell\n",
    "    \n",
    "    if not (0 <= x < maze.num_rows):\n",
    "        raise ValueError(f\"Current state {x} out of row range {maze.num_rows}\")\n",
    "    if not (0 <= y < maze.num_columns):\n",
    "        raise ValueError(f\"Current state {x} out of row range {maze.num_columns}\")\n",
    "\n",
    "    directions = [(-1, 0), (1, 0), (0, -1), (0, 1)]\n",
    "    dx, dy = directions[action]\n",
    "    return (x+dx, y+dy)\n"
   ]
  },
  {
   "cell_type": "code",
   "execution_count": 64,
   "metadata": {},
   "outputs": [],
   "source": [
    "def cell_to_state(cell):\n",
    "    \"\"\"\n",
    "    input:\n",
    "        cell:\n",
    "            tuple of indices\n",
    "    return:\n",
    "        state:\n",
    "            the mapping to the linearised q-table index\n",
    "    \"\"\"\n",
    "    return cell[0]*maze.num_rows + cell[1]"
   ]
  },
  {
   "cell_type": "code",
   "execution_count": 65,
   "metadata": {},
   "outputs": [],
   "source": [
    "def state_to_cell(state):\n",
    "    \"\"\"\n",
    "    input:\n",
    "        state:\n",
    "            the mapping to the linearised q-table index\n",
    "    return:\n",
    "        cell:\n",
    "            tuple of indices\n",
    "    \"\"\"\n",
    "    quotient = state//maze.num_rows\n",
    "    remainder = state - quotient * maze.num_rows\n",
    "    return (quotient, remainder)"
   ]
  },
  {
   "cell_type": "code",
   "execution_count": 69,
   "metadata": {},
   "outputs": [],
   "source": [
    "# print(cell_to_state(state_to_cell(8)))\n",
    "# print(cell_to_state((0, 5)))\n",
    "# print(state_to_cell(cell_to_state((0, 5))))"
   ]
  }
 ]
}