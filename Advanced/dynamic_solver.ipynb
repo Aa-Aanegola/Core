{
 "cells": [
  {
   "cell_type": "code",
   "execution_count": 44,
   "metadata": {},
   "outputs": [],
   "source": [
    "import sys\n",
    "import time\n",
    "from IPython.display import clear_output\n",
    "import random\n",
    "sys.path.append(\"../\")\n",
    "from pprint import pprint\n",
    "from Core.maze import Maze, INF\n",
    "from math import exp, sqrt"
   ]
  },
  {
   "cell_type": "code",
   "execution_count": 45,
   "metadata": {},
   "outputs": [
    {
     "data": {
      "image/png": "[encoded data removed]",
      "text/plain": [
       "<PIL.Image.Image image mode=RGBA size=330x330 at 0x7FDCFBF2D990>"
      ]
     },
     "metadata": {},
     "output_type": "display_data"
    }
   ],
   "source": [
    "maze = Maze()\n",
    "maze.load(\"Sidewinder_16x16.maze\")\n",
    "display(maze.draw(cell_width = 20))"
   ]
  },
  {
   "cell_type": "code",
   "execution_count": 46,
   "metadata": {},
   "outputs": [],
   "source": [
    "# Implementation of DSU in Python\n",
    "class dset:\n",
    "    def __init__(self, data):\n",
    "        self.data = data\n",
    "        self.parent = self\n",
    "\n",
    "    def find(self):\n",
    "        if self.parent == self:\n",
    "            return self\n",
    "\n",
    "        return self.parent.find()\n",
    "\n",
    "    def union(self, set2):\n",
    "        p1 = self.find()\n",
    "        p2 = set2.find()\n",
    "        p1.parent = p2"
   ]
  },
  {
   "cell_type": "code",
   "execution_count": 47,
   "metadata": {},
   "outputs": [],
   "source": [
    "def dynamic(maze, num):\n",
    "    if num > maze.num_rows + maze.num_columns:\n",
    "        num = maze.num_rows + maze.num_columns\n",
    "    \n",
    "    for i in range(0, num):\n",
    "        while True:\n",
    "            # Generate point in maze\n",
    "            x = random.randint(0, maze.num_columns-1)\n",
    "            y = random.randint(0, maze.num_rows-1)\n",
    "            \n",
    "            \n",
    "            directions = []\n",
    "            # Randomly check all walls\n",
    "            if maze.grid[x][y].neighbors['N'] != INF:\n",
    "                directions.append('N')\n",
    "            if maze.grid[x][y].neighbors['S'] != INF:\n",
    "                directions.append('S')\n",
    "            if maze.grid[x][y].neighbors['E'] != INF:\n",
    "                directions.append('E')\n",
    "            if maze.grid[x][y].neighbors['W'] != INF:\n",
    "                directions.append('W')\n",
    "            \n",
    "            if len(directions) == 0:\n",
    "                continue\n",
    "           \n",
    "            direction = random.choice(directions)\n",
    "            maze.add_path((y, x), direction, INF) \n",
    "            break\n",
    "    \n",
    "    \n",
    "    color = []\n",
    "    for i in range(0, maze.num_rows):\n",
    "        color.append([])\n",
    "        for j in range(0, maze.num_columns):\n",
    "            color[i].append(-1)\n",
    "    \n",
    "    cur = 0\n",
    "    for x in range(0, maze.num_rows):\n",
    "        for y in range(0, maze.num_columns):\n",
    "            if color[x][y] == -1:\n",
    "                queue = []\n",
    "                queue.append((x, y))\n",
    "                while len(queue):                        \n",
    "                    cx, cy = queue.pop(0)\n",
    "                    if color[cx][cy] == cur:\n",
    "                        continue\n",
    "                    color[cx][cy] = cur\n",
    "                    if cx != 0 and maze.grid[cx][cy].neighbors['N'] != INF and color[cx-1][cy] == -1:\n",
    "                        queue.append((cx-1, cy))\n",
    "                    if cx != maze.num_rows-1 and maze.grid[cx][cy].neighbors['S'] != INF and color[cx+1][cy] == -1:\n",
    "                        queue.append((cx+1, cy))\n",
    "                    if cy != 0 and maze.grid[cx][cy].neighbors['W'] != INF and color[cx][cy-1] == -1:\n",
    "                        queue.append((cx, cy-1))\n",
    "                    if cy != maze.num_columns-1 and maze.grid[cx][cy].neighbors['E'] != INF and color[cx][cy+1] == -1:\n",
    "                        queue.append((cx, cy+1))\n",
    "                cur += 1\n",
    "    edges = []\n",
    "    for x in range(0, maze.num_rows):\n",
    "        for y in range(0, maze.num_columns):\n",
    "            if x != maze.num_rows-1 and maze.grid[x][y].neighbors['S'] == INF and color[x+1][y] != color[x][y]:\n",
    "                edges.append((x, y, 'S'))\n",
    "            if y != maze.num_columns-1 and maze.grid[x][y].neighbors['E'] == INF and color[x][y+1] != color[x][y]:\n",
    "                edges.append((x, y, 'E'))\n",
    "    \n",
    "    dsu = [dset((i)) for i in range(0, cur)]\n",
    "    \n",
    "    count = 0\n",
    "    \n",
    "    while len(edges):\n",
    "        x, y, direction = random.choice(edges)\n",
    "        edges.remove((x, y, direction))\n",
    "        if direction == 'S' and dsu[color[x][y]].find() != dsu[color[x+1][y]].find():\n",
    "            maze.add_path((y, x), 'S', 0)\n",
    "            dsu[color[x][y]].union(dsu[color[x+1][y]])\n",
    "            count += 1\n",
    "        if direction == 'E' and dsu[color[x][y]].find() != dsu[color[x][y+1]].find():\n",
    "            maze.add_path((y, x), 'E', 0)\n",
    "            dsu[color[x][y]].union(dsu[color[x][y+1]])\n",
    "            count += 1"
   ]
  },
  {
   "cell_type": "code",
   "execution_count": 89,
   "metadata": {},
   "outputs": [],
   "source": [
    "def dynam_solver(maze, start, end, dynam_count,dynam_factor):\n",
    "    if dynam_count < 1:\n",
    "        dynam_count = 1\n",
    "    count = 0\n",
    "    rand_check = ((maze.num_columns+maze.num_rows)/(2*dynam_count))*(dynam_factor/(maze.num_rows+maze.num_columns))\n",
    "    if rand_check < 0.25:\n",
    "        rand_check = 0.25\n",
    "    #thresh = 1 - exp(-0.1*dynam_count)\n",
    "    cx, cy = start\n",
    "    dx, dy = end\n",
    "    #previous = 'X'\n",
    "    \n",
    "    while cx != dx or cy != dy:\n",
    "        clear_output(wait=True)\n",
    "        maze.add_colors(path = [(cy,cx)])\n",
    "        display(maze.draw(cell_width = 20))\n",
    "        maze.add_colors(color = (0,0,0), path =[(cy,cx)])\n",
    "        #print(cx,cy,maze.grid[cy][cx].neighbors['W'],maze.grid[cy][cx].neighbors['N'],maze.grid[cy][cx].neighbors['E'],maze.grid[cy][cx].neighbors['S'])\n",
    "        dir_list = []\n",
    "        if cx != 0 and maze.grid[cy][cx].neighbors['W'] != INF:\n",
    "            if cx - dx > 0 and random.random() < rand_check:\n",
    "                dir_list.append('W')\n",
    "            dir_list.append('W')\n",
    "        if cy != 0 and maze.grid[cy][cx].neighbors['N'] != INF:\n",
    "            if cy - dy > 0 and random.random() < rand_check:\n",
    "                dir_list.append('N')\n",
    "            dir_list.append('N')\n",
    "        if cx != maze.num_columns - 1 and maze.grid[cy][cx].neighbors['E'] != INF:\n",
    "            if cx - dx < 0 and random.random() < rand_check:\n",
    "                dir_list.append('E')\n",
    "            dir_list.append('E')\n",
    "        if cy != maze.num_rows - 1 and maze.grid[cy][cx].neighbors['S'] != INF:\n",
    "            if cy - dy < 0 and random.random() < rand_check:\n",
    "                dir_list.append('S')\n",
    "            dir_list.append('S')\n",
    "        \n",
    "       # if len(dir_list) != 1:\n",
    "        #    if previous in dir_list and random.random() < thresh:\n",
    "        #        dir_list.remove(previous)\n",
    "        \n",
    "        cho = random.choice(dir_list)\n",
    "        if cho == 'W':\n",
    "            cx-=1\n",
    "        elif cho == 'N':\n",
    "            cy-=1\n",
    "        elif cho == 'E':\n",
    "            cx+=1\n",
    "        else:\n",
    "            cy+=1\n",
    "        count += 1\n",
    "        if count % dynam_count == 0:\n",
    "            dynamic(maze, dynam_factor) \n",
    "    clear_output(wait=True)\n",
    "    maze.add_colors(path = [(cy,cx)])\n",
    "    display(maze.draw(cell_width = 20))\n",
    "    maze.add_colors(color = (0,0,0), path =[(cy,cx)])\n",
    "    print(rand_check)\n",
    "    return count"
   ]
  },
  {
   "cell_type": "code",
   "execution_count": 90,
   "metadata": {
    "scrolled": true
   },
   "outputs": [
    {
     "data": {
      "image/png": "[encoded data removed]",
      "text/plain": [
       "<PIL.Image.Image image mode=RGBA size=330x330 at 0x7FDCFBECFC50>"
      ]
     },
     "metadata": {},
     "output_type": "display_data"
    },
    {
     "name": "stdout",
     "output_type": "stream",
     "text": [
      "0.48484848484848486\n",
      "588\n"
     ]
    }
   ],
   "source": [
    "start = (0, 0)\n",
    "end = (15, 15)\n",
    "cnt = 33\n",
    "m = maze.num_rows + maze.num_columns\n",
    "count = dynam_solver(maze, start, end, cnt, m)\n",
    "print(count)"
   ]
  },
  {
   "cell_type": "code",
   "execution_count": null,
   "metadata": {},
   "outputs": [],
   "source": []
  }
 ],
 "metadata": {
  "kernelspec": {
   "display_name": "Python 3",
   "language": "python",
   "name": "python3"
  },
  "language_info": {
   "codemirror_mode": {
    "name": "ipython",
    "version": 3
   },
   "file_extension": ".py",
   "mimetype": "text/x-python",
   "name": "python",
   "nbconvert_exporter": "python",
   "pygments_lexer": "ipython3",
   "version": "3.7.7"
  }
 },
 "nbformat": 4,
 "nbformat_minor": 4
}
