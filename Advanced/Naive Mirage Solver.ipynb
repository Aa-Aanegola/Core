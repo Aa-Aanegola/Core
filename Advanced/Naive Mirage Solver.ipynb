{
 "cells": [
  {
   "cell_type": "markdown",
   "metadata": {},
   "source": [
    "# Basic Mirage Maze Solving Algorithm\n",
    "To set up a benchmark for optimized solving algorithms we added the wall check to the Uniform Cost Search Algorithm. The algorithm doesn't check walls optimally, it checks every wall in the maze. This means that the cost of using this algorithm will be massively dependent on the cost of checking a wall.  "
   ]
  },
  {
   "cell_type": "code",
   "execution_count": 3,
   "metadata": {},
   "outputs": [],
   "source": [
    "import sys\n",
    "import random\n",
    "sys.path.append(\"../\")\n",
    "from pprint import pprint\n",
    "from Core.maze import Maze, INF\n",
    "from queue import PriorityQueue"
   ]
  },
  {
   "cell_type": "code",
   "execution_count": 10,
   "metadata": {},
   "outputs": [],
   "source": [
    "# We need the code to create the mirage maze\n",
    "def Mirage(maze, p):\n",
    "    \"\"\"\n",
    "    maze is the original maze onto which we superpose the mirage layer\n",
    "    p is the probability with which we add an apparent wall\n",
    "    \"\"\"\n",
    "    perceived_maze = Maze(maze.num_rows, maze.num_columns)\n",
    "    for x in range(0, maze.num_columns):\n",
    "        for y in range(0, maze.num_rows):\n",
    "            # Copy the contents of the original maze\n",
    "            perceived_maze.grid[x][y].neighbors = dict.copy(maze.grid[x][y].neighbors)\n",
    "            \n",
    "            # For each cardinal direction, check if a path exists in that direction from a particular node\n",
    "            # If there is a path, then \n",
    "            if maze.grid[x][y].neighbors['W'] != INF:\n",
    "                if(random.uniform(0, 1) <= p):\n",
    "                    perceived_maze.add_path((x, y), 'W', INF)\n",
    "                    \n",
    "            if maze.grid[x][y].neighbors['E'] != INF:\n",
    "                if(random.uniform(0, 1) <= p):\n",
    "                    perceived_maze.add_path((x, y), 'E', INF)\n",
    "            \n",
    "            if maze.grid[x][y].neighbors['N'] != INF:\n",
    "                if(random.uniform(0, 1) <= p):\n",
    "                    perceived_maze.add_path((x, y), 'N', INF)\n",
    "            \n",
    "            if maze.grid[x][y].neighbors['S'] != INF:\n",
    "                if(random.uniform(0, 1) <= p):\n",
    "                    perceived_maze.add_path((x, y), 'S', INF)\n",
    "    return perceived_maze\n",
    "\n",
    "def check(perceived_maze, original_maze, x, y, direction):\n",
    "    if perceived_maze.grid[x][y].neighbors[direction] != original_maze.grid[x][y].neighbors[direction]:\n",
    "        perceived_maze.grid[x][y].neighbors[direction] = original_maze.grid[x][y].neighbors[direction]\n",
    "        return True\n",
    "    return False"
   ]
  },
  {
   "cell_type": "markdown",
   "metadata": {},
   "source": [
    "Since this is purely indicative of how a solution would work, we do not deny the algorithm access to the original maze. To ensure that this is representative of how a mirage maze would be solved, we simply do not use knowledge of the original maze anyhwere. In a more rigorous setting we'd ensure that the original maze is obscure, and only the perceived maze is visible to the solving agent. "
   ]
  },
  {
   "cell_type": "code",
   "execution_count": 11,
   "metadata": {},
   "outputs": [],
   "source": [
    "def UCS_Mirage(maze, original_maze, start, end, move_cost, search_cost):\n",
    "    # setup\n",
    "    explored = set()\n",
    "    frontier = PriorityQueue()\n",
    "    node = start\n",
    "    cost = 0\n",
    "    n_rows = len(maze.grid)\n",
    "    n_cols = len(maze.grid[0])\n",
    "    parents = [[(-1, -1)]*n_cols for i in range(n_rows)]\n",
    "\n",
    "\n",
    "    # init\n",
    "    frontier.put((cost, node))\n",
    "    while not frontier.empty():\n",
    "        cost, node = frontier.get()\n",
    "        if node == end:\n",
    "            return True, cost, parents\n",
    "\n",
    "        explored.add(node)\n",
    "        x, y = node\n",
    "        \n",
    "        if(maze.grid[x][y].neighbors['N'] == INF):\n",
    "            check(maze, original_maze, x, y, 'N')\n",
    "            cost += search_cost\n",
    "        if(maze.grid[x][y].neighbors['S'] == INF):\n",
    "            check(maze, original_maze, x, y, 'S')\n",
    "            cost += search_cost\n",
    "        if(maze.grid[x][y].neighbors['E'] == INF):\n",
    "            check(maze, original_maze, x, y, 'E')\n",
    "            cost += search_cost\n",
    "        if(maze.grid[x][y].neighbors['W'] == INF):\n",
    "            check(maze, original_maze, x, y, 'W')\n",
    "            cost += search_cost\n",
    "        \n",
    "        neighbors = maze.grid[x][y].neighbors\n",
    "        if neighbors['N'] != INF and (x-1, y) not in explored and x>0:\n",
    "            cost += move_cost\n",
    "            frontier.put((cost+neighbors['N'], (x-1, y)))\n",
    "            parents[x-1][y] = (x, y)\n",
    "        if neighbors['S'] != INF and (x+1, y) not in explored and x+1<n_rows:\n",
    "            cost += move_cost\n",
    "            frontier.put((cost+neighbors['S'], (x+1, y)))\n",
    "            parents[x+1][y] = (x, y)\n",
    "        if neighbors['E'] != INF and (x, y+1) not in explored and y+1<n_cols:\n",
    "            cost += move_cost\n",
    "            frontier.put((cost+neighbors['E'], (x, y+1)))\n",
    "            parents[x][y+1] = (x, y)\n",
    "        if neighbors['W'] != INF and (x, y-1) not in explored and y>0:\n",
    "            cost += move_cost\n",
    "            frontier.put((cost+neighbors['W'], (x, y-1)))\n",
    "            parents[x][y-1] = (x, y)\n",
    "\n",
    "\n",
    "    return False, -1, []\n"
   ]
  },
  {
   "cell_type": "code",
   "execution_count": 29,
   "metadata": {},
   "outputs": [
    {
     "data": {
      "image/png": "[encoded data removed]",
      "text/plain": [
       "<PIL.Image.Image image mode=RGBA size=330x330 at 0x7F26EF4A4C90>"
      ]
     },
     "metadata": {},
     "output_type": "display_data"
    }
   ],
   "source": [
    "maze = Maze()\n",
    "maze.load(\"BinaryTree_16x16.maze\")\n",
    "mirage_maze = Mirage(maze, 0.2)\n",
    "display(mirage_maze.diff(maze, cell_width = 20))"
   ]
  },
  {
   "cell_type": "code",
   "execution_count": 31,
   "metadata": {},
   "outputs": [
    {
     "data": {
      "image/png": "[encoded data removed]",
      "text/plain": [
       "<PIL.Image.Image image mode=RGBA size=330x330 at 0x7F26EF403650>"
      ]
     },
     "metadata": {},
     "output_type": "display_data"
    },
    {
     "data": {
      "image/png": "[encoded data removed]",
      "text/plain": [
       "<PIL.Image.Image image mode=RGBA size=330x330 at 0x7F26EF4A4690>"
      ]
     },
     "metadata": {},
     "output_type": "display_data"
    },
    {
     "name": "stdout",
     "output_type": "stream",
     "text": [
      "Cost :  274\n"
     ]
    }
   ],
   "source": [
    "start = (0, 0)\n",
    "end = (15, 15)\n",
    "\n",
    "found, cost, parents = UCS_Mirage(mirage_maze, maze, start, end, 1, 5)\n",
    "\n",
    "node = end\n",
    "path = [node]\n",
    "while node != start:\n",
    "    node = parents[node[0]][node[1]]\n",
    "    path.append(node)\n",
    "    \n",
    "\n",
    "if found:\n",
    "    # print(\"Cost is: \", cost)\n",
    "    # print(path)\n",
    "    display(mirage_maze.diff(maze, cell_width = 20))\n",
    "    mirage_maze.add_colors(path = path)\n",
    "    display(mirage_maze.draw(cell_width = 20))\n",
    "    print(\"Cost : \", cost)\n",
    "else:\n",
    "    print(\"Path not found!\")"
   ]
  },
  {
   "cell_type": "markdown",
   "metadata": {},
   "source": [
    "### Result\n",
    "As we can see, the mirage maze has no difference from the original maze. All the mirage walls were checked and hence we have a high cost. Increasing the cost of checking a wall will lead to higher and higher costs, as the algorithm checks all the walls. "
   ]
  }
 ],
 "metadata": {
  "kernelspec": {
   "display_name": "ML",
   "language": "python",
   "name": "ml"
  },
  "language_info": {
   "codemirror_mode": {
    "name": "ipython",
    "version": 3
   },
   "file_extension": ".py",
   "mimetype": "text/x-python",
   "name": "python",
   "nbconvert_exporter": "python",
   "pygments_lexer": "ipython3",
   "version": "3.7.7"
  }
 },
 "nbformat": 4,
 "nbformat_minor": 4
}
