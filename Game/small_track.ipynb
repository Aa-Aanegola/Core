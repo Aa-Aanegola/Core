{
 "cells": [
  {
   "cell_type": "code",
   "execution_count": 25,
   "metadata": {},
   "outputs": [],
   "source": [
    "import sys\n",
    "sys.path.append(\"../\")\n",
    "from Core.maze import Maze, INF"
   ]
  },
  {
   "cell_type": "code",
   "execution_count": 26,
   "metadata": {},
   "outputs": [],
   "source": [
    "level = Maze(5, 8)"
   ]
  },
  {
   "cell_type": "code",
   "execution_count": 35,
   "metadata": {},
   "outputs": [],
   "source": [
    "for i in range(0, 7):\n",
    "    level.add_path((i, 0), \"E\", 0)\n",
    "    level.add_path((i, 4), \"E\", 0)\n",
    "    \n",
    "for i in range(0, 4):\n",
    "    level.add_path((0, i), \"S\", 0)\n",
    "    level.add_path((1, i), \"S\", 0)\n",
    "    level.add_path((2, i), \"S\", 0)\n",
    "    level.add_path((5, i), \"S\", 0)\n",
    "    level.add_path((6, i), \"S\", 0)\n",
    "    level.add_path((7, i), \"S\", 0)\n",
    "\n",
    "for i in range(3, 5):\n",
    "    for j in range(1, 3):\n",
    "        level.add_path((i, j), \"S\", 0)\n",
    "\n",
    "level.add_path((3, 2), \"W\", 0)\n",
    "level.add_path((4, 2), \"E\", 0)\n",
    "level.add_path((4, 1), \"W\", 0)\n",
    "level.add_path((4, 3), \"W\", 0)"
   ]
  },
  {
   "cell_type": "code",
   "execution_count": 36,
   "metadata": {},
   "outputs": [
    {
     "data": {
      "image/png": "[encoded data removed]",
      "text/plain": [
       "<PIL.Image.Image image mode=RGBA size=410x260 at 0x7FADEC6330F0>"
      ]
     },
     "metadata": {},
     "output_type": "display_data"
    }
   ],
   "source": [
    "display(level.draw())"
   ]
  },
  {
   "cell_type": "code",
   "execution_count": 37,
   "metadata": {},
   "outputs": [],
   "source": [
    "level.dump(\"small_track.maze\")"
   ]
  }
 ],
 "metadata": {
  "kernelspec": {
   "display_name": "Python 3",
   "language": "python",
   "name": "python3"
  },
  "language_info": {
   "codemirror_mode": {
    "name": "ipython",
    "version": 3
   },
   "file_extension": ".py",
   "mimetype": "text/x-python",
   "name": "python",
   "nbconvert_exporter": "python",
   "pygments_lexer": "ipython3",
   "version": "3.7.3"
  }
 },
 "nbformat": 4,
 "nbformat_minor": 2
}
