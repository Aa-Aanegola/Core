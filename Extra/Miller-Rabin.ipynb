{
 "cells": [
  {
   "cell_type": "markdown",
   "metadata": {},
   "source": [
    "# The Miller-Rabin algorithm\n",
    "Large prime numbers are used in almost every cryptosystem today. One problem that is very prominent in the field of security is the challenge of verifying whether a given number is prime or not. This problem is very challenging due to the sheer scale of the prime numbers, for example the RSA algorithm uses a key of length 1024 bits (minimum), and so we need two primes of approximately half that length. In powers of 10, this is 150 digits. To check if a number is prime, we need to check if the given number is divisible by all numbers less than or equal to the square root of the given number. The square root of a 150 bit number is a 75 bit number, and exploring all the possibilities would take around 10000 years on a classical machine!  \n",
    "To overcome this hurdle and test for primality in acceptable time, we have the Miller-Rabin primality test that never declares a prime number as composite, but may declare a composite number as prime. This method of primality testing results in a correct guess 50% of the time, which means that if we run the test n times, our probability of being correct is 1 - 1/2<sup>n</sup>.  \n",
    "A deterministic approach to determine whether a number is prime or not exists (AKS test) but it takes poly(m) time where m is the number of bits in the number. For most use cases this is much too slow and we opt for the probabalistic method.\n",
    "\n",
    "## How does it work?\n",
    "The Miller-Rabin test relies on a set of equalities that hold for prime numbers, but may not hold for composite numbers. \n",
    "\n",
    "- For a prime number p, a<sup>p-1</sup> $\\cong$ 1 mod p for all a in {1, 2, ... p-1}\n",
    "- For a composite number N (except Carmichael numbers) atleast half the elements a in {1, 2, 3 ... N-1} have a<sup>N-1</sup> $\\neq$ 1 mod N\n",
    "- So if we randomly pick a number in {1, 2, ... N-1} and compute a<sup>N-1</sup> mod N : \n",
    "    * If N is a prime number, then it is always 1\n",
    "    * If N is a composite number (excluding carmichael numbers) then it is not 1 with probability 1/2.\n",
    "\n",
    "The miller rabin test uses the above to test if a number is prime or not. However the algorithm fails for carmichael numbers (they emulate the property of prime numbers) but carmichael numbers are very rare but infinitely many. A seperate test may have to be done for carmichael numbers. "
   ]
  },
  {
   "cell_type": "code",
   "execution_count": 17,
   "metadata": {},
   "outputs": [],
   "source": [
    "import random"
   ]
  },
  {
   "cell_type": "code",
   "execution_count": 18,
   "metadata": {},
   "outputs": [],
   "source": [
    "# First we need a power function which we will create using a binary exponentiation method\n",
    "def power(x, y, mod):\n",
    "    res = 1\n",
    "    x = x%mod\n",
    "    \n",
    "    while y > 0:\n",
    "        if y & 1:\n",
    "            res *= x\n",
    "            res %= mod\n",
    "        \n",
    "        y = y>>1\n",
    "        x *= x\n",
    "        x %= mod\n",
    "    \n",
    "    return res\n",
    "\n",
    "# Here d is the largest odd number that divides n-1.\n",
    "# If the function returns true, our number is prime otherwise it is composite\n",
    "def MillerRabin(n, d):\n",
    "    \n",
    "    a = 2 + random.randint(1, n-4)\n",
    "    \n",
    "    x = power(a, d, n)\n",
    "    \n",
    "    if x == 1 or x == n-1:\n",
    "        return True\n",
    "    \n",
    "    while d != n-1:\n",
    "        x = (x*x)%n\n",
    "        d *= 2\n",
    "        \n",
    "        if x == 1:\n",
    "            return False\n",
    "        if x == n-1:\n",
    "            return True\n",
    "        \n",
    "    return False\n",
    "\n",
    "# n is the number, k is the number of times we run the test\n",
    "def CheckPrimality(n, k):\n",
    "    \n",
    "    if n <= 1 or n == 4:\n",
    "        return False\n",
    "    if n <= 3:\n",
    "        return True\n",
    "    \n",
    "    d = n-1\n",
    "    while d%2 == 0:\n",
    "        d //= 2\n",
    "    \n",
    "    for i in range(0, k):\n",
    "        if MillerRabin(n, d) == False:\n",
    "            return False\n",
    "    \n",
    "    return True"
   ]
  },
  {
   "cell_type": "markdown",
   "metadata": {},
   "source": [
    "Now let us test this code on numbers < 1000"
   ]
  },
  {
   "cell_type": "code",
   "execution_count": 20,
   "metadata": {},
   "outputs": [
    {
     "name": "stdout",
     "output_type": "stream",
     "text": [
      "[2, 3, 5, 7, 11, 13, 17, 19, 23, 29]\n"
     ]
    }
   ],
   "source": [
    "Primes = []\n",
    "\n",
    "for n in range(1, 10000):\n",
    "    if CheckPrimality(n, 10):\n",
    "        Primes.append(n)\n",
    "print(Primes[0:10])"
   ]
  },
  {
   "cell_type": "markdown",
   "metadata": {},
   "source": [
    "As we can see, the algorithm returns the first 10 primes correctly. However let us test on a large prime number, a large composite number and a carmichael number."
   ]
  },
  {
   "cell_type": "code",
   "execution_count": 24,
   "metadata": {},
   "outputs": [
    {
     "name": "stdout",
     "output_type": "stream",
     "text": [
      "100000004861 is prime\n",
      "3628809 is not prime\n",
      "75361 is not prime\n"
     ]
    }
   ],
   "source": [
    "# Large prime number\n",
    "if CheckPrimality(100000004861, 10):\n",
    "    print(\"100000004861 is prime\")\n",
    "else:\n",
    "    print(\"100000004861 is not prime\")\n",
    "\n",
    "# Large composite number (odd)\n",
    "if CheckPrimality(3628809, 10):\n",
    "    print(\"3628809 is prime\")\n",
    "else:\n",
    "    print(\"3628809 is not prime\")\n",
    "\n",
    "# Carmichael number\n",
    "if CheckPrimality(75361, 10):\n",
    "    print(\"75361 is prime\")\n",
    "else:\n",
    "    print(\"75361 is not prime\")"
   ]
  },
  {
   "cell_type": "markdown",
   "metadata": {},
   "source": [
    "As we can see, the algorithm gives us the correct output. The probability of it giving us an incorrect output is 1/2<sup>10</sup> which is extremely low, and can be made lower by increasing the value of k."
   ]
  }
 ],
 "metadata": {
  "kernelspec": {
   "display_name": "ML",
   "language": "python",
   "name": "ml"
  },
  "language_info": {
   "codemirror_mode": {
    "name": "ipython",
    "version": 3
   },
   "file_extension": ".py",
   "mimetype": "text/x-python",
   "name": "python",
   "nbconvert_exporter": "python",
   "pygments_lexer": "ipython3",
   "version": "3.7.7"
  }
 },
 "nbformat": 4,
 "nbformat_minor": 4
}
