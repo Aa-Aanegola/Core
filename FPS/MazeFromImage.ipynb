{
 "cells": [
  {
   "cell_type": "code",
   "execution_count": null,
   "metadata": {},
   "outputs": [],
   "source": [
    "import sys\n",
    "sys.path.append(\"../\")\n",
    "from Core.maze import Maze"
   ]
  },
  {
   "cell_type": "code",
   "execution_count": null,
   "metadata": {},
   "outputs": [],
   "source": [
    "maze = Maze()\n",
    "maze.load_from_image(\"Valorant_Ascent.jpg\", 100)\n",
    "display(maze.draw(cell_width=6))"
   ]
  },
  {
   "cell_type": "code",
   "execution_count": null,
   "metadata": {},
   "outputs": [],
   "source": [
    "maze = Maze()\n",
    "maze.load_from_image(\"Valorant_Bind.jpg\", 100)\n",
    "display(maze.draw(cell_width=6))"
   ]
  },
  {
   "cell_type": "code",
   "execution_count": null,
   "metadata": {},
   "outputs": [],
   "source": [
    "maze = Maze()\n",
    "maze.load_from_image(\"Valorant_Haven.jpg\", 100)\n",
    "display(maze.draw(cell_width=6))"
   ]
  },
  {
   "cell_type": "code",
   "execution_count": null,
   "metadata": {},
   "outputs": [],
   "source": [
    "maze = Maze()\n",
    "maze.load_from_image(\"Valorant_Split.jpg\", 100)\n",
    "display(maze.draw(cell_width=6))"
   ]
  }
 ],
 "metadata": {
  "kernelspec": {
   "display_name": "Python 3.7.4 32-bit",
   "metadata": {
    "interpreter": {
     "hash": "617bd25a90f4d494eba9f700175ec3bab28d128b52129a0fdad9d74201035280"
    }
   },
   "name": "Python 3.7.4 32-bit"
  },
  "language_info": {
   "codemirror_mode": {
    "name": "ipython",
    "version": 3
   },
   "file_extension": ".py",
   "mimetype": "text/x-python",
   "name": "python",
   "nbconvert_exporter": "python",
   "pygments_lexer": "ipython3",
   "version": "3.7.4-final"
  }
 },
 "nbformat": 4,
 "nbformat_minor": 4
}
