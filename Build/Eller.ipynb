{
 "cells": [
  {
   "cell_type": "code",
   "execution_count": 4,
   "metadata": {},
   "outputs": [],
   "source": [
    "import sys\n",
    "import random\n",
    "sys.path.append(\"../\")\n",
    "from pprint import pprint\n",
    "from Core.maze import Maze"
   ]
  },
  {
   "cell_type": "markdown",
   "metadata": {},
   "source": [
    "# The Eller's Algorithm\n",
    "## How does it work?\n",
    "The Eller's algorithm is a very useful algorithm to generate infinite mazes in one dimension relatively quickly, with minimal auxilliary space. It is thus a very memory efficient algorithm that relies on sets corresponding to the current row to forward information about the maze to the next iteration of generation. The algorithm involves giving each cell of a row a unique set ID. The adjacent cells with different set IDs are then randomly merged by set union or not. In each of these sets, we randomly carve one or more cells downwards to the next row, and assign those cells the same ID. The remaining cells of the new row are assigned new unique set IDs, and the process is repeated till completion, with the vertical procedure omitted for the last row.\n",
    "## Is every node connected?\n",
    "Yes, every node in the graph has to be connected. This can be seen through the fact that the algorithm revolves around sets and their union. Trivially, we know that each cell within a set is always connected to each other. As we are not creating any passage between any two cells that share a set, there is no possibility of loops or cycles. Towards the end of the maze, particularly in the last row, we observe that we are connecting each and every set to each other. Thus, by the last row, every set is eventually merged into a single set, which doesn't have cycles. This is done as sets are propagated along rows, and only the most recent row is relevant for furhter propagation."
   ]
  },
  {
   "cell_type": "code",
   "execution_count": 5,
   "metadata": {},
   "outputs": [],
   "source": [
    "def Eller(maze):\n",
    "    # eset will store the set ID's of the current row, while tempset does the same for the previous row\n",
    "    eset = []\n",
    "    tempset = []\n",
    "    cnt = 0\n",
    "    # initialize unique set numbers to the first row \n",
    "    for k in range(0,maze.num_columns):\n",
    "        eset.append(cnt)\n",
    "        cnt += 1\n",
    "    for y in range(0,maze.num_rows-1):\n",
    "        for x in range(0,maze.num_columns-1):\n",
    "            # if adjacent sets are not unique, check whether to carve east or not\n",
    "            if eset[x+1] != eset[x]:\n",
    "                check = random.randint(0,1)\n",
    "                if check == 0:\n",
    "                    # connecting two sets disjoint sets\n",
    "                    maze.add_path((x,y), 'E', 0)\n",
    "                    chval = eset[x+1]\n",
    "                    for l in range(0,maze.num_columns):\n",
    "                        if eset[l] == chval:\n",
    "                            eset[l] = eset[x]\n",
    "        setlist = set(eset)\n",
    "        tempset = [None]*maze.num_columns\n",
    "        # iterating through unique set ID's\n",
    "        for x in setlist:\n",
    "            setid = []\n",
    "            offset = -1\n",
    "            # setid stores all the indices of cells corresponding to the set ID\n",
    "            while True:\n",
    "                try:\n",
    "                    offset = eset.index(x, offset+1)\n",
    "                except ValueError:\n",
    "                    break\n",
    "                setid.append(offset)\n",
    "            # generating random number of, and list of cells from selected set to be carved downwards\n",
    "            vcount = random.randint(1,len(setid))\n",
    "            vlist = random.sample(setid,vcount)\n",
    "            # carving path downwards and assigning set ID to bottom cell equal to current cell\n",
    "            for k in vlist:\n",
    "                maze.add_path((k,y), 'S', 0)\n",
    "                tempset[k] = eset[k]\n",
    "        # assigning new set ID's to each cell that hadn't been carved downwards in previous step\n",
    "        for k in range(0,maze.num_columns):\n",
    "            if tempset[k] == None:\n",
    "                tempset[k] = cnt\n",
    "                cnt += 1\n",
    "            eset[k] = tempset[k]\n",
    "    # iterating through last row and carving eastward for all unique adjacent set ID's\n",
    "    for k in range(0,maze.num_columns-1):\n",
    "        if eset[k] != eset[k+1]:\n",
    "            maze.add_path((k,maze.num_rows-1), 'E', 0)\n",
    "            chval = eset[k+1]\n",
    "            for l in range(0,maze.num_columns):\n",
    "                if eset[l] == chval:\n",
    "                    eset[l] = eset[k]"
   ]
  },
  {
   "cell_type": "code",
   "execution_count": 6,
   "metadata": {},
   "outputs": [
    {
     "data": {
      "image/png": "[encoded data removed]",
      "text/plain": [
       "<PIL.Image.Image image mode=RGBA size=170x170 at 0x7F26547E35C0>"
      ]
     },
     "metadata": {},
     "output_type": "display_data"
    },
    {
     "data": {
      "image/png": "[encoded data removed]",
      "text/plain": [
       "<PIL.Image.Image image mode=RGBA size=290x210 at 0x7F263EA4ADA0>"
      ]
     },
     "metadata": {},
     "output_type": "display_data"
    },
    {
     "data": {
      "image/png": "[encoded data removed]",
      "text/plain": [
       "<PIL.Image.Image image mode=RGBA size=460x310 at 0x7F26547E3DA0>"
      ]
     },
     "metadata": {},
     "output_type": "display_data"
    }
   ],
   "source": [
    "maze = Maze(8,8)\n",
    "Eller(maze)\n",
    "maze.add_colors()\n",
    "display(maze.draw(cell_width = 20))\n",
    "        \n",
    "maze = Maze(10,14)\n",
    "Eller(maze)\n",
    "maze.add_colors(color=(0, 0, 255))\n",
    "display(maze.draw(cell_width = 20))\n",
    "\n",
    "maze = Maze(20,30)\n",
    "Eller(maze)\n",
    "maze.add_colors(color=(0, 255, 0))\n",
    "display(maze.draw(cell_width = 15))"
   ]
  },
  {
   "cell_type": "markdown",
   "metadata": {},
   "source": [
    "## Basic Analysis\n",
    "\n",
    "### Time Complexity : O(N<sup>2</sup>)\n",
    "\n",
    "In this algorithm, we iterate over each and every node approximately once, i.e., in a linear fashion. This can be seen when we assign set IDs to each new node. There is further iteration over the nodes, which can be seen when randomly merging sets eastward, but in general, we get the time complexity of this algorithm to be equal to the number of nodes.\n",
    "\n",
    "### Additional Space : O(N)\n",
    "\n",
    "The additional space here is always O(N). This can be seen as our maximum auxilliary space is the set containing the set IDs of the current and previous row. There is no other case where we will have more or less additional space, and thus we get additional space as equal to the size of a row.\n",
    "\n",
    "### Bias\n",
    "\n",
    "This algorithm can be observed to frequently have vertical or horizontal bias. The output of this algorithm is very critically dependent on the method through which the random numbers is generated, and providing bias for either the eastward merge of cells or the southward merge can make the maze gain a horizontal or vertical bias, respectively. This can be observed to a certain extent in the first maze, where there is a lot of vertical bias as there is a tendency for single cell sets to propogate down the maze for a relatively long distance before being carved eastward."
   ]
  }
 ],
 "metadata": {
  "kernelspec": {
   "display_name": "Python 3",
   "language": "python",
   "name": "python3"
  },
  "language_info": {
   "codemirror_mode": {
    "name": "ipython",
    "version": 3
   },
   "file_extension": ".py",
   "mimetype": "text/x-python",
   "name": "python",
   "nbconvert_exporter": "python",
   "pygments_lexer": "ipython3",
   "version": "3.6.9"
  }
 },
 "nbformat": 4,
 "nbformat_minor": 4
}
