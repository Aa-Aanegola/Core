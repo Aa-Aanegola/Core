{
 "cells": [
  {
   "cell_type": "code",
   "execution_count": 1,
   "metadata": {},
   "outputs": [],
   "source": [
    "import sys\n",
    "import random\n",
    "sys.path.append(\"../\")\n",
    "from pprint import pprint\n",
    "from Core.maze import Maze       "
   ]
  },
  {
   "cell_type": "markdown",
   "metadata": {},
   "source": [
    "# The Aldous-Broder Algorithm\n",
    "## How does it work?\n",
    "The Aldous Broder Algorithm is an unbiased algorithm, and entirely random, a trait it manages by having a high time complexity (a worst case of infinity). It works by starting from a cell, going to a random neighbour and drawing a path between them if the neighbour is unvisited."
   ]
  },
  {
   "cell_type": "code",
   "execution_count": 2,
   "metadata": {},
   "outputs": [],
   "source": [
    "class GridElement:\n",
    "    def __init__(self,x,y):\n",
    "        self.x = x\n",
    "        self.y = y"
   ]
  },
  {
   "cell_type": "code",
   "execution_count": 3,
   "metadata": {},
   "outputs": [],
   "source": [
    "def aldousbroder(maze):\n",
    "    # Creating a visited array to check if the node has been visited or not\n",
    "    # O represents unvisited and 1 represents visited\n",
    "    vis = []\n",
    "    for i in range(0, maze.num_rows):\n",
    "        # this creates a rows*columns matrix with all elements having value 0\n",
    "        vis.append(list(bytearray(maze.num_columns)))\n",
    "    total_cells = maze.num_rows * maze.num_columns\n",
    "    last_visited_cell = GridElement(0,0)\n",
    "    vis[last_visited_cell.y][last_visited_cell.x] = 1\n",
    "    unvisited_cells = total_cells - 1\n",
    "    possible_directions = ['N','W','S','E']\n",
    "    # randomly checks neighbours, draws a link till there are non-zero unvisited cells\n",
    "    while unvisited_cells > 0:\n",
    "        random_direction = possible_directions[random.randint(0,3)]\n",
    "        # basic template\n",
    "        # if there is a random direction\n",
    "        #     if the cell in that direction is outside bounds\n",
    "        #         continue\n",
    "        #     move to a new \"last visited cell\" in that direction\n",
    "        #     if this new cell has already been visited\n",
    "        #         continue\n",
    "        #     add this path to the maze, but from the cell before moving in this direction\n",
    "        #     add this \"last visited cell\" to the visited counter\n",
    "        #     change number of unvisited cells\n",
    "        if random_direction == 'N':\n",
    "            if last_visited_cell.y-1<0:\n",
    "                continue\n",
    "            last_visited_cell.y -= 1\n",
    "            if vis[last_visited_cell.y][last_visited_cell.x] == 1:\n",
    "                continue\n",
    "            maze.add_path((last_visited_cell.x,last_visited_cell.y+1),random_direction,0) \n",
    "            vis[last_visited_cell.y][last_visited_cell.x] = 1\n",
    "            unvisited_cells-=1\n",
    "        elif random_direction == 'W':\n",
    "            if last_visited_cell.x-1<0:\n",
    "                continue\n",
    "            last_visited_cell.x -= 1\n",
    "            if vis[last_visited_cell.y][last_visited_cell.x] == 1:\n",
    "                continue\n",
    "            maze.add_path((last_visited_cell.x+1,last_visited_cell.y),random_direction,0)  \n",
    "            vis[last_visited_cell.y][last_visited_cell.x] = 1\n",
    "            unvisited_cells-=1\n",
    "        elif random_direction == 'S':\n",
    "            if last_visited_cell.y+1>(maze.num_rows-1):\n",
    "                continue\n",
    "            last_visited_cell.y += 1\n",
    "            if vis[last_visited_cell.y][last_visited_cell.x] == 1:\n",
    "                continue\n",
    "            maze.add_path((last_visited_cell.x,last_visited_cell.y-1),random_direction,0)  \n",
    "            vis[last_visited_cell.y][last_visited_cell.x] = 1\n",
    "            unvisited_cells-=1\n",
    "        elif random_direction == 'E':\n",
    "            if last_visited_cell.x+1>(maze.num_columns-1):\n",
    "                continue\n",
    "            last_visited_cell.x += 1\n",
    "            if vis[last_visited_cell.y][last_visited_cell.x] == 1:\n",
    "                continue\n",
    "            maze.add_path((last_visited_cell.x-1,last_visited_cell.y),random_direction,0)\n",
    "            vis[last_visited_cell.y][last_visited_cell.x] = 1\n",
    "            unvisited_cells-=1\n",
    "    #print(vis)\n",
    "    return \n",
    "        "
   ]
  },
  {
   "cell_type": "code",
   "execution_count": 4,
   "metadata": {},
   "outputs": [
    {
     "data": {
      "image/png": "[encoded data removed]",
      "text/plain": [
       "<PIL.Image.Image image mode=RGBA size=210x210 at 0x7F475031C990>"
      ]
     },
     "metadata": {},
     "output_type": "display_data"
    }
   ],
   "source": [
    "maze = Maze(5,5)\n",
    "aldousbroder(maze)\n",
    "maze.add_colors(color=(128, 128, 255))\n",
    "display(maze.draw(cell_width=40))"
   ]
  },
  {
   "cell_type": "markdown",
   "metadata": {},
   "source": [
    "## Basic analysis\n",
    "### Time Complexity : O(Infinity), Amortized analysis left\n",
    "Mildly complicated, as it's entirely random\n",
    "### Additional Space : O(N<sup>2</sup>)\n",
    "For the algorithm to work, we need to check if the nodes are visited. To do this we need to maintain atleast a bit of information per node. As there are N<sup>2</sup> nodes, we need N<sup>2</sup> additional space. We also need a stack that can grow to atmost N<sup>2</sup> size (worst case).\n",
    "### Bias\n",
    "Guaranteed to have no bias."
   ]
  },
  {
   "cell_type": "code",
   "execution_count": 8,
   "metadata": {},
   "outputs": [
    {
     "name": "stdout",
     "output_type": "stream",
     "text": [
      "    Deadends  :  29.360300\n",
      "Straightways  :  17.099200\n",
      "   LeftTurns  :  13.831900\n",
      "  RightTurns  :  13.921500\n",
      "   Junctions  :  22.233900\n",
      "  Crossroads  :  3.553200\n"
     ]
    }
   ],
   "source": [
    "total = {\"Deadends\": 0, \"Straightways\": 0, \"LeftTurns\": 0, \"RightTurns\": 0, \"Junctions\": 0, \"Crossroads\": 0}\n",
    "for i in range(0, 100):\n",
    "    maze = Maze(100, 100)\n",
    "    aldousbroder(maze)\n",
    "    partial = maze.benchmark()\n",
    "    total[\"Deadends\"] += partial[\"Deadends\"]\n",
    "    total[\"Straightways\"] += partial[\"Straightways\"]\n",
    "    total[\"LeftTurns\"] += partial[\"LeftTurns\"]\n",
    "    total[\"RightTurns\"] += partial[\"RightTurns\"]\n",
    "    total[\"Junctions\"] += partial[\"Junctions\"]\n",
    "    total[\"Crossroads\"] += partial[\"Crossroads\"]\n",
    "\n",
    "div = 0\n",
    "for i in total:\n",
    "    div += total[i]\n",
    "\n",
    "for i in total:\n",
    "    total[i] /= div\n",
    "    total[i] *= 100\n",
    "    round(total[i], 3)\n",
    "\n",
    "for i in total:\n",
    "    print(\"%12s %s %3f\" % (i, \" : \", total[i]))"
   ]
  },
  {
   "cell_type": "markdown",
   "metadata": {},
   "source": [
    "### Further analysis\n",
    "This algorithm tends to create highly unbiased mazes due to its sheer randomness. However we can see that the percentage of deadends is relatively high, and that of straightways are lower. This indicates the creation of multiple passageways that tend to terminate early and not wind around each other much. There is no bias between the directions. "
   ]
  }
 ],
 "metadata": {
  "kernelspec": {
   "display_name": "Python 3",
   "language": "python",
   "name": "python3"
  },
  "language_info": {
   "codemirror_mode": {
    "name": "ipython",
    "version": 3
   },
   "file_extension": ".py",
   "mimetype": "text/x-python",
   "name": "python",
   "nbconvert_exporter": "python",
   "pygments_lexer": "ipython3",
   "version": "3.7.7"
  }
 },
 "nbformat": 4,
 "nbformat_minor": 4
}
