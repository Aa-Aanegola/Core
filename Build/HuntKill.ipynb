{
 "cells": [
  {
   "cell_type": "code",
   "execution_count": 2,
   "metadata": {},
   "outputs": [],
   "source": [
    "import sys\n",
    "import random\n",
    "sys.path.append(\"../\")\n",
    "from pprint import pprint\n",
    "from Core.maze import Maze"
   ]
  },
  {
   "cell_type": "markdown",
   "metadata": {},
   "source": [
    "# The Hunt and Kill algorithm\n",
    "## How does it work?\n",
    "The hunt and kill algorithm is very similar to the recursive backtracer algorithms. To generate mazes with this algorithm, we simulate random walks in the grid until we find a dead end. When a dead-end is found, we search the maze for an unvisited node from the top left to the bottom right, and when we find one this becomes our starting point for the random walk. If no unvisited node is found, the maze has been completed.\n",
    "## Is every node connected?\n",
    "Yes every node is connected as we do not stop the algorithm till we've visited every node. Therefore we can conclude that every node is connected to every other node."
   ]
  },
  {
   "cell_type": "code",
   "execution_count": 87,
   "metadata": {},
   "outputs": [],
   "source": [
    "def HuntKill(maze):\n",
    "    # Creating a visited array to check if the node has been visited or not\n",
    "    # O represents unvisited and 1 represents visited\n",
    "    vis = []\n",
    "    for i in range(0, maze.num_rows):\n",
    "        vis.append(list(bytearray(maze.num_columns)))\n",
    "    \n",
    "    current = (random.randint(0, maze.num_rows-1), random.randint(0, maze.num_columns-1))\n",
    "    \n",
    "    while True:\n",
    "        directions = []\n",
    "        x, y = current\n",
    "        vis[x][y] = 1\n",
    "        \n",
    "        if x > 0 and vis[x-1][y] == 0:\n",
    "            directions.append('N')\n",
    "        if y > 0 and vis[x][y-1] == 0:\n",
    "            directions.append('W')\n",
    "        if x < maze.num_rows-1 and vis[x+1][y] == 0:\n",
    "            directions.append('S')\n",
    "        if y < maze.num_columns-1 and vis[x][y+1] == 0:\n",
    "            directions.append('E')\n",
    "        \n",
    "        if len(directions) == 0:\n",
    "            flag = False\n",
    "            for i in range(0, maze.num_rows):\n",
    "                if flag == True:\n",
    "                    break\n",
    "                for j in range(0, maze.num_columns):\n",
    "                    if vis[i][j] == 0:\n",
    "                        if i > 0 and vis[i-1][j] == 1:\n",
    "                            current = (i, j)\n",
    "                            vis[i][j] = 1\n",
    "                            maze.add_path((j, i), 'N', 0)\n",
    "                            flag = True\n",
    "                            break\n",
    "                        if j > 0 and vis[i][j-1] == 1:\n",
    "                            current = (i, j)\n",
    "                            vis[i][j] = 1\n",
    "                            maze.add_path((j, i), 'W', 0)\n",
    "                            flag = True\n",
    "                            break\n",
    "                        if i < maze.num_rows-1 and vis[i+1][j] == 1:\n",
    "                            current = (i, j)\n",
    "                            vis[i][j] = 1\n",
    "                            maze.add_path((j, i), 'S', 0)\n",
    "                            flag = True\n",
    "                            break\n",
    "                        if j < maze.num_columns-1 and vis[i][j+1] == 1:\n",
    "                            current = (i, j)\n",
    "                            vis[i][j] = 1\n",
    "                            maze.add_path((j, i), 'E', 0)\n",
    "                            flag = True\n",
    "                            break\n",
    "            if flag == False:\n",
    "                return\n",
    "\n",
    "        else:\n",
    "            choice = directions[random.randint(0, len(directions)-1)]\n",
    "            maze.add_path((y, x), choice, 0)\n",
    "            if choice == 'N':\n",
    "                current = (x-1, y)\n",
    "            elif choice == 'S':\n",
    "                current = (x+1, y)\n",
    "            elif choice == 'E':\n",
    "                current = (x, y+1)\n",
    "            elif choice == 'W':\n",
    "                current = (x, y-1)"
   ]
  },
  {
   "cell_type": "code",
   "execution_count": 89,
   "metadata": {},
   "outputs": [
    {
     "data": {
      "image/png": "[encoded data removed]",
      "text/plain": [
       "<PIL.Image.Image image mode=RGB size=410x410 at 0x7F9B2E1F5150>"
      ]
     },
     "metadata": {},
     "output_type": "display_data"
    }
   ],
   "source": [
    "maze = Maze(10, 10)\n",
    "HuntKill(maze)\n",
    "maze.add_colors()\n",
    "display(maze.draw(cell_width=40))"
   ]
  },
  {
   "cell_type": "markdown",
   "metadata": {},
   "source": [
    "## Basic Analysis\n",
    "### Time Complexity : O(N<sup>4</sup>)\n",
    "We visit each node once, and in the worst case we'll have to search for an unvisited node at every step. However for this algorithm (like most other maze generating algorithms) there is the essence of randomness, and the actual time taken can vary drastically.\n",
    "### Additional Space : O(N<sup>2</sup>)\n",
    "For each node we need to keep a track of its visited status. This requires atleast a bit of memory per node, resulting in N<sup>2</sup> bits of memory (minimum).\n",
    "### Bias :\n",
    "There is no evident bias, however passages in the mazes generated tend to be long and winding as we simulate random walks. "
   ]
  },
  {
   "cell_type": "code",
   "execution_count": null,
   "metadata": {},
   "outputs": [],
   "source": []
  }
 ],
 "metadata": {
  "kernelspec": {
   "display_name": "Python 3",
   "language": "python",
   "name": "python3"
  },
  "language_info": {
   "codemirror_mode": {
    "name": "ipython",
    "version": 3
   },
   "file_extension": ".py",
   "mimetype": "text/x-python",
   "name": "python",
   "nbconvert_exporter": "python",
   "pygments_lexer": "ipython3",
   "version": "3.7.7"
  }
 },
 "nbformat": 4,
 "nbformat_minor": 4
}
