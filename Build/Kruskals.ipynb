{
 "cells": [
  {
   "cell_type": "code",
   "execution_count": 1,
   "metadata": {},
   "outputs": [],
   "source": [
    "import sys\n",
    "import random\n",
    "sys.path.append(\"../\")\n",
    "from Core.maze import Maze"
   ]
  },
  {
   "cell_type": "markdown",
   "metadata": {},
   "source": [
    "# Kruskal's Algorithm\n",
    "Kruskals algorithm is a very well known algorithm used to find minimum spanning trees in a graph. Here we will use kruskals algorithm randomly on our grid to try and make a perfect maze. We are guaranteed that every node will be connected to every other node, as the resultant will be a minimum spannning tree, which also serves as a maze.\n",
    "## How does it work?\n",
    "Kruskal's algorithm works by assigning every node a distinct ID and then joining them using pathways. We randomly select an uncarved pathway and check if it connects two unconnected nodes. If it does, we carve the pathway and add it to our maze.\n",
    "\n",
    "### Prerequisites\n",
    "Kruskals algorithm requires a disjoint set data structure, in order to give the nodes their distinct IDs."
   ]
  },
  {
   "cell_type": "code",
   "execution_count": 2,
   "metadata": {},
   "outputs": [],
   "source": [
    "# A disjoint set of singular data\n",
    "class dset:\n",
    "    def __init__(self, data):\n",
    "        self.data = data\n",
    "        self.parent = self\n",
    "\n",
    "    def find(self):\n",
    "        if self.parent == self:\n",
    "            return self\n",
    "\n",
    "        return self.parent.find()\n",
    "\n",
    "    def union(self, set2):\n",
    "        p1 = self.find()\n",
    "        p2 = set2.find()\n",
    "        p1.parent = p2"
   ]
  },
  {
   "cell_type": "code",
   "execution_count": 3,
   "metadata": {},
   "outputs": [],
   "source": [
    "def Kruskals(maze):\n",
    "    # maintain a lookup grid with disjoint set objects\n",
    "    nodes = [[dset((x, y)) for x in range(maze.num_columns)] for y in range(maze.num_rows)]\n",
    "    \n",
    "    # populate list with available edges\n",
    "    available = []\n",
    "    for i in range(maze.num_rows):\n",
    "        for j in range(maze.num_columns):\n",
    "            if i > 0:\n",
    "                available.append((i, j, \"W\"))\n",
    "            if j > 0:\n",
    "                available.append((i, j, \"N\"))\n",
    "    \n",
    "    print(len(available))\n",
    "    while available:\n",
    "        # randomly pick an edge to carve a path into\n",
    "        x, y, direction = random.choice(available)\n",
    "        \n",
    "        if direction == \"N\" and nodes[x][y].find() != nodes[x][y - 1].find():\n",
    "            maze.add_path((x, y), direction, 0)\n",
    "            nodes[x][y].union(nodes[x][y - 1])\n",
    "        \n",
    "        if direction == \"W\" and nodes[x][y].find() != nodes[x - 1][y].find():\n",
    "            maze.add_path((x, y), direction, 0)\n",
    "            nodes[x][y].union(nodes[x - 1][y])\n",
    "        \n",
    "        available.remove((x, y, direction))"
   ]
  },
  {
   "cell_type": "code",
   "execution_count": 8,
   "metadata": {},
   "outputs": [
    {
     "name": "stdout",
     "output_type": "stream",
     "text": [
      "24\n"
     ]
    },
    {
     "data": {
      "image/png": "[encoded data removed]",
      "text/plain": [
       "<PIL.Image.Image image mode=RGBA size=330x330 at 0x7FFAB460A220>"
      ]
     },
     "metadata": {},
     "output_type": "display_data"
    }
   ],
   "source": [
    "maze = Maze(4, 4)\n",
    "Kruskals(maze)\n",
    "maze.add_colors(color=(255, 255, 0))\n",
    "display(maze.draw(cell_width=80))"
   ]
  },
  {
   "cell_type": "code",
   "execution_count": 5,
   "metadata": {},
   "outputs": [
    {
     "name": "stdout",
     "output_type": "stream",
     "text": [
      "112\n"
     ]
    },
    {
     "data": {
      "image/png": "[encoded data removed]",
      "text/plain": [
       "<PIL.Image.Image image mode=RGBA size=330x330 at 0x7FFAB5FAF4C0>"
      ]
     },
     "metadata": {},
     "output_type": "display_data"
    }
   ],
   "source": [
    "maze = Maze(8, 8)\n",
    "Kruskals(maze)\n",
    "maze.add_colors(color=(255, 255, 0))\n",
    "display(maze.draw(cell_width=40))"
   ]
  },
  {
   "cell_type": "code",
   "execution_count": 6,
   "metadata": {},
   "outputs": [
    {
     "name": "stdout",
     "output_type": "stream",
     "text": [
      "480\n"
     ]
    },
    {
     "data": {
      "image/png": "[encoded data removed]",
      "text/plain": [
       "<PIL.Image.Image image mode=RGBA size=330x330 at 0x7FFAB5F995B0>"
      ]
     },
     "metadata": {},
     "output_type": "display_data"
    }
   ],
   "source": [
    "maze = Maze(16, 16)\n",
    "Kruskals(maze)\n",
    "maze.add_colors(color=(255, 255, 0))\n",
    "display(maze.draw(cell_width=20))"
   ]
  },
  {
   "cell_type": "markdown",
   "metadata": {},
   "source": [
    "## Basic Analysis\n",
    "### Time Complexity: O(N log N)\n",
    "The algorithm determines all available edges by iterating through the dimensions of the grid, and effectively performs find and union operations for each available edge. Thus the time complexity turns out to be O(N log N), where N is the number of cells/nodes in the grid.\n",
    "\n",
    "### Space Complexity: O(N)\n",
    "We're required to keep track of available edges in the grid using a disjoint set data structure to avoid cycles in the spanning tree constructed by our algorithm Hence, the space complexity would be O(N), where N is the number of cells/nodes in the grid.\n",
    "\n",
    "### Bias/Texture:\n",
    "Mazes generated using Kruskal's Algorithm don't appear to have any bias. This is because there are no walk-like traversals; rather, nodes are visited non-sequentially to carve the path."
   ]
  }
 ],
 "metadata": {
  "kernelspec": {
   "display_name": "Python 3",
   "language": "python",
   "name": "python3"
  },
  "language_info": {
   "codemirror_mode": {
    "name": "ipython",
    "version": 3
   },
   "file_extension": ".py",
   "mimetype": "text/x-python",
   "name": "python",
   "nbconvert_exporter": "python",
   "pygments_lexer": "ipython3",
   "version": "3.8.6"
  }
 },
 "nbformat": 4,
 "nbformat_minor": 4
}
