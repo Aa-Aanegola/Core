{
 "cells": [
  {
   "cell_type": "markdown",
   "metadata": {},
   "source": [
    "# Aanegola Generation - 2\n",
    "This algorithm draws inspiration from the delivery problem with a very closed mind. Let us say that whenever we are at a certain location, we are provided another random location that we consider to be our 'destination'. This process is repeated until we have explored all possible 'destinations'.\n",
    "\n",
    "## How does it work?\n",
    "We simply store a list of unvisited nodes, consider a random node to be our inception point and randomly choose destinations till there aren't any left. When we have selected our 'source' and our 'destination' we know that to get to the destination, we need to make only one turn. For example if we need to get from (1, 1) to (3, 4) we can either traverse in +x and then +y or vice versa. We repeat this traversal till we have carved a path through every node.\n",
    "\n",
    "## Will it always be connected?\n",
    "Yes it will be. We carve a path to every single node starting from an inception node, and hence it will be possible to trace a path from every node to every other node by simply tracing this path."
   ]
  },
  {
   "cell_type": "code",
   "execution_count": 2,
   "metadata": {},
   "outputs": [],
   "source": [
    "import sys\n",
    "import random\n",
    "sys.path.append(\"../\")\n",
    "from pprint import pprint\n",
    "from Core.maze import Maze"
   ]
  },
  {
   "cell_type": "code",
   "execution_count": 3,
   "metadata": {},
   "outputs": [],
   "source": [
    "def AanegolaGen2(maze):\n",
    "    # Make a list of all the nodes\n",
    "    nodes = []\n",
    "    for i in range(0, maze.num_columns):\n",
    "        for j in range(0, maze.num_rows):\n",
    "            nodes.append((i, j))\n",
    "    \n",
    "    start = random.choice(nodes)\n",
    "    nodes.remove(start)\n",
    "    \n",
    "    while len(nodes):\n",
    "        # Select a random destination node\n",
    "        end = random.choice(nodes)\n",
    "        \n",
    "        # Get its individual coordinates \n",
    "        x1, y1 = start\n",
    "        x2, y2 = end\n",
    "        \n",
    "        # Make a list of all possible directions\n",
    "        choices = []\n",
    "        if x1 <= x2:\n",
    "            choices.append('E')\n",
    "        else:\n",
    "            choices.append('W')\n",
    "        if y1 <= y2:\n",
    "            choices.append('S')\n",
    "        else:\n",
    "            choices.append('N')\n",
    "        \n",
    "        # If there are valid directions, carve the path\n",
    "        while len(choices):\n",
    "            direction = random.choice(choices)\n",
    "            choices.remove(direction)\n",
    "            \n",
    "            if direction == 'N' or direction == 'S':\n",
    "                while y1 != y2:\n",
    "                    maze.add_path((x1, y1), direction, 0)\n",
    "                    if direction == 'N':\n",
    "                        y1 -= 1\n",
    "                    else:\n",
    "                        y1 += 1\n",
    "                    if (x1, y1) in nodes:\n",
    "                        nodes.remove((x1, y1))\n",
    "            else:\n",
    "                while x1 != x2:\n",
    "                    maze.add_path((x1, y1), direction, 0)\n",
    "                    if direction == 'W':\n",
    "                        x1 -= 1\n",
    "                    else:\n",
    "                        x1 += 1\n",
    "                    if (x1, y1) in nodes:\n",
    "                        nodes.remove((x1, y1))\n",
    "        # Make the end node the new start node\n",
    "        if end in nodes:\n",
    "            nodes.remove(end)\n",
    "        start = end"
   ]
  },
  {
   "cell_type": "code",
   "execution_count": 8,
   "metadata": {},
   "outputs": [
    {
     "data": {
      "image/png": "[encoded data removed]",
      "text/plain": [
       "<PIL.Image.Image image mode=RGBA size=410x410 at 0x7FB2E7F254D0>"
      ]
     },
     "metadata": {},
     "output_type": "display_data"
    },
    {
     "data": {
      "image/png": "[encoded data removed]",
      "text/plain": [
       "<PIL.Image.Image image mode=RGBA size=410x410 at 0x7FB2E7EFFB90>"
      ]
     },
     "metadata": {},
     "output_type": "display_data"
    }
   ],
   "source": [
    "maze = Maze(10, 10)\n",
    "AanegolaGen2(maze)\n",
    "display(maze.draw(cell_width=40))\n",
    "maze.add_colors(color=(0, 200, 128))\n",
    "display(maze.draw(cell_width=40))"
   ]
  },
  {
   "cell_type": "markdown",
   "metadata": {},
   "source": [
    "## Basic analysis\n",
    "### Time complexity : O(N<sup>3</sup>)\n",
    "The algorithm creates a list of all the nodes which is of order N<sup>2</sup>, and then iterates over them. At each iterative step, we traverse over atmost 2N nodes, and we do this process atmost N<sup>2</sup> times.\n",
    "### Additional Space : O(N<sup>2</sup>)\n",
    "We need a list of all the nodes in the grid, and hence need to store N<sup>2</sup> elements. We also have the overhead of the choices and x, y variables of order 1.\n",
    "### Bias\n",
    "As we can see the mazes generated tend to be very open. Since we carve a path multiple times through each node, we have a higher concentration of completely open spaces. We also see a very distinctive pattern in the sort of spiral pattern we obtain. This is because all our paths created are 'single turn' paths and we obtain this angular spiral pattern."
   ]
  },
  {
   "cell_type": "code",
   "execution_count": 6,
   "metadata": {},
   "outputs": [
    {
     "name": "stdout",
     "output_type": "stream",
     "text": [
      "    Deadends  :  0.230000\n",
      "Straightways  :  37.910000\n",
      "   LeftTurns  :  0.220000\n",
      "  RightTurns  :  0.260000\n",
      "   Junctions  :  4.090000\n",
      "  Crossroads  :  57.290000\n"
     ]
    }
   ],
   "source": [
    "total = {\"Deadends\": 0, \"Straightways\": 0, \"LeftTurns\": 0, \"RightTurns\": 0, \"Junctions\": 0, \"Crossroads\": 0}\n",
    "for i in range(0, 100):\n",
    "    maze = Maze(100, 100)\n",
    "    \n",
    "    AanegolaGen2(maze)\n",
    "    partial = maze.benchmark()\n",
    "    total[\"Deadends\"] += partial[\"Deadends\"]\n",
    "    total[\"Straightways\"] += partial[\"Straightways\"]\n",
    "    total[\"LeftTurns\"] += partial[\"LeftTurns\"]\n",
    "    total[\"RightTurns\"] += partial[\"RightTurns\"]\n",
    "    total[\"Junctions\"] += partial[\"Junctions\"]\n",
    "    total[\"Crossroads\"] += partial[\"Crossroads\"]\n",
    "\n",
    "div = 0\n",
    "for i in total:\n",
    "    div += total[i]\n",
    "\n",
    "for i in total:\n",
    "    total[i] /= div\n",
    "    total[i] *= 100\n",
    "    round(total[i], 3)\n",
    "\n",
    "for i in total:\n",
    "    print(\"%12s %s %3f\" % (i, \" : \", total[i]))"
   ]
  },
  {
   "cell_type": "markdown",
   "metadata": {},
   "source": [
    "### Further analysis\n",
    "As we can see, the maze generates a lot of crossroads (empty spaces) and less deadends. The straightway percentage is also very high as towards the edges we have more straight passages as the probability of choosing noded near the edges is very low. The mazes generated by this algorithm tend to have a large open space, and 'corridor' like pathways around the open area."
   ]
  }
 ],
 "metadata": {
  "kernelspec": {
   "display_name": "ML",
   "language": "python",
   "name": "ml"
  },
  "language_info": {
   "codemirror_mode": {
    "name": "ipython",
    "version": 3
   },
   "file_extension": ".py",
   "mimetype": "text/x-python",
   "name": "python",
   "nbconvert_exporter": "python",
   "pygments_lexer": "ipython3",
   "version": "3.7.7"
  }
 },
 "nbformat": 4,
 "nbformat_minor": 4
}
