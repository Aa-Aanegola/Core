{
 "cells": [
  {
   "cell_type": "code",
   "execution_count": 4,
   "metadata": {},
   "outputs": [],
   "source": [
    "import sys\n",
    "import random\n",
    "sys.path.append(\"../\")\n",
    "from pprint import pprint\n",
    "from Core.maze import Maze"
   ]
  },
  {
   "cell_type": "markdown",
   "metadata": {},
   "source": [
    "# Recursive Division\n",
    "## How does it work?\n",
    "The Recursive Division algorithm is one of the few maze generation algorithms that can be solely done with the process of 'wall adding',i.e., adding walls in an empty grid, unlike most others that seek to carve passages in a filled grid. As the name suggests, the algorithm revolves closely around repeating the same process by recursively splitting the maze into two halfs. This is particularly interesting as it acquires a seemilngly fractal nature, with the only limit to the number of divisions being our height/width requirements, else the process could continue infinitely to produce greater detail.\n",
    "The algorithm begins with an empty grid. We then randomly choose a row/column, depending on the current height/width of the grid, and add a wall in that row/column. A single gap is randonly carved through this wall, and this process is repeated for the two halves that were created. This is done with function recursion, with the limit being that the length/breadth of the grid less than or equal to 1.\n",
    "## Is every node connected?\n",
    "Yes, every node in the graph has to be connected. As this algorithm is a wall adder, to prove that every node is connected, we must prove that there can't exist any islands or isolated paths, and our algorithm would always produce a connected graph. As the recursive division, which operates on an empty grid, doesn't occur whenever the graph size is 1 or less, and we also always carve a path in any wall that we create between two boundaries, we see that there can't be any islands formed. There is also no possibility of isolated edges as all walls drawn originate within the boundary of the parent unit from which the recursion occured. As long as the first parent is within valid boundaries, every reccursive division will always be connected to the boundary. "
   ]
  },
  {
   "cell_type": "code",
   "execution_count": 5,
   "metadata": {},
   "outputs": [],
   "source": [
    "INF = float('inf')\n",
    "# Parent function for Recursive Division Algorithm\n",
    "def RecursiveDivision(maze):\n",
    "    # Carve out the entire maze to create empty grid\n",
    "    for x in range(0,maze.num_columns):\n",
    "        for y in range(0,maze.num_rows): \n",
    "            if(y != maze.num_rows - 1):\n",
    "                maze.add_path((x,y), 'S', 0)\n",
    "            if(x != maze.num_columns - 1):\n",
    "                maze.add_path((x,y), 'E', 0)\n",
    "            if(y != 0):\n",
    "                maze.add_path((x,y), 'N', 0)\n",
    "            if(x != 0):\n",
    "                maze.add_path((x,y), 'W', 0)\n",
    "    # function call for recursive division\n",
    "    divide(maze, 0, 0, maze.num_columns, maze.num_rows,direction(maze.num_columns,maze.num_rows))\n",
    "\n",
    "# recursive function to generate wall, carve passage, and repeat\n",
    "def divide(maze, x0, y0, x1, y1, chk):\n",
    "    # exit condition if length/breadth is too small\n",
    "    if (x1 - x0) < 2 or (y1 - y0) < 2:\n",
    "        return\n",
    "    if chk == 0:\n",
    "        # generate random column and build wall\n",
    "        x = random.randint(x0,x1-2)\n",
    "        for i in range(y0,y1):\n",
    "            maze.add_path((x,i), 'E', INF)\n",
    "        # generate random cell and create passage\n",
    "        y2 = random.randint(y0,y1-1)\n",
    "        maze.add_path((x,y2),'E',0)\n",
    "        # recursively call divide() for the two halves formed\n",
    "        divide(maze, x0, y0, x+1, y1, direction(x + 1 - x0, y1 - y0))\n",
    "        divide(maze, x + 1 , y0, x1, y1, direction(x1 - x - 1, y1 - y0))\n",
    "    else:\n",
    "        # generate random row and build wall\n",
    "        y = random.randint(y0,y1-2)\n",
    "        for j in range(x0,x1):\n",
    "            maze.add_path((j,y), 'S', INF)\n",
    "        # generate random cell and create passage\n",
    "        x2 = random.randint(x0,x1-1)\n",
    "        maze.add_path((x2,y),'S',0)\n",
    "        # recursively call divide() for the two halves formed\n",
    "        divide(maze, x0 , y0, x1, y+1, direction(x1 - x0, y + 1 - y0))\n",
    "        divide(maze, x0 , y+1, x1, y1, direction(x1 - x0, y1 - y - 1))\n",
    "\n",
    "# function to decide direction of wall addition biased on the larger of height/width        \n",
    "def direction(length, breadth):\n",
    "    if length > breadth:\n",
    "        return 0\n",
    "    elif breadth > length:\n",
    "        return 1\n",
    "    else:\n",
    "        return random.randint(0,1)"
   ]
  },
  {
   "cell_type": "code",
   "execution_count": 6,
   "metadata": {
    "scrolled": false
   },
   "outputs": [
    {
     "data": {
      "image/png": "[encoded data removed]",
      "text/plain": [
       "<PIL.Image.Image image mode=RGBA size=210x210 at 0x7FD24CF223C8>"
      ]
     },
     "metadata": {},
     "output_type": "display_data"
    },
    {
     "data": {
      "image/png": "[encoded data removed]",
      "text/plain": [
       "<PIL.Image.Image image mode=RGBA size=410x310 at 0x7FD24CF222E8>"
      ]
     },
     "metadata": {},
     "output_type": "display_data"
    },
    {
     "data": {
      "image/png": "[encoded data removed]",
      "text/plain": [
       "<PIL.Image.Image image mode=RGBA size=910x610 at 0x7FD24CF22550>"
      ]
     },
     "metadata": {},
     "output_type": "display_data"
    }
   ],
   "source": [
    "maze = Maze(10,10)\n",
    "RecursiveDivision(maze)\n",
    "maze.add_colors()\n",
    "display(maze.draw(cell_width = 20))\n",
    "        \n",
    "maze = Maze(15,20)\n",
    "RecursiveDivision(maze)\n",
    "maze.add_colors(color=(0, 0, 255))\n",
    "display(maze.draw(cell_width = 20))\n",
    "\n",
    "maze = Maze(40,60)\n",
    "RecursiveDivision(maze)\n",
    "maze.add_colors(color=(0, 255, 0))\n",
    "display(maze.draw(cell_width = 15))"
   ]
  },
  {
   "cell_type": "markdown",
   "metadata": {},
   "source": [
    "## Basic Analysis\n",
    "\n",
    "### Time Complexity : O(NlogN)\n",
    "\n",
    "In this algorithm, we get the multiply the complexity of creating recursive levels, times the complexity of each of the divided functions. For an N<sup>2</sup> grid, the time complexity of recursively splitting to unit grids will be 2logN, and the complexity of each of these functions is N, as we construct a wall along each row, with size N. Thus, overall complexity comes out to be O(NlogN). This is consistent with all divide-and-conquer algorithms.\n",
    "\n",
    "### Additional Space : O(logN)\n",
    "\n",
    "The additional space here is O(logN). This comes out to be so due to the recursive division and thus creation of many child functions, which are equal to logN in number, if N is the number of rows/columns. Besides this, only constant auxilliary space is used in each function, and thus the total complexity comes out to be O(logN). \n",
    "\n",
    "### Bias\n",
    "\n",
    "This algorithm revolves around the creation and propagation of fractals. This results in mazes built in a very 'blocky' nature, with each subpart of the maze mimicking the maze itself. This algorithm is much better when used to generate mazes of large sizes, and often results in trivial mazes at smaller sizes. This is mostly due to the fact that at divisions where length or breadth is small, there is almost always no branching, and thus a large number of 'straight paths' where the walls are virtually useless, towards edges or divisions with close edges. Better fractal patterns can be observed in this maze if there is certain bias given towards the center of the maze, i.e., if we follow a binomial probabilistic distribution in picking random columns/rows, we will achieve more symmetric mazes."
   ]
  },
  {
   "cell_type": "code",
   "execution_count": 7,
   "metadata": {},
   "outputs": [
    {
     "name": "stdout",
     "output_type": "stream",
     "text": [
      "    Deadends  :  26.908500\n",
      "Straightways  :  18.938600\n",
      "   LeftTurns  :  15.006100\n",
      "  RightTurns  :  14.961000\n",
      "   Junctions  :  21.483100\n",
      "  Crossroads  :  2.702700\n"
     ]
    }
   ],
   "source": [
    "total = {\"Deadends\": 0, \"Straightways\": 0, \"LeftTurns\": 0, \"RightTurns\": 0, \"Junctions\": 0, \"Crossroads\": 0}\n",
    "for i in range(0, 100):\n",
    "    maze = Maze(100, 100)\n",
    "    RecursiveDivision(maze)\n",
    "    partial = maze.benchmark()\n",
    "    total[\"Deadends\"] += partial[\"Deadends\"]\n",
    "    total[\"Straightways\"] += partial[\"Straightways\"]\n",
    "    total[\"LeftTurns\"] += partial[\"LeftTurns\"]\n",
    "    total[\"RightTurns\"] += partial[\"RightTurns\"]\n",
    "    total[\"Junctions\"] += partial[\"Junctions\"]\n",
    "    total[\"Crossroads\"] += partial[\"Crossroads\"]\n",
    "\n",
    "div = 0\n",
    "for i in total:\n",
    "    div += total[i]\n",
    "\n",
    "for i in total:\n",
    "    total[i] /= div\n",
    "    total[i] *= 100\n",
    "    round(total[i], 3)\n",
    "\n",
    "for i in total:\n",
    "    print(\"%12s %s %3f\" % (i, \" : \", total[i]))"
   ]
  },
  {
   "cell_type": "markdown",
   "metadata": {},
   "source": [
    "### Further analysis\n",
    "As we can see in the statistics, there is a relatively higher bias of the maze towards deadends and junctions. This can be attributed towards the fractal nature of the algorithm. Whenever the subdivisions become too small, they terminate, creating deadends. There are greater junctions at the meeting points of two or more fractals. In addition, the higher proportion of leftturns and rightturns as compared to straightways means that the maze is more winding in nature, although this can be misleading as a lot of this pattern is within a subdivision having only one effective path."
   ]
  }
 ],
 "metadata": {
  "kernelspec": {
   "display_name": "Python 3",
   "language": "python",
   "name": "python3"
  },
  "language_info": {
   "codemirror_mode": {
    "name": "ipython",
    "version": 3
   },
   "file_extension": ".py",
   "mimetype": "text/x-python",
   "name": "python",
   "nbconvert_exporter": "python",
   "pygments_lexer": "ipython3",
   "version": "3.6.9"
  }
 },
 "nbformat": 4,
 "nbformat_minor": 4
}
