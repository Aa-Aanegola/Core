{
 "cells": [
  {
   "cell_type": "code",
   "execution_count": 1,
   "metadata": {},
   "outputs": [],
   "source": [
    "import sys\n",
    "import random\n",
    "sys.path.append(\"../\")\n",
    "from pprint import pprint\n",
    "from Core.maze import Maze"
   ]
  },
  {
   "cell_type": "markdown",
   "metadata": {},
   "source": [
    "# The recursive backtracer algorithm\n",
    "## How does it work?\n",
    "The recursive backtracer algorithm is a fairly simple algorithm. We randomly choose a node and call it the current node. Then we look for a node adjacent to our node that hasn't been visited and we travel to it. We now update the current node to the newly opened node. When we are in a situation where further traversal isn't possible, we backtrack to previous cells until we find a cell that has neighbors that haven't been visited and randomly choose one of them.  \n",
    "Another explanation (slightly more technical) for the algorithm is that we simulate an entity making random walks in a grid, and when the entity can no longer go forward we backtrack until we find an opportunity to make our path bigger.\n",
    "## Is every node connected?\n",
    "Yes every node is connected. We are assured of their connectedness because each node is visited once, and a path is carved to it from an already visited node. Therefore we can conclude that every node will be connected to every other node."
   ]
  },
  {
   "cell_type": "code",
   "execution_count": 2,
   "metadata": {},
   "outputs": [],
   "source": [
    "def RecursiveBacktracer(maze):\n",
    "    # Creating a visited array to check if the node has been visited or not\n",
    "    # O represents unvisited and 1 represents visited\n",
    "    vis = []\n",
    "    for i in range(0, maze.num_rows):\n",
    "        vis.append(list(bytearray(maze.num_columns)))\n",
    "    # The stack for the recursive backtracer algorithm\n",
    "    stack = []\n",
    "    stack.append((random.randint(0, maze.num_rows-1), random.randint(0, maze.num_columns-1)))\n",
    "    # Repeat the algorithm till all nodes are explored\n",
    "    while len(stack):\n",
    "        directions = []\n",
    "        x, y = stack[-1]\n",
    "        vis[x][y] = 1\n",
    "        if x > 0 and vis[x-1][y] == 0:\n",
    "            directions.append('N')\n",
    "        if y > 0 and vis[x][y-1] == 0:\n",
    "            directions.append('W')\n",
    "        if x < maze.num_rows-1 and vis[x+1][y] == 0:\n",
    "            directions.append('S')\n",
    "        if y < maze.num_columns-1 and vis[x][y+1] == 0:\n",
    "            directions.append('E')\n",
    "        if len(directions) == 0:\n",
    "            stack.pop()\n",
    "            continue\n",
    "        choice = directions[random.randint(0, len(directions)-1)]\n",
    "        maze.add_path((y, x), choice, 0)\n",
    "        if choice == 'N':\n",
    "            stack.append((x-1, y))\n",
    "        elif choice == 'S':\n",
    "            stack.append((x+1, y))\n",
    "        elif choice == 'E':\n",
    "            stack.append((x, y+1))\n",
    "        elif choice == 'W':\n",
    "            stack.append((x, y-1))"
   ]
  },
  {
   "cell_type": "code",
   "execution_count": 3,
   "metadata": {},
   "outputs": [
    {
     "data": {
      "image/png": "[encoded data removed]",
      "text/plain": [
       "<PIL.Image.Image image mode=RGB size=410x410 at 0x7F244045B250>"
      ]
     },
     "metadata": {},
     "output_type": "display_data"
    }
   ],
   "source": [
    "maze = Maze(10, 10)\n",
    "RecursiveBacktracer(maze)\n",
    "maze.add_colors()\n",
    "display(maze.draw(cell_width=40))"
   ]
  },
  {
   "cell_type": "markdown",
   "metadata": {},
   "source": [
    "## Basic analysis\n",
    "### Time Complexity : O(N<sup>2</sup>)\n",
    "In this algorithm we traverse a path until we can't anymore, and then backtrace until we find an unvisited neighbor. We know that each node has atmost 4 neighbors, and that each time the algorithm checks a node it decreases the number of its unvisited neighbors by 4. Therefore we can be assured that the algorithm will check each node atmost 4 times. Therefore the algorithm is linear in terms of the number of nodes(N is the upper bound on rows/columns).\n",
    "### Additional Space : O(N<sup>2</sup>)\n",
    "For the algorithm to work, we need to check if the nodes are visited. To do this we need to maintain atleast a bit of information per node. As there are N<sup>2</sup> nodes, we need N<sup>2</sup> additional space. We also need a stack that can grow to atmost N<sup>2</sup> size (worst case).\n",
    "### Bias\n",
    "There is no evident bias, further checks will have to be done. (Tools for bias analysis haven't been confirmed yet)"
   ]
  },
  {
   "cell_type": "code",
   "execution_count": null,
   "metadata": {},
   "outputs": [],
   "source": []
  }
 ],
 "metadata": {
  "kernelspec": {
   "display_name": "Python 3",
   "language": "python",
   "name": "python3"
  },
  "language_info": {
   "codemirror_mode": {
    "name": "ipython",
    "version": 3
   },
   "file_extension": ".py",
   "mimetype": "text/x-python",
   "name": "python",
   "nbconvert_exporter": "python",
   "pygments_lexer": "ipython3",
   "version": "3.7.7"
  }
 },
 "nbformat": 4,
 "nbformat_minor": 4
}
