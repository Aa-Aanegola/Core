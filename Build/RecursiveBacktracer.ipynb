{
 "cells": [
  {
   "cell_type": "code",
   "execution_count": 1,
   "metadata": {},
   "outputs": [],
   "source": [
    "import sys\n",
    "import random\n",
    "sys.path.append(\"../\")\n",
    "from pprint import pprint\n",
    "from Core.maze import Maze"
   ]
  },
  {
   "cell_type": "markdown",
   "metadata": {},
   "source": [
    "# The Recursive Backtracer algorithm\n",
    "## How does it work?\n",
    "The recursive backtracer algorithm is a fairly simple algorithm. We randomly choose a node and call it the current node. Then we look for a node adjacent to our node that hasn't been visited and we travel to it. We now update the current node to the newly opened node. When we are in a situation where further traversal isn't possible, we backtrack to previous cells until we find a cell that has neighbors that haven't been visited and randomly choose one of them.  \n",
    "Another explanation (slightly more technical) for the algorithm is that we simulate an entity making random walks in a grid, and when the entity can no longer go forward we backtrack until we find an opportunity to make our path bigger.\n",
    "## Is every node connected?\n",
    "Yes every node is connected. We are assured of their connectedness because each node is visited once, and a path is carved to it from an already visited node. Therefore we can conclude that every node will be connected to every other node."
   ]
  },
  {
   "cell_type": "code",
   "execution_count": 2,
   "metadata": {},
   "outputs": [],
   "source": [
    "def RecursiveBacktracer(maze):\n",
    "    # Creating a visited array to check if the node has been visited or not\n",
    "    # O represents unvisited and 1 represents visited\n",
    "    vis = []\n",
    "    for i in range(0, maze.num_rows):\n",
    "        vis.append(list(bytearray(maze.num_columns)))\n",
    "    # The stack for the recursive backtracer algorithm\n",
    "    stack = []\n",
    "    stack.append((random.randint(0, maze.num_rows-1), random.randint(0, maze.num_columns-1)))\n",
    "    # Repeat the algorithm till all nodes are explored\n",
    "    while len(stack):\n",
    "        directions = []\n",
    "        x, y = stack[-1]\n",
    "        vis[x][y] = 1\n",
    "        if x > 0 and vis[x-1][y] == 0:\n",
    "            directions.append('N')\n",
    "        if y > 0 and vis[x][y-1] == 0:\n",
    "            directions.append('W')\n",
    "        if x < maze.num_rows-1 and vis[x+1][y] == 0:\n",
    "            directions.append('S')\n",
    "        if y < maze.num_columns-1 and vis[x][y+1] == 0:\n",
    "            directions.append('E')\n",
    "        if len(directions) == 0:\n",
    "            stack.pop()\n",
    "            continue\n",
    "        choice = directions[random.randint(0, len(directions)-1)]\n",
    "        maze.add_path((y, x), choice, 0)\n",
    "        if choice == 'N':\n",
    "            stack.append((x-1, y))\n",
    "        elif choice == 'S':\n",
    "            stack.append((x+1, y))\n",
    "        elif choice == 'E':\n",
    "            stack.append((x, y+1))\n",
    "        elif choice == 'W':\n",
    "            stack.append((x, y-1))"
   ]
  },
  {
   "cell_type": "code",
   "execution_count": 3,
   "metadata": {},
   "outputs": [
    {
     "data": {
      "image/png": "[encoded data removed]",
      "text/plain": [
       "<PIL.Image.Image image mode=RGBA size=170x170 at 0x7F0F7C044730>"
      ]
     },
     "metadata": {},
     "output_type": "display_data"
    }
   ],
   "source": [
    "maze = Maze(4, 4)\n",
    "RecursiveBacktracer(maze)\n",
    "maze.add_colors(color=(0, 256, 128))\n",
    "display(maze.draw(cell_width=40))\n",
    "maze.dump(\"RecursiveBacktracer_4x4.maze\")"
   ]
  },
  {
   "cell_type": "code",
   "execution_count": 4,
   "metadata": {},
   "outputs": [
    {
     "data": {
      "image/png": "[encoded data removed]",
      "text/plain": [
       "<PIL.Image.Image image mode=RGBA size=330x330 at 0x7F0F7C0DCC70>"
      ]
     },
     "metadata": {},
     "output_type": "display_data"
    }
   ],
   "source": [
    "maze = Maze(8, 8)\n",
    "RecursiveBacktracer(maze)\n",
    "maze.add_colors(color=(0, 256, 128))\n",
    "display(maze.draw(cell_width=40))\n",
    "maze.dump(\"RecursiveBacktracer_8x8.maze\")"
   ]
  },
  {
   "cell_type": "code",
   "execution_count": 5,
   "metadata": {},
   "outputs": [
    {
     "data": {
      "image/png": "[encoded data removed]",
      "text/plain": [
       "<PIL.Image.Image image mode=RGBA size=650x650 at 0x7F0F7C0F32B0>"
      ]
     },
     "metadata": {},
     "output_type": "display_data"
    }
   ],
   "source": [
    "maze = Maze(16, 16)\n",
    "RecursiveBacktracer(maze)\n",
    "maze.add_colors(color=(0, 256, 128))\n",
    "display(maze.draw(cell_width=40))\n",
    "maze.dump(\"RecursiveBacktracer_16x16.maze\")"
   ]
  },
  {
   "cell_type": "markdown",
   "metadata": {},
   "source": [
    "## Basic analysis\n",
    "### Time Complexity : O(N<sup>2</sup>)\n",
    "In this algorithm we traverse a path until we can't anymore, and then backtrace until we find an unvisited neighbor. We know that each node has atmost 4 neighbors, and that each time the algorithm checks a node it decreases the number of its unvisited neighbors by 4. Therefore we can be assured that the algorithm will check each node atmost 4 times. Therefore the algorithm is linear in terms of the number of nodes(N is the upper bound on rows/columns).\n",
    "### Additional Space : O(N<sup>2</sup>)\n",
    "For the algorithm to work, we need to check if the nodes are visited. To do this we need to maintain atleast a bit of information per node. As there are N<sup>2</sup> nodes, we need N<sup>2</sup> additional space. We also need a stack that can grow to atmost N<sup>2</sup> size (worst case).\n",
    "### Bias\n",
    "There is no evident bias, further checks will have to be done."
   ]
  },
  {
   "cell_type": "code",
   "execution_count": 5,
   "metadata": {},
   "outputs": [
    {
     "name": "stdout",
     "output_type": "stream",
     "text": [
      "    Deadends  :  10.015900\n",
      "Straightways  :  30.607100\n",
      "   LeftTurns  :  24.778900\n",
      "  RightTurns  :  24.772500\n",
      "   Junctions  :  9.655300\n",
      "  Crossroads  :  0.170300\n"
     ]
    }
   ],
   "source": [
    "total = {\"Deadends\": 0, \"Straightways\": 0, \"LeftTurns\": 0, \"RightTurns\": 0, \"Junctions\": 0, \"Crossroads\": 0}\n",
    "for i in range(0, 100):\n",
    "    maze = Maze(100, 100)\n",
    "    RecursiveBacktracer(maze)\n",
    "    partial = maze.benchmark()\n",
    "    total[\"Deadends\"] += partial[\"Deadends\"]\n",
    "    total[\"Straightways\"] += partial[\"Straightways\"]\n",
    "    total[\"LeftTurns\"] += partial[\"LeftTurns\"]\n",
    "    total[\"RightTurns\"] += partial[\"RightTurns\"]\n",
    "    total[\"Junctions\"] += partial[\"Junctions\"]\n",
    "    total[\"Crossroads\"] += partial[\"Crossroads\"]\n",
    "\n",
    "div = 0\n",
    "for i in total:\n",
    "    div += total[i]\n",
    "\n",
    "for i in total:\n",
    "    total[i] /= div\n",
    "    total[i] *= 100\n",
    "    round(total[i], 3)\n",
    "\n",
    "for i in total:\n",
    "    print(\"%12s %s %3f\" % (i, \" : \", total[i]))"
   ]
  },
  {
   "cell_type": "markdown",
   "metadata": {},
   "source": [
    "### Further analysis\n",
    "Here we can see that there is a bias towards long winding passageways, reflected in the higher percentage of straightways. This conclusion is further supported by the steady gradient towards the darker regions of the maze. There is no bias towards any direction, and there are very few deadends. This kind of maze is suitable when we want one main pathway and very minimal branching. Solving mazes generated by this algorithm would be a very 'linear' process."
   ]
  }
 ],
 "metadata": {
  "kernelspec": {
   "display_name": "Python 3",
   "language": "python",
   "name": "python3"
  },
  "language_info": {
   "codemirror_mode": {
    "name": "ipython",
    "version": 3
   },
   "file_extension": ".py",
   "mimetype": "text/x-python",
   "name": "python",
   "nbconvert_exporter": "python",
   "pygments_lexer": "ipython3",
   "version": "3.8.6"
  }
 },
 "nbformat": 4,
 "nbformat_minor": 4
}
