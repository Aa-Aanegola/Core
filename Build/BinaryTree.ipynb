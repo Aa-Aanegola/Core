{
 "cells": [
  {
   "cell_type": "code",
   "execution_count": 1,
   "metadata": {},
   "outputs": [],
   "source": [
    "import sys\n",
    "import random\n",
    "sys.path.append(\"../\")\n",
    "from pprint import pprint\n",
    "from Core.maze import Maze"
   ]
  },
  {
   "cell_type": "markdown",
   "metadata": {},
   "source": [
    "# The Binary Tree Algorithm\n",
    "## How does it work?\n",
    "The binary tree algorithm is a fairly simple algorithm. Consider any node and randomly choose either left or up and carve a path in that direction. Now we do this for every single node.\n",
    "## Is every node connected?\n",
    "Yes every node is connected. We know that for every node we make a decision to go left or to go up. It is trivial to conclude that all the nodes in the first row and first column are connected as they can only go left and up respectively. For the rest of the nodes, we observe that they'll eventually connect to one of these long passages. The algorithm derives its name from the fact that the maze is a binary tree rooted at (0, 0)."
   ]
  },
  {
   "cell_type": "code",
   "execution_count": 2,
   "metadata": {},
   "outputs": [],
   "source": [
    "def BinaryTree(maze):\n",
    "    # Start from 0, 0 and create maze using binary tree algorithm\n",
    "    # Iterate over every node and carve a path to the north or west\n",
    "    for x in range(0, maze.num_rows):\n",
    "        for y in range(0, maze.num_columns):\n",
    "            temp = []\n",
    "            # Check if west is valid\n",
    "            if x > 0:\n",
    "                temp.append('W')\n",
    "            # Check if north is valid\n",
    "            if y > 0:\n",
    "                temp.append('N')\n",
    "            # If neither are valid skip\n",
    "            if len(temp) == 0:\n",
    "                continue\n",
    "            # Choose a random valid direction and carve a path in that direction\n",
    "            direction = random.randint(0, len(temp)-1)\n",
    "            maze.add_path((x, y), temp[direction], 0)"
   ]
  },
  {
   "cell_type": "code",
   "execution_count": 3,
   "metadata": {},
   "outputs": [
    {
     "data": {
      "image/png": "[encoded data removed]",
      "text/plain": [
       "<PIL.Image.Image image mode=RGBA size=210x210 at 0x7F191464E700>"
      ]
     },
     "metadata": {},
     "output_type": "display_data"
    },
    {
     "data": {
      "image/png": "[encoded data removed]",
      "text/plain": [
       "<PIL.Image.Image image mode=RGBA size=330x330 at 0x7F190C827DF0>"
      ]
     },
     "metadata": {},
     "output_type": "display_data"
    },
    {
     "data": {
      "image/png": "[encoded data removed]",
      "text/plain": [
       "<PIL.Image.Image image mode=RGBA size=490x490 at 0x7F191464E5B0>"
      ]
     },
     "metadata": {},
     "output_type": "display_data"
    }
   ],
   "source": [
    "maze = Maze(4, 4)\n",
    "BinaryTree(maze)\n",
    "maze.add_colors()\n",
    "display(maze.draw())\n",
    "maze.dump(\"BinaryTree_4x4.maze\")\n",
    "\n",
    "maze = Maze(8, 8)\n",
    "BinaryTree(maze)\n",
    "maze.add_colors()\n",
    "display(maze.draw(cell_width=40))\n",
    "maze.dump(\"BinaryTree_8x8.maze\")\n",
    "\n",
    "maze = Maze(16, 16)\n",
    "BinaryTree(maze)\n",
    "maze.add_colors()\n",
    "display(maze.draw(cell_width=30))\n",
    "maze.dump(\"BinaryTree_16x16.maze\")"
   ]
  },
  {
   "cell_type": "markdown",
   "metadata": {},
   "source": [
    "## Basic Analysis\n",
    "Seeing as this is a very basic algorithm and we haven't created tools to analyse our algorithms yet, I put together a couple very obvious things.  \n",
    "### Time Complexity : O(N<sup>2</sup>)  \n",
    "N is the upper bound on the number of rows/columns. Seeing as we do only one pass over the grid in the maze class we iterate over each node only once.\n",
    "### Additional Space : O(1)  \n",
    "We do not have any sizable additional space requirements. The only variable we use in the function is the temp variable that stores directions.\n",
    "### Bias :  \n",
    "There is a clear bias in the maze (that we can see with our own eyes) The paths all appear to flow towards the top left corner. There is also two long straight paths that run along the west and north edges. This is simply because the top left corner is the root of the binary tree that the mazes can be represented as. We can simply move up and left until we reach the root and then travel towards our objective. This maze will not perform very well against human solvers but algorithms will be indifferent to this bias (maybe?)."
   ]
  },
  {
   "cell_type": "code",
   "execution_count": 4,
   "metadata": {},
   "outputs": [
    {
     "name": "stdout",
     "output_type": "stream",
     "text": [
      "    Deadends  :  24.981700\n",
      "Straightways  :  25.546800\n",
      "   LeftTurns  :  12.263000\n",
      "  RightTurns  :  12.246800\n",
      "   Junctions  :  24.961700\n",
      "  Crossroads  :  0.000000\n"
     ]
    }
   ],
   "source": [
    "total = {\"Deadends\": 0, \"Straightways\": 0, \"LeftTurns\": 0, \"RightTurns\": 0, \"Junctions\": 0, \"Crossroads\": 0}\n",
    "for i in range(0, 100):\n",
    "    maze = Maze(100, 100)\n",
    "    BinaryTree(maze)\n",
    "    partial = maze.benchmark()\n",
    "    total[\"Deadends\"] += partial[\"Deadends\"]\n",
    "    total[\"Straightways\"] += partial[\"Straightways\"]\n",
    "    total[\"LeftTurns\"] += partial[\"LeftTurns\"]\n",
    "    total[\"RightTurns\"] += partial[\"RightTurns\"]\n",
    "    total[\"Junctions\"] += partial[\"Junctions\"]\n",
    "    total[\"Crossroads\"] += partial[\"Crossroads\"]\n",
    "\n",
    "div = 0\n",
    "for i in total:\n",
    "    div += total[i]\n",
    "\n",
    "for i in total:\n",
    "    total[i] /= div\n",
    "    total[i] *= 100\n",
    "    round(total[i], 3)\n",
    "\n",
    "for i in total:\n",
    "    print(\"%12s %s %3f\" % (i, \" : \", total[i]))"
   ]
  },
  {
   "cell_type": "markdown",
   "metadata": {},
   "source": [
    "### Further analysis\n",
    "Looking at the above results, we can see that there doesn't seem to be any evident preference towards left or right turns. 25% of all nodes are dead ends, which is a pretty high percentage, and the number of straightways are roughly equal to to the number of dead ends. Neglecting the clear northwest to southeast bias, we have a pretty good distribution of types of nodes. This kind of maze would be perfect for a situation where we have a large and central 'common area' (the north-west corner), and multiple branches from this place. Dungeon crawler video games with a respawn point could potentially use this type of maze to achieve a rather convoluted but rooted map."
   ]
  }
 ],
 "metadata": {
  "kernelspec": {
   "display_name": "Python 3",
   "language": "python",
   "name": "python3"
  },
  "language_info": {
   "codemirror_mode": {
    "name": "ipython",
    "version": 3
   },
   "file_extension": ".py",
   "mimetype": "text/x-python",
   "name": "python",
   "nbconvert_exporter": "python",
   "pygments_lexer": "ipython3",
   "version": "3.8.6"
  }
 },
 "nbformat": 4,
 "nbformat_minor": 4
}
