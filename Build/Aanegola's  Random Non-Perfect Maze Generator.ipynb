{
 "cells": [
  {
   "cell_type": "markdown",
   "metadata": {},
   "source": [
    "# Aanegola Generation\n",
    "After seeing the results of all the 'perfect' maze generators I wanted to create a maze that wasn't so perfect. I wanted a maze that was very sparse, had a lot of empty space and looked nothing like a maze. The idea was derived from paintball arenas which tend to be relatively open but have some obstacles to take shelter behind. \n",
    "\n",
    "## How does it work?\n",
    "The algorithm is really simple. We simply traverse through the entire maze node by node, and make a list of the possible directions edges can be added. We then choose one path for the corner nodes, two for the edge nodes, and three for the other nodes. However, we do not ensure that the paths have to be distinct, and the same path can be removed multiple times (effective number of paths added will reduce).\n",
    "\n",
    "## Will it always be connected?\n",
    "No! Since the maze generation is entirely probabalistic, there is no guaruntee that the algorithm generates a connected maze. In a situation where two nodes next to each other select {N, N, N} and {S, S, S} respectively (ie they're only connected to each other) and the other nodes adjacent to them never select a path that leads them to this pair, we will obtain an isolated 'island'. However, the probability of island creation is very very low. "
   ]
  },
  {
   "cell_type": "code",
   "execution_count": 109,
   "metadata": {},
   "outputs": [],
   "source": [
    "import sys\n",
    "import random\n",
    "sys.path.append(\"../\")\n",
    "from pprint import pprint\n",
    "from Core.maze import Maze"
   ]
  },
  {
   "cell_type": "code",
   "execution_count": 110,
   "metadata": {},
   "outputs": [],
   "source": [
    "def AanegolaGen(maze):\n",
    "    for x in range(0, maze.num_columns):\n",
    "        for y in range(0, maze.num_rows):\n",
    "            choices = []\n",
    "            \n",
    "            if x != 0:\n",
    "                choices.append('W')\n",
    "            if x != maze.num_columns-1:\n",
    "                choices.append('E')\n",
    "            if y != 0:\n",
    "                choices.append('N')\n",
    "            if y != maze.num_rows-1:\n",
    "                choices.append('S')\n",
    "            \n",
    "            if len(choices) == 2:\n",
    "                direction = random.choice(choices)\n",
    "                maze.add_path((x, y), direction, 0)\n",
    "            elif len(choices) == 3:\n",
    "                direction = random.choice(choices)\n",
    "                maze.add_path((x, y), direction, 0)\n",
    "                direction = random.choice(choices)\n",
    "                maze.add_path((x, y), direction, 0)\n",
    "            elif len(choices) == 4:\n",
    "                direction = random.choice(choices)\n",
    "                maze.add_path((x, y), direction, 0)\n",
    "                direction = random.choice(choices)\n",
    "                maze.add_path((x, y), direction, 0)\n",
    "                direction = random.choice(choices)\n",
    "                maze.add_path((x, y), direction, 0)"
   ]
  },
  {
   "cell_type": "code",
   "execution_count": 116,
   "metadata": {},
   "outputs": [
    {
     "data": {
      "image/png": "[encoded data removed]",
      "text/plain": [
       "<PIL.Image.Image image mode=RGBA size=410x410 at 0x7F74E0CE32D0>"
      ]
     },
     "metadata": {},
     "output_type": "display_data"
    }
   ],
   "source": [
    "maze = Maze(10, 10)\n",
    "AanegolaGen(maze)\n",
    "maze.add_colors(color=(0, 256, 128))\n",
    "display(maze.draw(cell_width=40))"
   ]
  },
  {
   "cell_type": "markdown",
   "metadata": {},
   "source": [
    "## Basic Analysis\n",
    "### Time complexity : O(n<sup>2</sup>)\n",
    "The algorithm makes only one pass over every node, and hence in O(n<sup>2</sup>) time. \n",
    "### Additional space : O(1)\n",
    "We only requre a list that stores up to 4 elements for the algorithm to work, and hence not much additional space is required.\n",
    "### Bias\n",
    "The algorithm is heavily biased to have large open spaces. However since it is entirely probabalistic, mazes generated by this algo can have some odditites. On average, we do not have any radical bias apart from the openness. "
   ]
  },
  {
   "cell_type": "code",
   "execution_count": 117,
   "metadata": {},
   "outputs": [
    {
     "name": "stdout",
     "output_type": "stream",
     "text": [
      "    Deadends  :  0.718100\n",
      "Straightways  :  4.389500\n",
      "   LeftTurns  :  4.452100\n",
      "  RightTurns  :  4.453400\n",
      "   Junctions  :  46.080300\n",
      "  Crossroads  :  39.906600\n"
     ]
    }
   ],
   "source": [
    "total = {\"Deadends\": 0, \"Straightways\": 0, \"LeftTurns\": 0, \"RightTurns\": 0, \"Junctions\": 0, \"Crossroads\": 0}\n",
    "for i in range(0, 100):\n",
    "    maze = Maze(100, 100)\n",
    "    AanegolaGen(maze)\n",
    "    partial = maze.benchmark()\n",
    "    total[\"Deadends\"] += partial[\"Deadends\"]\n",
    "    total[\"Straightways\"] += partial[\"Straightways\"]\n",
    "    total[\"LeftTurns\"] += partial[\"LeftTurns\"]\n",
    "    total[\"RightTurns\"] += partial[\"RightTurns\"]\n",
    "    total[\"Junctions\"] += partial[\"Junctions\"]\n",
    "    total[\"Crossroads\"] += partial[\"Crossroads\"]\n",
    "\n",
    "div = 0\n",
    "for i in total:\n",
    "    div += total[i]\n",
    "\n",
    "for i in total:\n",
    "    total[i] /= div\n",
    "    total[i] *= 100\n",
    "    round(total[i], 3)\n",
    "\n",
    "for i in total:\n",
    "    print(\"%12s %s %3f\" % (i, \" : \", total[i]))"
   ]
  },
  {
   "cell_type": "markdown",
   "metadata": {},
   "source": [
    "### Further analysis\n",
    "As we can see, the number of junctions and crossroads is extremely high when compared to deadends, straightways and turns. This indicates a bias towards large open areas in the maze which was what the maze was intended to do. This algorithm also creates the need for a new 'unconnected' class of nodes which can exist only in imperfect maze creation, where not all nodes are connected."
   ]
  }
 ],
 "metadata": {
  "kernelspec": {
   "display_name": "ML",
   "language": "python",
   "name": "ml"
  },
  "language_info": {
   "codemirror_mode": {
    "name": "ipython",
    "version": 3
   },
   "file_extension": ".py",
   "mimetype": "text/x-python",
   "name": "python",
   "nbconvert_exporter": "python",
   "pygments_lexer": "ipython3",
   "version": "3.7.7"
  }
 },
 "nbformat": 4,
 "nbformat_minor": 4
}
