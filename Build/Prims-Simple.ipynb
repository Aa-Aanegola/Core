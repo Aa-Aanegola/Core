{
 "cells": [
  {
   "cell_type": "code",
   "execution_count": 1,
   "metadata": {},
   "outputs": [],
   "source": [
    "import sys\n",
    "import random\n",
    "sys.path.append(\"../\")\n",
    "from Core.maze import Maze"
   ]
  },
  {
   "cell_type": "markdown",
   "metadata": {},
   "source": [
    "# Simplified Prim's Algorithm\n",
    "\n",
    "## How does it work?\n",
    "Prim's Algorithm works similarly to Djikstra's algorithm, starting at one point in the grid and moving outward like water flowing, but in this case it constructs a spanning tree across the grid, thus generating a maze.\n",
    "\n",
    "## Is every node connected?\n",
    "Yes, every node is connected. This is due to the fact that the algorithm starts at an arbitrary node and does not terminate until all the nodes have been added to the maze."
   ]
  },
  {
   "cell_type": "code",
   "execution_count": 2,
   "metadata": {},
   "outputs": [],
   "source": [
    "def SimplePrims(maze):\n",
    "    unvisited = set([(x, y) for x in range(maze.num_columns) for y in range(maze.num_rows)])\n",
    "    \n",
    "    # randomly pick a node to start from\n",
    "    initial = (\n",
    "        random.randint(0, maze.num_rows - 1), \n",
    "        random.randint(0, maze.num_columns - 1)\n",
    "    )\n",
    "    \n",
    "    current = initial\n",
    "    reachable = set()\n",
    "    while True:\n",
    "        unvisited.remove((current[0], current[1]))\n",
    "        \n",
    "        # compute reachable neighbors from current node\n",
    "        if current[0] > 0 and (current[0] - 1, current[1]) in unvisited:\n",
    "            reachable.add((current[0] - 1, current[1]))\n",
    "        if current[0] < maze.num_columns - 1 and (current[0] + 1, current[1]) in unvisited:\n",
    "            reachable.add((current[0] + 1, current[1]))\n",
    "        if current[1] > 0 and (current[0], current[1] - 1) in unvisited:\n",
    "            reachable.add((current[0], current[1] - 1))\n",
    "        if current[1] < maze.num_rows - 1 and (current[0], current[1] + 1) in unvisited:\n",
    "            reachable.add((current[0], current[1] + 1))\n",
    "        \n",
    "        # randomly pick a neighbor since there is no path weight dissimilarity \n",
    "        adjacent = random.choice(list(reachable))\n",
    "        \n",
    "        # determine direction of path to be added\n",
    "        directions = []\n",
    "        if adjacent[0] > 0 and (adjacent[0] - 1, adjacent[1]) not in unvisited:\n",
    "            directions.append(\"W\")\n",
    "        if adjacent[0] < maze.num_columns - 1 and (adjacent[0] + 1, adjacent[1]) not in unvisited:\n",
    "            directions.append(\"E\")\n",
    "        if adjacent[1] > 0 and (adjacent[0], adjacent[1] - 1) not in unvisited:\n",
    "            directions.append(\"N\")\n",
    "        if adjacent[1] < maze.num_rows - 1 and (adjacent[0], adjacent[1] + 1) not in unvisited:\n",
    "            directions.append(\"S\")\n",
    "        \n",
    "        path = random.choice(directions)\n",
    "        \n",
    "        maze.add_path((adjacent[0], adjacent[1]), path, 0)\n",
    "        reachable.remove(adjacent)\n",
    "        current = adjacent\n",
    "        \n",
    "        # terminate when no more reachable nodes are left\n",
    "        if not reachable:\n",
    "            return initial"
   ]
  },
  {
   "cell_type": "code",
   "execution_count": 11,
   "metadata": {},
   "outputs": [
    {
     "data": {
      "image/png": "[encoded data removed]",
      "text/plain": [
       "<PIL.Image.Image image mode=RGB size=330x330 at 0x7F5209CDCC10>"
      ]
     },
     "metadata": {},
     "output_type": "display_data"
    }
   ],
   "source": [
    "maze = Maze(4, 4)\n",
    "initial = SimplePrims(maze)\n",
    "maze.add_colors(start=initial)\n",
    "display(maze.draw(cell_width=80))"
   ]
  },
  {
   "cell_type": "code",
   "execution_count": 15,
   "metadata": {},
   "outputs": [
    {
     "data": {
      "image/png": "[encoded data removed]",
      "text/plain": [
       "<PIL.Image.Image image mode=RGB size=330x330 at 0x7F521B3D2220>"
      ]
     },
     "metadata": {},
     "output_type": "display_data"
    }
   ],
   "source": [
    "maze = Maze(8, 8)\n",
    "initial = SimplePrims(maze)\n",
    "maze.add_colors(start=initial)\n",
    "display(maze.draw(cell_width=40))"
   ]
  },
  {
   "cell_type": "code",
   "execution_count": 16,
   "metadata": {},
   "outputs": [
    {
     "data": {
      "image/png": "[encoded data removed]",
      "text/plain": [
       "<PIL.Image.Image image mode=RGB size=330x330 at 0x7F5218366160>"
      ]
     },
     "metadata": {},
     "output_type": "display_data"
    }
   ],
   "source": [
    "maze = Maze(16, 16)\n",
    "initial = SimplePrims(maze)\n",
    "maze.add_colors(start=initial)\n",
    "display(maze.draw(cell_width=20))"
   ]
  },
  {
   "cell_type": "markdown",
   "metadata": {},
   "source": [
    "## Basic Analysis\n",
    "### Time Complexity: O(N<sup>2</sup>)\n",
    "The time complexity of Prim's Algorithm depends on the data structure used as input. Since we use a grid/adjacency matrix representation as input and traverse all the nodes once, the time complexity turns out to be O(N<sup>2</sup>), where N is the number of cells/nodes in the grid.\n",
    "\n",
    "### Space Complexity: O(N)\n",
    "We're also required to keep track of visited/unvisited nodes in the grid to avoid cycles in the spanning tree constructed by our algorithm. Hence, the space complexity would be O(N), where N is the number of cells/nodes in the grid.\n",
    "\n",
    "### Bias/Texture:\n",
    "Maps generated using Simple Prim's Algorithm tend to have a radial texture, spreading outward from the random node chosen initially to run the algorithm from. This is because the spanning tree grows out from this node to reach every corner of the maze."
   ]
  }
 ],
 "metadata": {
  "kernelspec": {
   "display_name": "Python 3",
   "language": "python",
   "name": "python3"
  },
  "language_info": {
   "codemirror_mode": {
    "name": "ipython",
    "version": 3
   },
   "file_extension": ".py",
   "mimetype": "text/x-python",
   "name": "python",
   "nbconvert_exporter": "python",
   "pygments_lexer": "ipython3",
   "version": "3.8.6"
  }
 },
 "nbformat": 4,
 "nbformat_minor": 4
}
