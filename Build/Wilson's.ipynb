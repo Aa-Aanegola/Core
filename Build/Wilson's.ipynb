{
 "cells": [
  {
   "cell_type": "code",
   "execution_count": 62,
   "metadata": {},
   "outputs": [],
   "source": [
    "import sys\n",
    "import random\n",
    "sys.path.append(\"../\")\n",
    "from pprint import pprint\n",
    "from Core.maze import Maze  \n",
    "from copy import deepcopy"
   ]
  },
  {
   "cell_type": "markdown",
   "metadata": {},
   "source": [
    "# Wilson's Algorithm\n",
    "## How does it work\n",
    "Algorithm chooses a random cell and marks it visited, then starts from any unvisited cell and draws an entirely random path till the visited cell, erasing loops from intersecting paths. This way, it continues till all cells have been visited.\n",
    "\n",
    "The algorithm goes something like this:\n",
    "1. Choose any vertex at random and add it to the Uniform Spanning Tree (UST).\n",
    "2. Select any vertex that is not already in the UST and perform a random walk until you encounter a vertex that is in the UST.\n",
    "3. Add the vertices and edges touched in the random walk to the UST.\n",
    "4. Repeat 2 and 3 until all vertices have been added to the UST.\n"
   ]
  },
  {
   "cell_type": "code",
   "execution_count": 82,
   "metadata": {},
   "outputs": [],
   "source": [
    "class GridElement:\n",
    "    def __init__(self,x,y):\n",
    "        self.x = x\n",
    "        self.y = y"
   ]
  },
  {
   "cell_type": "code",
   "execution_count": 185,
   "metadata": {},
   "outputs": [],
   "source": [
    "def wilson(maze):\n",
    "    vis = []\n",
    "    for i in range(0, maze.num_rows):\n",
    "        vis.append(list(bytearray(maze.num_columns)))\n",
    "    total_cells = maze.num_rows * maze.num_columns\n",
    "    vis[0][0] = 1\n",
    "    unvisited_cells = total_cells-1\n",
    "    possible_directions = ['N','W','S','E']\n",
    "    while unvisited_cells>0:\n",
    "        last_visited_cell = GridElement((random.randint(0,maze.num_rows-1)),(random.randint(0,maze.num_columns-1)))\n",
    "        while vis[last_visited_cell.y][last_visited_cell.x]:\n",
    "            last_visited_cell = GridElement((random.randint(0,maze.num_rows-1)),(random.randint(0,maze.num_columns-1)))\n",
    "        walked_path = []\n",
    "        temp_visited_cells = []\n",
    "        for i in range(0, maze.num_rows):\n",
    "            temp_visited_cells.append(list(bytearray(maze.num_columns)))\n",
    "        temp_visited_cells[last_visited_cell.y][last_visited_cell.x] = 1\n",
    "        while vis[last_visited_cell.y][last_visited_cell.x] == 0:\n",
    "            random_direction = possible_directions[random.randint(0,3)]\n",
    "            if random_direction == 'N':\n",
    "                if last_visited_cell.y-1<0:\n",
    "                    continue\n",
    "                walked_path.append([last_visited_cell.y,last_visited_cell.x,random_direction])\n",
    "                last_visited_cell.y -= 1\n",
    "            elif random_direction == 'W':\n",
    "                if last_visited_cell.x-1<0:\n",
    "                    continue\n",
    "                walked_path.append([last_visited_cell.y,last_visited_cell.x,random_direction])\n",
    "                last_visited_cell.x -= 1\n",
    "            elif random_direction == 'S':\n",
    "                if last_visited_cell.y+1>(maze.num_rows-1):\n",
    "                    continue\n",
    "                walked_path.append([last_visited_cell.y,last_visited_cell.x,random_direction])\n",
    "                last_visited_cell.y += 1\n",
    "            elif random_direction == 'E':\n",
    "                if last_visited_cell.x+1>(maze.num_columns-1):\n",
    "                    continue\n",
    "                walked_path.append([last_visited_cell.y,last_visited_cell.x,random_direction])\n",
    "                last_visited_cell.x += 1\n",
    "            if vis[last_visited_cell.y][last_visited_cell.x] == 1:\n",
    "                break\n",
    "            if temp_visited_cells[last_visited_cell.y][last_visited_cell.x] == 1:\n",
    "                top = len(walked_path)-1\n",
    "                while len(walked_path)>0 and walked_path[top][0]!=last_visited_cell.y and walked_path[top][1]!=last_visited_cell.x:\n",
    "                    temp_visited_cells[walked_path[top][0]][walked_path[top][1]] = 0\n",
    "                    walked_path.pop()\n",
    "                    top -= 1\n",
    "                if len(walked_path)>0:\n",
    "                    walked_path.pop()\n",
    "            else:\n",
    "                temp_visited_cells[last_visited_cell.y][last_visited_cell.x] = 1\n",
    "        for thing in walked_path:\n",
    "            maze.add_path((thing[1],thing[0]),thing[2],0)\n",
    "            if not vis[thing[0]][thing[1]]:\n",
    "                unvisited_cells -= 1\n",
    "            vis[thing[0]][thing[1]] = 1"
   ]
  },
  {
   "cell_type": "code",
   "execution_count": 291,
   "metadata": {},
   "outputs": [
    {
     "data": {
      "image/png": "[encoded data removed]",
      "text/plain": [
       "<PIL.Image.Image image mode=RGBA size=170x170 at 0x7EFD5848BE50>"
      ]
     },
     "metadata": {},
     "output_type": "display_data"
    }
   ],
   "source": [
    "maze = Maze(4, 4)\n",
    "wilson(maze)\n",
    "maze.add_colors(color=(128, 128, 255))\n",
    "display(maze.draw(cell_width=40))\n",
    "maze.dump(\"Wilson_4x4.maze\")"
   ]
  },
  {
   "cell_type": "code",
   "execution_count": 292,
   "metadata": {},
   "outputs": [
    {
     "data": {
      "image/png": "[encoded data removed]",
      "text/plain": [
       "<PIL.Image.Image image mode=RGBA size=330x330 at 0x7EFD5888F310>"
      ]
     },
     "metadata": {},
     "output_type": "display_data"
    }
   ],
   "source": [
    "maze = Maze(8, 8)\n",
    "wilson(maze)\n",
    "maze.add_colors(color=(128, 128, 255))\n",
    "display(maze.draw(cell_width=40))\n",
    "maze.dump(\"Wilson_8x8.maze\")"
   ]
  },
  {
   "cell_type": "code",
   "execution_count": 293,
   "metadata": {},
   "outputs": [
    {
     "data": {
      "image/png": "[encoded data removed]",
      "text/plain": [
       "<PIL.Image.Image image mode=RGBA size=650x650 at 0x7EFD5871FE50>"
      ]
     },
     "metadata": {},
     "output_type": "display_data"
    }
   ],
   "source": [
    "maze = Maze(16, 16)\n",
    "wilson(maze)\n",
    "maze.add_colors(color=(128, 128, 255))\n",
    "display(maze.draw(cell_width=40))\n",
    "maze.dump(\"Wilson_16x16.maze\")"
   ]
  },
  {
   "cell_type": "markdown",
   "metadata": {},
   "source": [
    "## Basic analysis\n",
    "### Time Complexity : O(T<sub>c</sub>)\n",
    "The expected runtime of Wilson's Algorithm is dependent on the cover time- T<sub>c</sub>, which is the time taken by the algorithm to complete a random walk visiting all nodes of a graph. The cover time is bounded by v<sup>3</sup> where v is no of nodes in the graph, and it can be as low as vlog v.\n",
    "<br> In a maze v = n x n. So,<br>\n",
    "Lower bound- O(n<sup>2</sup>log n)<br>\n",
    "Upper Bound- O(n<sup>6</sup>)\n",
    "### Additional Space : O(N<sup>2</sup>)\n",
    "For the algorithm to work, we need to check if the nodes are visited. To do this we need to maintain atleast a bit of information per node. As there are N<sup>2</sup> nodes, we need N<sup>2</sup> additional space. We also need a stack that can grow to atmost N<sup>2</sup> size (worst case).\n",
    "### Bias\n",
    "Guaranteed to have no bias."
   ]
  },
  {
   "cell_type": "code",
   "execution_count": 295,
   "metadata": {},
   "outputs": [
    {
     "name": "stdout",
     "output_type": "stream",
     "text": [
      "    Deadends  :  9.783500\n",
      "Straightways  :  18.170400\n",
      "   LeftTurns  :  15.998300\n",
      "  RightTurns  :  16.043000\n",
      "   Junctions  :  32.923300\n",
      "  Crossroads  :  7.081500\n"
     ]
    }
   ],
   "source": [
    "total = {\"Deadends\": 0, \"Straightways\": 0, \"LeftTurns\": 0, \"RightTurns\": 0, \"Junctions\": 0, \"Crossroads\": 0}\n",
    "for i in range(0, 100):\n",
    "    maze = Maze(100, 100)\n",
    "    wilson(maze)\n",
    "    partial = maze.benchmark()\n",
    "    total[\"Deadends\"] += partial[\"Deadends\"]\n",
    "    total[\"Straightways\"] += partial[\"Straightways\"]\n",
    "    total[\"LeftTurns\"] += partial[\"LeftTurns\"]\n",
    "    total[\"RightTurns\"] += partial[\"RightTurns\"]\n",
    "    total[\"Junctions\"] += partial[\"Junctions\"]\n",
    "    total[\"Crossroads\"] += partial[\"Crossroads\"]\n",
    "\n",
    "div = 0\n",
    "for i in total:\n",
    "    div += total[i]\n",
    "\n",
    "for i in total:\n",
    "    total[i] /= div\n",
    "    total[i] *= 100\n",
    "    round(total[i], 3)\n",
    "\n",
    "for i in total:\n",
    "    print(\"%12s %s %3f\" % (i, \" : \", total[i]))"
   ]
  },
  {
   "cell_type": "markdown",
   "metadata": {},
   "source": [
    "### Further analysis\n",
    "This algorithm tends to create highly unbiased mazes due to its sheer randomness. However we can see that the percentage of deadends is relatively high, and that of straightways are lower. This indicates the creation of multiple passageways that tend to terminate early and not wind around each other much. There is no bias between the directions. "
   ]
  }
 ],
 "metadata": {
  "kernelspec": {
   "display_name": "Python 3",
   "language": "python",
   "name": "python3"
  },
  "language_info": {
   "codemirror_mode": {
    "name": "ipython",
    "version": 3
   },
   "file_extension": ".py",
   "mimetype": "text/x-python",
   "name": "python",
   "nbconvert_exporter": "python",
   "pygments_lexer": "ipython3",
   "version": "3.8.5"
  }
 },
 "nbformat": 4,
 "nbformat_minor": 4
}
