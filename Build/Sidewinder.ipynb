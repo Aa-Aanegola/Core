{
 "cells": [
  {
   "cell_type": "code",
   "execution_count": null,
   "metadata": {},
   "outputs": [],
   "source": [
    "import sys\n",
    "import random\n",
    "sys.path.append(\"../\")\n",
    "from pprint import pprint\n",
    "from Core.maze import Maze"
   ]
  },
  {
   "cell_type": "markdown",
   "metadata": {},
   "source": [
    "# The Sidewinder Algorithm\n",
    "## How does it work?\n",
    "The Sidewinder algorithm is closely related to the binary tree algorithm, in which it involves randomly grouping a set of consecutive nodes in each row before carving any upward node. This is done by taking a node, and randomly deciding whether to carve east or not. If carved east, the node is added to the list of 'selected' nodes. Once we decide not to carve east, or we reach the end of the row, we then carve north for any one random node in our 'selected' list. An interesting point to note about this algorithm is that by necessity, the first row must always be fully carved eastwards, as carving north here is not possible.\n",
    "## Is every node connected?\n",
    "Yes every node is connected. This can be concluded by considering the graph row by row. The first row is always connected, by necessity. In the second row, each set of nodes that were selected have been carved northward, thus connecting that set to our first row, making the entire set connected. This can be applied to all selected sets of the row, and thus they are all connected. For the rest of the rows, we observe that this applies recursively, as each row is always connected to the row above."
   ]
  },
  {
   "cell_type": "code",
   "execution_count": null,
   "metadata": {},
   "outputs": [],
   "source": [
    "def Sidewinder(maze):\n",
    "    # The list temp will denote our currently selected set of nodes\n",
    "    temp = []\n",
    "    for y in range(0,maze.num_rows):\n",
    "        # temp has to be emptied for each fresh row\n",
    "        temp.clear()\n",
    "        for x in range(0,maze.num_columns):\n",
    "            # the first row has to have each node carved east out of necessity\n",
    "            if y == 0 and x != maze.num_columns-1:\n",
    "                maze.add_path((x,y), 'E', 0)\n",
    "                continue\n",
    "            elif y == 0 and x == maze.num_columns-1:\n",
    "                continue\n",
    "            # in case the set is empty, we select the current node\n",
    "            if len(temp) == 0:\n",
    "                temp.append(x)\n",
    "            check = random.randint(0,1)\n",
    "            # if we are at the last column of any row, we must randomly carve north out of the selected set\n",
    "            if x == maze.num_columns-1:\n",
    "                check = 1\n",
    "            # if check = 0, we carve east and add the next node to our selected set\n",
    "            if check == 0:\n",
    "                temp.append(x+1)\n",
    "                maze.add_path((x,y), 'E', 0)\n",
    "            # if check = 1, we carve north for a random node from our selected set, and clear the set\n",
    "            else:\n",
    "                randval = random.randint(0,len(temp)-1)\n",
    "                maze.add_path((temp[randval],y), 'N', 0)\n",
    "                temp.clear()"
   ]
  },
  {
   "cell_type": "code",
   "execution_count": 3,
   "metadata": {},
   "outputs": [
    {
     "data": {
      "image/png": "[encoded data removed]",
      "text/plain": [
       "<PIL.Image.Image image mode=RGBA size=170x170 at 0x7F2554ED0EE0>"
      ]
     },
     "metadata": {},
     "output_type": "display_data"
    },
    {
     "data": {
      "image/png": "[encoded data removed]",
      "text/plain": [
       "<PIL.Image.Image image mode=RGBA size=290x210 at 0x7F2554031250>"
      ]
     },
     "metadata": {},
     "output_type": "display_data"
    },
    {
     "data": {
      "image/png": "[encoded data removed]",
      "text/plain": [
       "<PIL.Image.Image image mode=RGBA size=460x310 at 0x7F2554ED0F70>"
      ]
     },
     "metadata": {},
     "output_type": "display_data"
    }
   ],
   "source": [
    "maze = Maze(8,8)\n",
    "Sidewinder(maze)\n",
    "maze.add_colors()\n",
    "display(maze.draw(cell_width = 20))\n",
    "        \n",
    "maze = Maze(10,14)\n",
    "Sidewinder(maze)\n",
    "maze.add_colors(color=(0, 0, 255))\n",
    "display(maze.draw(cell_width = 20))\n",
    "\n",
    "maze = Maze(20,30)\n",
    "Sidewinder(maze)\n",
    "maze.add_colors(color=(0, 255, 0))\n",
    "display(maze.draw(cell_width = 15))"
   ]
  },
  {
   "cell_type": "markdown",
   "metadata": {},
   "source": [
    "## Basic Analysis\n",
    "\n",
    "### Time Complexity : O(N<sup>2</sup>)\n",
    "\n",
    "In this algorithm, we iterate over each and every node once, in a left to right, then top to bottom fashion. Assuming the number of rows/columns being N, we get that the time complexity is equal to the number of nodes.\n",
    "\n",
    "### Additional Space : O(N)\n",
    "\n",
    "The additional space here is O(N) in worst case. This can be seen in the case where we are somehow able to carve east for the entire row, thus making the size of our selected set N, assuming the row has N nodes.\n",
    "\n",
    "### Bias\n",
    "\n",
    "A very obvious issue with this algorithm is that the first row of the maze will always have to be completely carved eastward, which maybe taken advantage of by solving algorithms as the first row can act as the 'root' from which the maze can be solved. "
   ]
  }
 ],
 "metadata": {
  "kernelspec": {
   "display_name": "Python 3",
   "language": "python",
   "name": "python3"
  },
  "language_info": {
   "codemirror_mode": {
    "name": "ipython",
    "version": 3
   },
   "file_extension": ".py",
   "mimetype": "text/x-python",
   "name": "python",
   "nbconvert_exporter": "python",
   "pygments_lexer": "ipython3",
   "version": "3.8.6"
  }
 },
 "nbformat": 4,
 "nbformat_minor": 4
}
