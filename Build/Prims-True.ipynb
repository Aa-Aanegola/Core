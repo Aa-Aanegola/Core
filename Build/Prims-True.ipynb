{
 "cells": [
  {
   "cell_type": "code",
   "execution_count": 6,
   "metadata": {},
   "outputs": [],
   "source": [
    "import sys\n",
    "import random\n",
    "sys.path.append(\"../\")\n",
    "from Core.maze import Maze\n",
    "from functools import reduce"
   ]
  },
  {
   "cell_type": "markdown",
   "metadata": {},
   "source": [
    "# True Prim's Algorithm\n",
    "\n",
    "## How does it work?\n",
    "Prim's Algorithm works similarly to Djikstra's algorithm, starting at one point in the grid and moving outward like water flowing, but in this case it constructs a spanning tree across the grid, thus generating a maze. As opposed to the Simple Prim's Algorithm which treats every node indifferently, True Prim's Algorithm assigns weights to cells and then greedily adds paths between these cells to produce the maze.\n",
    "\n",
    "## Is every node connected?\n",
    "Yes, every node is connected. This is due to the fact that the algorithm starts at an arbitrary node and does not terminate until all the nodes have been added to the maze."
   ]
  },
  {
   "cell_type": "code",
   "execution_count": 7,
   "metadata": {},
   "outputs": [],
   "source": [
    "def TruePrims(maze):\n",
    "    # populate the matrix with random weights for each nodde\n",
    "    weights = [\n",
    "        [random.randint(0, 100) for i in range(maze.num_columns)] \n",
    "        for j in range(maze.num_rows)\n",
    "    ]\n",
    "    \n",
    "    unvisited = set([\n",
    "        (x, y) for x in range(maze.num_columns) for y in range(maze.num_rows)\n",
    "    ])\n",
    "    \n",
    "    # randomly pick a node to start from\n",
    "    initial = (\n",
    "        random.randint(0, maze.num_rows - 1), \n",
    "        random.randint(0, maze.num_columns - 1)\n",
    "    )\n",
    "\n",
    "    current = initial\n",
    "    reachable = set()\n",
    "    while True:\n",
    "        unvisited.remove((current[0], current[1]))\n",
    "        \n",
    "        # compute reachable neighbors from current node\n",
    "        if current[0] > 0 and (current[0] - 1, current[1]) in unvisited:\n",
    "            reachable.add((current[0] - 1, current[1]))\n",
    "        if current[0] < maze.num_columns - 1 and (current[0] + 1, current[1]) in unvisited:\n",
    "            reachable.add((current[0] + 1, current[1]))\n",
    "        if current[1] > 0 and (current[0], current[1] - 1) in unvisited:\n",
    "            reachable.add((current[0], current[1] - 1))\n",
    "        if current[1] < maze.num_rows - 1 and (current[0], current[1] + 1) in unvisited:\n",
    "            reachable.add((current[0], current[1] + 1))\n",
    "        \n",
    "        # pick the next reachable node having least weight\n",
    "        adjacent = reduce(\n",
    "            lambda a, b: a if weights[a[0]][a[1]] < weights[b[0]][b[1]] else b, \n",
    "            list(reachable)\n",
    "        )\n",
    "        \n",
    "        # determine direction of path to be added\n",
    "        directions = []\n",
    "        if adjacent[0] > 0 and (adjacent[0] - 1, adjacent[1]) not in unvisited:\n",
    "            directions.append(\"W\")\n",
    "        if adjacent[0] < maze.num_columns - 1 and (adjacent[0] + 1, adjacent[1]) not in unvisited:\n",
    "            directions.append(\"E\")\n",
    "        if adjacent[1] > 0 and (adjacent[0], adjacent[1] - 1) not in unvisited:\n",
    "            directions.append(\"N\")\n",
    "        if adjacent[1] < maze.num_rows - 1 and (adjacent[0], adjacent[1] + 1) not in unvisited:\n",
    "            directions.append(\"S\")\n",
    "        \n",
    "        path = random.choice(directions)\n",
    "        \n",
    "        maze.add_path((adjacent[0], adjacent[1]), path, 0)\n",
    "        reachable.remove(adjacent)\n",
    "        current = adjacent\n",
    "        \n",
    "        # terminate when no more reachable nodes are left\n",
    "        if not reachable:\n",
    "            return initial"
   ]
  },
  {
   "cell_type": "code",
   "execution_count": 3,
   "metadata": {},
   "outputs": [
    {
     "data": {
      "image/png": "[encoded data removed]",
      "text/plain": [
       "<PIL.Image.Image image mode=RGBA size=330x330 at 0x7F6B1C023610>"
      ]
     },
     "metadata": {},
     "output_type": "display_data"
    }
   ],
   "source": [
    "maze = Maze(4, 4)\n",
    "initial = TruePrims(maze)\n",
    "maze.add_colors(start=initial, color=(0, 255, 255))\n",
    "display(maze.draw(cell_width=80))"
   ]
  },
  {
   "cell_type": "code",
   "execution_count": 4,
   "metadata": {},
   "outputs": [
    {
     "data": {
      "image/png": "[encoded data removed]",
      "text/plain": [
       "<PIL.Image.Image image mode=RGBA size=330x330 at 0x7F6B1C023AD0>"
      ]
     },
     "metadata": {},
     "output_type": "display_data"
    }
   ],
   "source": [
    "maze = Maze(8, 8)\n",
    "initial = TruePrims(maze)\n",
    "maze.add_colors(start=initial, color=(0, 255, 255))\n",
    "display(maze.draw(cell_width=40))"
   ]
  },
  {
   "cell_type": "code",
   "execution_count": 5,
   "metadata": {},
   "outputs": [
    {
     "data": {
      "image/png": "[encoded data removed]",
      "text/plain": [
       "<PIL.Image.Image image mode=RGBA size=330x330 at 0x7F6B1542EE90>"
      ]
     },
     "metadata": {},
     "output_type": "display_data"
    }
   ],
   "source": [
    "maze = Maze(16, 16)\n",
    "initial = TruePrims(maze)\n",
    "maze.add_colors(start=initial, color=(0, 255, 255))\n",
    "display(maze.draw(cell_width=20))"
   ]
  },
  {
   "cell_type": "markdown",
   "metadata": {},
   "source": [
    "## Basic Analysis\n",
    "### Time Complexity: O(N<sup>2</sup>)\n",
    "The time complexity of Prim's Algorithm depends on the data structure used as input. We use a grid/adjacency matrix representation as input and traverse all the nodes once, and in this particular implementation, a new grid having the same dimensions but with randomized weights for each node has to be constructed. So the time complexity turns out to be O(2N<sup>2</sup>) = O(N<sup>2</sup>), where N is the number of cells/nodes in the grid.\n",
    "\n",
    "### Space Complexity: O(N)\n",
    "We're required to keep track of visited/unvisited nodes in the grid to avoid cycles in the spanning tree constructed by our algorithm, and in this particular implementation, another grid that contains weights for each node randomly generated by the algorithm before traversal. Hence, the space complexity would be O(2N) = O(N), where N is the number of cells/nodes in the grid.\n",
    "\n",
    "### Bias/Texture:\n",
    "Maps generated using True Prim's Algorithm have a noticeably different texture than those generated using Simple Prim's Algorithm, but similar to those generated using a Randomized Kruskal's Algorithm. This is due to the fact that since each node possesses a different weight, the spanning tree does not grow out radially from the initial node as it would on an equally weighted grid but would be biased towards nodes with lower weights."
   ]
  },
  {
   "cell_type": "code",
   "execution_count": null,
   "metadata": {},
   "outputs": [],
   "source": [
    "total = {\"Deadends\": 0, \"Straightways\": 0, \"LeftTurns\": 0, \"RightTurns\": 0, \"Junctions\": 0, \"Crossroads\": 0}\n",
    "for i in range(0, 100):\n",
    "    maze = Maze(100, 100)\n",
    "    TruePrims(maze)\n",
    "    partial = maze.benchmark()\n",
    "    total[\"Deadends\"] += partial[\"Deadends\"]\n",
    "    total[\"Straightways\"] += partial[\"Straightways\"]\n",
    "    total[\"LeftTurns\"] += partial[\"LeftTurns\"]\n",
    "    total[\"RightTurns\"] += partial[\"RightTurns\"]\n",
    "    total[\"Junctions\"] += partial[\"Junctions\"]\n",
    "    total[\"Crossroads\"] += partial[\"Crossroads\"]\n",
    "\n",
    "div = 0\n",
    "for i in total:\n",
    "    div += total[i]\n",
    "\n",
    "for i in total:\n",
    "    total[i] /= div\n",
    "    total[i] *= 100\n",
    "    round(total[i], 3)\n",
    "\n",
    "for i in total:\n",
    "    print(\"%12s %s %3f\" % (i, \" : \", total[i]))"
   ]
  },
  {
   "cell_type": "code",
   "execution_count": null,
   "metadata": {},
   "outputs": [],
   "source": []
  }
 ],
 "metadata": {
  "kernelspec": {
   "display_name": "Python 3",
   "language": "python",
   "name": "python3"
  },
  "language_info": {
   "codemirror_mode": {
    "name": "ipython",
    "version": 3
   },
   "file_extension": ".py",
   "mimetype": "text/x-python",
   "name": "python",
   "nbconvert_exporter": "python",
   "pygments_lexer": "ipython3",
   "version": "3.7.7"
  }
 },
 "nbformat": 4,
 "nbformat_minor": 4
}
